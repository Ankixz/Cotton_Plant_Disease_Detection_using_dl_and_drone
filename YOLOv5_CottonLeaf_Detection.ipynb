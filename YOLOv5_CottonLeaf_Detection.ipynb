{
  "nbformat": 4,
  "nbformat_minor": 0,
  "metadata": {
    "colab": {
      "provenance": [],
      "gpuType": "T4",
      "authorship_tag": "ABX9TyMF1w1HL/aUXhUzVRdSbp6+",
      "include_colab_link": true
    },
    "kernelspec": {
      "name": "python3",
      "display_name": "Python 3"
    },
    "language_info": {
      "name": "python"
    },
    "accelerator": "GPU"
  },
  "cells": [
    {
      "cell_type": "markdown",
      "metadata": {
        "id": "view-in-github",
        "colab_type": "text"
      },
      "source": [
        "<a href=\"https://colab.research.google.com/github/Ankixz/Cotton_Plant_Disease_Detection_using_dl_and_drone/blob/main/YOLOv5_CottonLeaf_Detection.ipynb\" target=\"_parent\"><img src=\"https://colab.research.google.com/assets/colab-badge.svg\" alt=\"Open In Colab\"/></a>"
      ]
    },
    {
      "cell_type": "code",
      "execution_count": null,
      "metadata": {
        "colab": {
          "base_uri": "https://localhost:8080/"
        },
        "id": "2XZOip9MAlRh",
        "outputId": "f523404f-7462-45a6-9b9c-210e480bf6fa"
      },
      "outputs": [
        {
          "output_type": "stream",
          "name": "stdout",
          "text": [
            "Mounted at /content/drive\n"
          ]
        }
      ],
      "source": [
        "from google.colab import drive\n",
        "drive.mount('/content/drive')"
      ]
    },
    {
      "cell_type": "code",
      "source": [
        "\n",
        "\n",
        "# Define your project directory in Drive for saving results\n",
        "# This will be where your YOLOv5 training runs (models, plots, metrics) are saved.\n",
        "YOLOV5_RESULTS_DIR = '/content/drive/MyDrive/cotton_project/yolov5_training_runs'\n",
        "import os\n",
        "os.makedirs(YOLOV5_RESULTS_DIR, exist_ok=True)\n",
        "print(f\"✅ YOLOv5 results will be saved to: {YOLOV5_RESULTS_DIR}\")\n",
        "\n",
        "# Cell 3: Clone YOLOv5 Repository\n",
        "# This is the command you just ran.\n",
        "!git clone https://github.com/ultralytics/yolov5.git\n",
        "print(\"✅ YOLOv5 repository cloned!\")\n",
        "\n",
        "# Cell 4: Install Dependencies and Navigate to YOLOv5 Directory\n",
        "# This navigates you into the yolov5 folder for subsequent commands\n",
        "%cd yolov5\n",
        "!pip install -r requirements.txt\n",
        "print(\"✅ YOLOv5 dependencies installed!\")\n",
        "\n",
        "# Cell 5: Verify YOLOv5 Installation (Optional but Recommended)\n",
        "# This uses a pre-trained model to detect objects on sample images.\n",
        "# It confirms your environment is set up correctly for YOLOv5.\n",
        "print(\"Running a quick YOLOv5 detection test...\")\n",
        "!python detect.py --source data/images --weights yolov5s.pt --conf 0.25 --device 0 # --device 0 ensures GPU is used if available\n",
        "print(\"✅ YOLOv5 test detection complete. Check 'runs/detect' for results.\")\n",
        "\n",
        "# Cell 6: Verify Data.yaml Path and Content (Crucial Check)\n",
        "# This step is to ensure your data.yaml is accessible and correct from the YOLOv5 directory.\n",
        "# Adjust the path below if your cotton_leaf_data.yaml is NOT in '/content/drive/MyDrive/cotton_project/'\n",
        "DATA_YAML_PATH = '/content/drive/MyDrive/cotton_project/cotton_leaf_data.yaml'\n",
        "\n",
        "print(f\"\\n--- Verifying data.yaml at {DATA_YAML_PATH} ---\")\n",
        "!cat \"{DATA_YAML_PATH}\" # Use 'cat' to display the content of the file\n",
        "print(\"--- End of data.yaml content ---\")\n",
        "\n",
        "# Optional: Add a quick check to see if the dataset images/labels exist\n",
        "# This helps catch common path errors before training.\n",
        "# Replace with the actual absolute path to your cotton_yolov5_dataset if different.\n",
        "YOLOV5_DATASET_ROOT = '/content/drive/MyDrive/cotton_project/cotton_yolov5_dataset'\n",
        "if os.path.exists(f\"{YOLOV5_DATASET_ROOT}/images/train\") and \\\n",
        "   os.path.exists(f\"{YOLOV5_DATASET_ROOT}/labels/train\"):\n",
        "    print(f\"✅ Training image and label folders found at {YOLOV5_DATASET_ROOT}/images/train and labels/train.\")\n",
        "    # Count some files to be more specific\n",
        "    import glob\n",
        "    num_train_images = len(glob.glob(f\"{YOLOV5_DATASET_ROOT}/images/train/*.jpg\"))\n",
        "    num_train_labels = len(glob.glob(f\"{YOLOV5_DATASET_ROOT}/labels/train/*.txt\"))\n",
        "    print(f\"   Found {num_train_images} training images and {num_train_labels} training labels.\")\n",
        "    if num_train_images != num_train_labels:\n",
        "        print(\"   ⚠️ WARNING: Number of training images and labels do NOT match. Check your data!\")\n",
        "else:\n",
        "    print(f\"   ❌ ERROR: Training image or label folders NOT found at {YOLOV5_DATASET_ROOT}. Please check your path.\")"
      ],
      "metadata": {
        "colab": {
          "base_uri": "https://localhost:8080/"
        },
        "id": "F8XfzBWCBOd1",
        "outputId": "df4b2b07-6796-4f63-9612-34099c566390"
      },
      "execution_count": null,
      "outputs": [
        {
          "output_type": "stream",
          "name": "stdout",
          "text": [
            "✅ YOLOv5 results will be saved to: /content/drive/MyDrive/cotton_project/yolov5_training_runs\n",
            "Cloning into 'yolov5'...\n",
            "remote: Enumerating objects: 17488, done.\u001b[K\n",
            "remote: Counting objects: 100% (2/2), done.\u001b[K\n",
            "remote: Compressing objects: 100% (2/2), done.\u001b[K\n",
            "remote: Total 17488 (delta 0), reused 0 (delta 0), pack-reused 17486 (from 2)\u001b[K\n",
            "Receiving objects: 100% (17488/17488), 16.59 MiB | 8.10 MiB/s, done.\n",
            "Resolving deltas: 100% (11991/11991), done.\n",
            "✅ YOLOv5 repository cloned!\n",
            "/content/yolov5/yolov5/yolov5\n",
            "Requirement already satisfied: gitpython>=3.1.30 in /usr/local/lib/python3.11/dist-packages (from -r requirements.txt (line 5)) (3.1.44)\n",
            "Requirement already satisfied: matplotlib>=3.3 in /usr/local/lib/python3.11/dist-packages (from -r requirements.txt (line 6)) (3.10.0)\n",
            "Requirement already satisfied: numpy>=1.23.5 in /usr/local/lib/python3.11/dist-packages (from -r requirements.txt (line 7)) (2.0.2)\n",
            "Requirement already satisfied: opencv-python>=4.1.1 in /usr/local/lib/python3.11/dist-packages (from -r requirements.txt (line 8)) (4.11.0.86)\n",
            "Requirement already satisfied: pillow>=10.3.0 in /usr/local/lib/python3.11/dist-packages (from -r requirements.txt (line 9)) (11.2.1)\n",
            "Requirement already satisfied: psutil in /usr/local/lib/python3.11/dist-packages (from -r requirements.txt (line 10)) (5.9.5)\n",
            "Requirement already satisfied: PyYAML>=5.3.1 in /usr/local/lib/python3.11/dist-packages (from -r requirements.txt (line 11)) (6.0.2)\n",
            "Requirement already satisfied: requests>=2.32.2 in /usr/local/lib/python3.11/dist-packages (from -r requirements.txt (line 12)) (2.32.3)\n",
            "Requirement already satisfied: scipy>=1.4.1 in /usr/local/lib/python3.11/dist-packages (from -r requirements.txt (line 13)) (1.15.3)\n",
            "Requirement already satisfied: thop>=0.1.1 in /usr/local/lib/python3.11/dist-packages (from -r requirements.txt (line 14)) (0.1.1.post2209072238)\n",
            "Requirement already satisfied: torch>=1.8.0 in /usr/local/lib/python3.11/dist-packages (from -r requirements.txt (line 15)) (2.6.0+cu124)\n",
            "Requirement already satisfied: torchvision>=0.9.0 in /usr/local/lib/python3.11/dist-packages (from -r requirements.txt (line 16)) (0.21.0+cu124)\n",
            "Requirement already satisfied: tqdm>=4.66.3 in /usr/local/lib/python3.11/dist-packages (from -r requirements.txt (line 17)) (4.67.1)\n",
            "Requirement already satisfied: ultralytics>=8.2.34 in /usr/local/lib/python3.11/dist-packages (from -r requirements.txt (line 18)) (8.3.152)\n",
            "Requirement already satisfied: pandas>=1.1.4 in /usr/local/lib/python3.11/dist-packages (from -r requirements.txt (line 27)) (2.2.2)\n",
            "Requirement already satisfied: seaborn>=0.11.0 in /usr/local/lib/python3.11/dist-packages (from -r requirements.txt (line 28)) (0.13.2)\n",
            "Requirement already satisfied: setuptools>=70.0.0 in /usr/local/lib/python3.11/dist-packages (from -r requirements.txt (line 42)) (75.2.0)\n",
            "Requirement already satisfied: gitdb<5,>=4.0.1 in /usr/local/lib/python3.11/dist-packages (from gitpython>=3.1.30->-r requirements.txt (line 5)) (4.0.12)\n",
            "Requirement already satisfied: contourpy>=1.0.1 in /usr/local/lib/python3.11/dist-packages (from matplotlib>=3.3->-r requirements.txt (line 6)) (1.3.2)\n",
            "Requirement already satisfied: cycler>=0.10 in /usr/local/lib/python3.11/dist-packages (from matplotlib>=3.3->-r requirements.txt (line 6)) (0.12.1)\n",
            "Requirement already satisfied: fonttools>=4.22.0 in /usr/local/lib/python3.11/dist-packages (from matplotlib>=3.3->-r requirements.txt (line 6)) (4.58.1)\n",
            "Requirement already satisfied: kiwisolver>=1.3.1 in /usr/local/lib/python3.11/dist-packages (from matplotlib>=3.3->-r requirements.txt (line 6)) (1.4.8)\n",
            "Requirement already satisfied: packaging>=20.0 in /usr/local/lib/python3.11/dist-packages (from matplotlib>=3.3->-r requirements.txt (line 6)) (24.2)\n",
            "Requirement already satisfied: pyparsing>=2.3.1 in /usr/local/lib/python3.11/dist-packages (from matplotlib>=3.3->-r requirements.txt (line 6)) (3.2.3)\n",
            "Requirement already satisfied: python-dateutil>=2.7 in /usr/local/lib/python3.11/dist-packages (from matplotlib>=3.3->-r requirements.txt (line 6)) (2.9.0.post0)\n",
            "Requirement already satisfied: charset-normalizer<4,>=2 in /usr/local/lib/python3.11/dist-packages (from requests>=2.32.2->-r requirements.txt (line 12)) (3.4.2)\n",
            "Requirement already satisfied: idna<4,>=2.5 in /usr/local/lib/python3.11/dist-packages (from requests>=2.32.2->-r requirements.txt (line 12)) (3.10)\n",
            "Requirement already satisfied: urllib3<3,>=1.21.1 in /usr/local/lib/python3.11/dist-packages (from requests>=2.32.2->-r requirements.txt (line 12)) (2.4.0)\n",
            "Requirement already satisfied: certifi>=2017.4.17 in /usr/local/lib/python3.11/dist-packages (from requests>=2.32.2->-r requirements.txt (line 12)) (2025.4.26)\n",
            "Requirement already satisfied: filelock in /usr/local/lib/python3.11/dist-packages (from torch>=1.8.0->-r requirements.txt (line 15)) (3.18.0)\n",
            "Requirement already satisfied: typing-extensions>=4.10.0 in /usr/local/lib/python3.11/dist-packages (from torch>=1.8.0->-r requirements.txt (line 15)) (4.14.0)\n",
            "Requirement already satisfied: networkx in /usr/local/lib/python3.11/dist-packages (from torch>=1.8.0->-r requirements.txt (line 15)) (3.5)\n",
            "Requirement already satisfied: jinja2 in /usr/local/lib/python3.11/dist-packages (from torch>=1.8.0->-r requirements.txt (line 15)) (3.1.6)\n",
            "Requirement already satisfied: fsspec in /usr/local/lib/python3.11/dist-packages (from torch>=1.8.0->-r requirements.txt (line 15)) (2025.3.2)\n",
            "Requirement already satisfied: nvidia-cuda-nvrtc-cu12==12.4.127 in /usr/local/lib/python3.11/dist-packages (from torch>=1.8.0->-r requirements.txt (line 15)) (12.4.127)\n",
            "Requirement already satisfied: nvidia-cuda-runtime-cu12==12.4.127 in /usr/local/lib/python3.11/dist-packages (from torch>=1.8.0->-r requirements.txt (line 15)) (12.4.127)\n",
            "Requirement already satisfied: nvidia-cuda-cupti-cu12==12.4.127 in /usr/local/lib/python3.11/dist-packages (from torch>=1.8.0->-r requirements.txt (line 15)) (12.4.127)\n",
            "Requirement already satisfied: nvidia-cudnn-cu12==9.1.0.70 in /usr/local/lib/python3.11/dist-packages (from torch>=1.8.0->-r requirements.txt (line 15)) (9.1.0.70)\n",
            "Requirement already satisfied: nvidia-cublas-cu12==12.4.5.8 in /usr/local/lib/python3.11/dist-packages (from torch>=1.8.0->-r requirements.txt (line 15)) (12.4.5.8)\n",
            "Requirement already satisfied: nvidia-cufft-cu12==11.2.1.3 in /usr/local/lib/python3.11/dist-packages (from torch>=1.8.0->-r requirements.txt (line 15)) (11.2.1.3)\n",
            "Requirement already satisfied: nvidia-curand-cu12==10.3.5.147 in /usr/local/lib/python3.11/dist-packages (from torch>=1.8.0->-r requirements.txt (line 15)) (10.3.5.147)\n",
            "Requirement already satisfied: nvidia-cusolver-cu12==11.6.1.9 in /usr/local/lib/python3.11/dist-packages (from torch>=1.8.0->-r requirements.txt (line 15)) (11.6.1.9)\n",
            "Requirement already satisfied: nvidia-cusparse-cu12==12.3.1.170 in /usr/local/lib/python3.11/dist-packages (from torch>=1.8.0->-r requirements.txt (line 15)) (12.3.1.170)\n",
            "Requirement already satisfied: nvidia-cusparselt-cu12==0.6.2 in /usr/local/lib/python3.11/dist-packages (from torch>=1.8.0->-r requirements.txt (line 15)) (0.6.2)\n",
            "Requirement already satisfied: nvidia-nccl-cu12==2.21.5 in /usr/local/lib/python3.11/dist-packages (from torch>=1.8.0->-r requirements.txt (line 15)) (2.21.5)\n",
            "Requirement already satisfied: nvidia-nvtx-cu12==12.4.127 in /usr/local/lib/python3.11/dist-packages (from torch>=1.8.0->-r requirements.txt (line 15)) (12.4.127)\n",
            "Requirement already satisfied: nvidia-nvjitlink-cu12==12.4.127 in /usr/local/lib/python3.11/dist-packages (from torch>=1.8.0->-r requirements.txt (line 15)) (12.4.127)\n",
            "Requirement already satisfied: triton==3.2.0 in /usr/local/lib/python3.11/dist-packages (from torch>=1.8.0->-r requirements.txt (line 15)) (3.2.0)\n",
            "Requirement already satisfied: sympy==1.13.1 in /usr/local/lib/python3.11/dist-packages (from torch>=1.8.0->-r requirements.txt (line 15)) (1.13.1)\n",
            "Requirement already satisfied: mpmath<1.4,>=1.1.0 in /usr/local/lib/python3.11/dist-packages (from sympy==1.13.1->torch>=1.8.0->-r requirements.txt (line 15)) (1.3.0)\n",
            "Requirement already satisfied: py-cpuinfo in /usr/local/lib/python3.11/dist-packages (from ultralytics>=8.2.34->-r requirements.txt (line 18)) (9.0.0)\n",
            "Requirement already satisfied: ultralytics-thop>=2.0.0 in /usr/local/lib/python3.11/dist-packages (from ultralytics>=8.2.34->-r requirements.txt (line 18)) (2.0.14)\n",
            "Requirement already satisfied: pytz>=2020.1 in /usr/local/lib/python3.11/dist-packages (from pandas>=1.1.4->-r requirements.txt (line 27)) (2025.2)\n",
            "Requirement already satisfied: tzdata>=2022.7 in /usr/local/lib/python3.11/dist-packages (from pandas>=1.1.4->-r requirements.txt (line 27)) (2025.2)\n",
            "Requirement already satisfied: smmap<6,>=3.0.1 in /usr/local/lib/python3.11/dist-packages (from gitdb<5,>=4.0.1->gitpython>=3.1.30->-r requirements.txt (line 5)) (5.0.2)\n",
            "Requirement already satisfied: six>=1.5 in /usr/local/lib/python3.11/dist-packages (from python-dateutil>=2.7->matplotlib>=3.3->-r requirements.txt (line 6)) (1.17.0)\n",
            "Requirement already satisfied: MarkupSafe>=2.0 in /usr/local/lib/python3.11/dist-packages (from jinja2->torch>=1.8.0->-r requirements.txt (line 15)) (3.0.2)\n",
            "✅ YOLOv5 dependencies installed!\n",
            "Running a quick YOLOv5 detection test...\n",
            "\u001b[34m\u001b[1mdetect: \u001b[0mweights=['yolov5s.pt'], source=data/images, data=data/coco128.yaml, imgsz=[640, 640], conf_thres=0.25, iou_thres=0.45, max_det=1000, device=0, view_img=False, save_txt=False, save_format=0, save_csv=False, save_conf=False, save_crop=False, nosave=False, classes=None, agnostic_nms=False, augment=False, visualize=False, update=False, project=runs/detect, name=exp, exist_ok=False, line_thickness=3, hide_labels=False, hide_conf=False, half=False, dnn=False, vid_stride=1\n",
            "YOLOv5 🚀 v7.0-420-g0c99ce80 Python-3.11.13 torch-2.6.0+cu124 CUDA:0 (Tesla T4, 15095MiB)\n",
            "\n",
            "Downloading https://github.com/ultralytics/yolov5/releases/download/v7.0/yolov5s.pt to yolov5s.pt...\n",
            "100% 14.1M/14.1M [00:00<00:00, 315MB/s]\n",
            "\n",
            "Fusing layers... \n",
            "YOLOv5s summary: 213 layers, 7225885 parameters, 0 gradients, 16.4 GFLOPs\n",
            "image 1/2 /content/yolov5/yolov5/yolov5/data/images/bus.jpg: 640x480 4 persons, 1 bus, 50.2ms\n",
            "image 2/2 /content/yolov5/yolov5/yolov5/data/images/zidane.jpg: 384x640 2 persons, 2 ties, 53.4ms\n",
            "Speed: 0.6ms pre-process, 51.8ms inference, 116.1ms NMS per image at shape (1, 3, 640, 640)\n",
            "Results saved to \u001b[1mruns/detect/exp\u001b[0m\n",
            "✅ YOLOv5 test detection complete. Check 'runs/detect' for results.\n",
            "\n",
            "--- Verifying data.yaml at /content/drive/MyDrive/cotton_project/cotton_leaf_data.yaml ---\n",
            "cat: /content/drive/MyDrive/cotton_project/cotton_leaf_data.yaml: No such file or directory\n",
            "--- End of data.yaml content ---\n",
            "✅ Training image and label folders found at /content/drive/MyDrive/cotton_project/cotton_yolov5_dataset/images/train and labels/train.\n",
            "   Found 641 training images and 641 training labels.\n"
          ]
        }
      ]
    },
    {
      "cell_type": "code",
      "source": [
        "# Cell 7: Train YOLOv5 Model\n",
        "# Make sure you are still in the 'yolov5' directory (%cd yolov5 was run previously)\n",
        "\n",
        "# IMPORTANT:\n",
        "# - Adjust 'epochs' if you want more or fewer. 50-100 is a good starting point for your dataset size.\n",
        "# - Adjust 'batch-size' based on your GPU memory (16 or 32 are common). If you get OOM, reduce it.\n",
        "# - 'imgsz' (image size) can be 640 or 1280. 640 is standard, 1280 for higher resolution if needed and GPU allows.\n",
        "\n",
        "!python train.py \\\n",
        "    --data \"{DATA_YAML_PATH}\" \\\n",
        "    --cfg yolov5s.yaml \\\n",
        "    --weights yolov5s.pt \\\n",
        "    --epochs 5 \\\n",
        "    --batch-size 16 \\\n",
        "    --imgsz 640 \\\n",
        "    --name cotton_leaf_detector \\\n",
        "    --project \"{YOLOV5_RESULTS_DIR}\" \\\n",
        "    --cache disk # Speeds up training by caching images to disk"
      ],
      "metadata": {
        "colab": {
          "base_uri": "https://localhost:8080/"
        },
        "id": "bfo013WKB2nG",
        "outputId": "90eea8d8-5651-4bc8-ba33-97bcd482586e"
      },
      "execution_count": null,
      "outputs": [
        {
          "output_type": "stream",
          "name": "stdout",
          "text": [
            "\u001b[34m\u001b[1mwandb\u001b[0m: WARNING ⚠️ wandb is deprecated and will be removed in a future release. See supported integrations at https://github.com/ultralytics/yolov5#integrations.\n",
            "2025-06-09 18:57:20.280758: E external/local_xla/xla/stream_executor/cuda/cuda_fft.cc:477] Unable to register cuFFT factory: Attempting to register factory for plugin cuFFT when one has already been registered\n",
            "WARNING: All log messages before absl::InitializeLog() is called are written to STDERR\n",
            "E0000 00:00:1749495440.302576    5030 cuda_dnn.cc:8310] Unable to register cuDNN factory: Attempting to register factory for plugin cuDNN when one has already been registered\n",
            "E0000 00:00:1749495440.309208    5030 cuda_blas.cc:1418] Unable to register cuBLAS factory: Attempting to register factory for plugin cuBLAS when one has already been registered\n",
            "\u001b[34m\u001b[1mwandb\u001b[0m: (1) Create a W&B account\n",
            "\u001b[34m\u001b[1mwandb\u001b[0m: (2) Use an existing W&B account\n",
            "\u001b[34m\u001b[1mwandb\u001b[0m: (3) Don't visualize my results\n",
            "\u001b[34m\u001b[1mwandb\u001b[0m: Enter your choice: (30 second timeout) 3\n",
            "\u001b[34m\u001b[1mwandb\u001b[0m: You chose \"Don't visualize my results\"\n",
            "\u001b[34m\u001b[1mtrain: \u001b[0mweights=yolov5s.pt, cfg=yolov5s.yaml, data=/content/drive/MyDrive/cotton_project/cotton_leaf_data.yaml, hyp=data/hyps/hyp.scratch-low.yaml, epochs=5, batch_size=16, imgsz=640, rect=False, resume=False, nosave=False, noval=False, noautoanchor=False, noplots=False, evolve=None, evolve_population=data/hyps, resume_evolve=None, bucket=, cache=disk, image_weights=False, device=, multi_scale=False, single_cls=False, optimizer=SGD, sync_bn=False, workers=8, project=/content/drive/MyDrive/cotton_project/yolov5_training_runs, name=cotton_leaf_detector, exist_ok=False, quad=False, cos_lr=False, label_smoothing=0.0, patience=100, freeze=[0], save_period=-1, seed=0, local_rank=-1, entity=None, upload_dataset=False, bbox_interval=-1, artifact_alias=latest, ndjson_console=False, ndjson_file=False\n",
            "\u001b[34m\u001b[1mgithub: \u001b[0mup to date with https://github.com/ultralytics/yolov5 ✅\n",
            "Traceback (most recent call last):\n",
            "  File \"/content/yolov5/yolov5/yolov5/train.py\", line 986, in <module>\n",
            "    main(opt)\n",
            "  File \"/content/yolov5/yolov5/yolov5/train.py\", line 656, in main\n",
            "    check_file(opt.data),\n",
            "    ^^^^^^^^^^^^^^^^^^^^\n",
            "  File \"/content/yolov5/yolov5/yolov5/utils/general.py\", line 506, in check_file\n",
            "    assert len(files), f\"File not found: {file}\"  # assert file was found\n",
            "           ^^^^^^^^^^\n",
            "AssertionError: File not found: /content/drive/MyDrive/cotton_project/cotton_leaf_data.yaml\n"
          ]
        }
      ]
    },
    {
      "cell_type": "code",
      "source": [
        "!ls -l /content/drive/MyDrive/"
      ],
      "metadata": {
        "colab": {
          "base_uri": "https://localhost:8080/"
        },
        "id": "2KZh2iEzDs_A",
        "outputId": "5a606d6a-c725-429b-9b3d-77ebff152d8f"
      },
      "execution_count": null,
      "outputs": [
        {
          "output_type": "stream",
          "name": "stdout",
          "text": [
            "ls: /content/drive/MyDrive/Dataset_Trial1: No such file or directory\n",
            "total 130764\n",
            "drwx------ 2 root root      4096 Jun  9 18:00  ABC\n",
            "drwx------ 2 root root      4096 May  2 14:59 'Colab Notebooks'\n",
            "drwx------ 4 root root      4096 Jun  9 18:47  cotton_project\n",
            "lrw------- 1 root root         0 Jun  6 09:57  Dataset_Trial1 -> /content/drive/.shortcut-targets-by-id/16Rnoz5C6VpvowAfUE_OzdFFfoiJF-Xkr/Dataset_Trial1\n",
            "-rw------- 1 root root  32636560 May 12 20:36  densenet_model.h5\n",
            "-rw------- 1 root root 101248648 May 12 19:33  resnet50_model.h5\n",
            "drwx------ 2 root root      4096 Jun  9 16:38  yolo_subset\n"
          ]
        }
      ]
    },
    {
      "cell_type": "code",
      "source": [
        "# Cell 2: List contents of cotton_project\n",
        "!ls -l /content/drive/MyDrive/cotton_project/"
      ],
      "metadata": {
        "colab": {
          "base_uri": "https://localhost:8080/"
        },
        "id": "CqBcZNedEEN4",
        "outputId": "d699d187-e1ac-4bd9-a2a1-295490e82afb"
      },
      "execution_count": null,
      "outputs": [
        {
          "output_type": "stream",
          "name": "stdout",
          "text": [
            "total 32005\n",
            "drwx------ 2 root root     4096 Jun  7 14:44 backgrounds\n",
            "-rw------- 1 root root 16376974 Jun  8 06:48 baseline_classifier_head.pth\n",
            "-rw------- 1 root root 16373078 Jun  8 08:47 best_finetuned.pth\n",
            "-rw------- 1 root root      358 Jun  9 18:42 cotton_leaf_data.yaml.txt\n",
            "drwx------ 2 root root     4096 Jun  9 16:46 cotton_split\n",
            "drwx------ 4 root root     4096 Jun  9 18:06 cotton_yolov5_dataset\n",
            "drwx------ 2 root root     4096 Jun  8 09:33 Resized_yolo_clf\n",
            "-rw------- 1 root root     1220 Jun  8 08:47 training_history.pt\n",
            "drwx------ 2 root root     4096 Jun  9 18:47 yolov5_training_runs\n"
          ]
        }
      ]
    },
    {
      "cell_type": "code",
      "source": [
        "# Cell: Rename the data.yaml.txt file\n",
        "\n",
        "# Define the current incorrect path and the desired correct path\n",
        "OLD_PATH = '/content/drive/MyDrive/cotton_project/cotton_leaf_data.yaml.txt'\n",
        "NEW_PATH = '/content/drive/MyDrive/cotton_project/cotton_leaf_data.yaml'\n",
        "\n",
        "print(f\"Attempting to rename: {OLD_PATH} to {NEW_PATH}\")\n",
        "\n",
        "# Use the 'mv' (move) command to rename the file\n",
        "# 'mv' command works for both moving files to a new location and renaming them in the same location.\n",
        "!mv \"{OLD_PATH}\" \"{NEW_PATH}\"\n",
        "\n",
        "print(\"✅ Rename command executed. Verifying new name...\")\n",
        "\n",
        "# Verify that the file has been renamed\n",
        "!ls -l /content/drive/MyDrive/cotton_project/\n",
        "\n",
        "print(\"--- Renaming complete. ---\")"
      ],
      "metadata": {
        "colab": {
          "base_uri": "https://localhost:8080/"
        },
        "id": "09dUkwEPErun",
        "outputId": "654d3cb7-c94d-4aa4-ed2e-d52e13ad0e64"
      },
      "execution_count": null,
      "outputs": [
        {
          "output_type": "stream",
          "name": "stdout",
          "text": [
            "Attempting to rename: /content/drive/MyDrive/cotton_project/cotton_leaf_data.yaml.txt to /content/drive/MyDrive/cotton_project/cotton_leaf_data.yaml\n",
            "✅ Rename command executed. Verifying new name...\n",
            "total 32005\n",
            "drwx------ 2 root root     4096 Jun  7 14:44 backgrounds\n",
            "-rw------- 1 root root 16376974 Jun  8 06:48 baseline_classifier_head.pth\n",
            "-rw------- 1 root root 16373078 Jun  8 08:47 best_finetuned.pth\n",
            "-rw------- 1 root root      358 Jun  9 19:02 cotton_leaf_data.yaml\n",
            "drwx------ 2 root root     4096 Jun  9 16:46 cotton_split\n",
            "drwx------ 4 root root     4096 Jun  9 18:06 cotton_yolov5_dataset\n",
            "drwx------ 2 root root     4096 Jun  8 09:33 Resized_yolo_clf\n",
            "-rw------- 1 root root     1220 Jun  8 08:47 training_history.pt\n",
            "drwx------ 2 root root     4096 Jun  9 18:47 yolov5_training_runs\n",
            "--- Renaming complete. ---\n"
          ]
        }
      ]
    },
    {
      "cell_type": "code",
      "source": [
        "# Cell 7: Train YOLOv5 Model\n",
        "\n",
        "# IMPORTANT: Ensure DATA_YAML_PATH and YOLOV5_RESULTS_DIR are defined in previous cells\n",
        "# (they should be if you ran all the setup cells as instructed)\n",
        "\n",
        "!python train.py \\\n",
        "    --data \"{DATA_YAML_PATH}\" \\\n",
        "    --cfg yolov5s.yaml \\\n",
        "    --weights yolov5s.pt \\\n",
        "    --epochs 5 \\\n",
        "    --batch-size 16 \\\n",
        "    --imgsz 640 \\\n",
        "    --name cotton_leaf_detector \\\n",
        "    --project \"{YOLOV5_RESULTS_DIR}\" \\\n",
        "    --cache disk"
      ],
      "metadata": {
        "colab": {
          "base_uri": "https://localhost:8080/"
        },
        "id": "lcwkK4_gE0Y8",
        "outputId": "a76cf55e-fba4-47bb-c488-f7c2062bd5ae"
      },
      "execution_count": null,
      "outputs": [
        {
          "output_type": "stream",
          "name": "stdout",
          "text": [
            "\u001b[34m\u001b[1mwandb\u001b[0m: WARNING ⚠️ wandb is deprecated and will be removed in a future release. See supported integrations at https://github.com/ultralytics/yolov5#integrations.\n",
            "2025-06-09 19:06:45.368787: E external/local_xla/xla/stream_executor/cuda/cuda_fft.cc:477] Unable to register cuFFT factory: Attempting to register factory for plugin cuFFT when one has already been registered\n",
            "WARNING: All log messages before absl::InitializeLog() is called are written to STDERR\n",
            "E0000 00:00:1749496005.391055    7465 cuda_dnn.cc:8310] Unable to register cuDNN factory: Attempting to register factory for plugin cuDNN when one has already been registered\n",
            "E0000 00:00:1749496005.397528    7465 cuda_blas.cc:1418] Unable to register cuBLAS factory: Attempting to register factory for plugin cuBLAS when one has already been registered\n",
            "\u001b[34m\u001b[1mwandb\u001b[0m: (1) Create a W&B account\n",
            "\u001b[34m\u001b[1mwandb\u001b[0m: (2) Use an existing W&B account\n",
            "\u001b[34m\u001b[1mwandb\u001b[0m: (3) Don't visualize my results\n",
            "\u001b[34m\u001b[1mwandb\u001b[0m: Enter your choice: (30 second timeout) 3\n",
            "\u001b[34m\u001b[1mwandb\u001b[0m: You chose \"Don't visualize my results\"\n",
            "\u001b[34m\u001b[1mtrain: \u001b[0mweights=yolov5s.pt, cfg=yolov5s.yaml, data=/content/drive/MyDrive/cotton_project/cotton_leaf_data.yaml, hyp=data/hyps/hyp.scratch-low.yaml, epochs=5, batch_size=16, imgsz=640, rect=False, resume=False, nosave=False, noval=False, noautoanchor=False, noplots=False, evolve=None, evolve_population=data/hyps, resume_evolve=None, bucket=, cache=disk, image_weights=False, device=, multi_scale=False, single_cls=False, optimizer=SGD, sync_bn=False, workers=8, project=/content/drive/MyDrive/cotton_project/yolov5_training_runs, name=cotton_leaf_detector, exist_ok=False, quad=False, cos_lr=False, label_smoothing=0.0, patience=100, freeze=[0], save_period=-1, seed=0, local_rank=-1, entity=None, upload_dataset=False, bbox_interval=-1, artifact_alias=latest, ndjson_console=False, ndjson_file=False\n",
            "\u001b[34m\u001b[1mgithub: \u001b[0mup to date with https://github.com/ultralytics/yolov5 ✅\n",
            "YOLOv5 🚀 v7.0-420-g0c99ce80 Python-3.11.13 torch-2.6.0+cu124 CUDA:0 (Tesla T4, 15095MiB)\n",
            "\n",
            "\u001b[34m\u001b[1mhyperparameters: \u001b[0mlr0=0.01, lrf=0.01, momentum=0.937, weight_decay=0.0005, warmup_epochs=3.0, warmup_momentum=0.8, warmup_bias_lr=0.1, box=0.05, cls=0.5, cls_pw=1.0, obj=1.0, obj_pw=1.0, iou_t=0.2, anchor_t=4.0, fl_gamma=0.0, hsv_h=0.015, hsv_s=0.7, hsv_v=0.4, degrees=0.0, translate=0.1, scale=0.5, shear=0.0, perspective=0.0, flipud=0.0, fliplr=0.5, mosaic=1.0, mixup=0.0, copy_paste=0.0\n",
            "\u001b[34m\u001b[1mComet: \u001b[0mrun 'pip install comet_ml' to automatically track and visualize YOLOv5 🚀 runs in Comet\n",
            "\u001b[34m\u001b[1mTensorBoard: \u001b[0mStart with 'tensorboard --logdir /content/drive/MyDrive/cotton_project/yolov5_training_runs', view at http://localhost:6006/\n",
            "Downloading https://github.com/ultralytics/assets/releases/download/v0.0.0/Arial.ttf to /root/.config/Ultralytics/Arial.ttf...\n",
            "100% 755k/755k [00:00<00:00, 118MB/s]\n",
            "Overriding model.yaml nc=80 with nc=1\n",
            "\n",
            "                 from  n    params  module                                  arguments                     \n",
            "  0                -1  1      3520  models.common.Conv                      [3, 32, 6, 2, 2]              \n",
            "  1                -1  1     18560  models.common.Conv                      [32, 64, 3, 2]                \n",
            "  2                -1  1     18816  models.common.C3                        [64, 64, 1]                   \n",
            "  3                -1  1     73984  models.common.Conv                      [64, 128, 3, 2]               \n",
            "  4                -1  2    115712  models.common.C3                        [128, 128, 2]                 \n",
            "  5                -1  1    295424  models.common.Conv                      [128, 256, 3, 2]              \n",
            "  6                -1  3    625152  models.common.C3                        [256, 256, 3]                 \n",
            "  7                -1  1   1180672  models.common.Conv                      [256, 512, 3, 2]              \n",
            "  8                -1  1   1182720  models.common.C3                        [512, 512, 1]                 \n",
            "  9                -1  1    656896  models.common.SPPF                      [512, 512, 5]                 \n",
            " 10                -1  1    131584  models.common.Conv                      [512, 256, 1, 1]              \n",
            " 11                -1  1         0  torch.nn.modules.upsampling.Upsample    [None, 2, 'nearest']          \n",
            " 12           [-1, 6]  1         0  models.common.Concat                    [1]                           \n",
            " 13                -1  1    361984  models.common.C3                        [512, 256, 1, False]          \n",
            " 14                -1  1     33024  models.common.Conv                      [256, 128, 1, 1]              \n",
            " 15                -1  1         0  torch.nn.modules.upsampling.Upsample    [None, 2, 'nearest']          \n",
            " 16           [-1, 4]  1         0  models.common.Concat                    [1]                           \n",
            " 17                -1  1     90880  models.common.C3                        [256, 128, 1, False]          \n",
            " 18                -1  1    147712  models.common.Conv                      [128, 128, 3, 2]              \n",
            " 19          [-1, 14]  1         0  models.common.Concat                    [1]                           \n",
            " 20                -1  1    296448  models.common.C3                        [256, 256, 1, False]          \n",
            " 21                -1  1    590336  models.common.Conv                      [256, 256, 3, 2]              \n",
            " 22          [-1, 10]  1         0  models.common.Concat                    [1]                           \n",
            " 23                -1  1   1182720  models.common.C3                        [512, 512, 1, False]          \n",
            " 24      [17, 20, 23]  1     16182  models.yolo.Detect                      [1, [[10, 13, 16, 30, 33, 23], [30, 61, 62, 45, 59, 119], [116, 90, 156, 198, 373, 326]], [128, 256, 512]]\n",
            "YOLOv5s summary: 214 layers, 7022326 parameters, 7022326 gradients, 15.9 GFLOPs\n",
            "\n",
            "Transferred 342/349 items from yolov5s.pt\n",
            "/content/yolov5/yolov5/yolov5/models/common.py:906: FutureWarning: `torch.cuda.amp.autocast(args...)` is deprecated. Please use `torch.amp.autocast('cuda', args...)` instead.\n",
            "  with amp.autocast(autocast):\n",
            "/content/yolov5/yolov5/yolov5/models/common.py:906: FutureWarning: `torch.cuda.amp.autocast(args...)` is deprecated. Please use `torch.amp.autocast('cuda', args...)` instead.\n",
            "  with amp.autocast(autocast):\n",
            "\u001b[34m\u001b[1mAMP: \u001b[0mchecks passed ✅\n",
            "\u001b[34m\u001b[1moptimizer:\u001b[0m SGD(lr=0.01) with parameter groups 57 weight(decay=0.0), 60 weight(decay=0.0005), 60 bias\n",
            "\u001b[34m\u001b[1malbumentations: \u001b[0m1 validation error for InitSchema\n",
            "size\n",
            "  Field required [type=missing, input_value={'scale': (0.8, 1.0), 'ra...: None, 'strict': False}, input_type=dict]\n",
            "    For further information visit https://errors.pydantic.dev/2.11/v/missing\n",
            "\u001b[34m\u001b[1mtrain: \u001b[0mScanning /content/drive/MyDrive/cotton_project/cotton_yolov5_dataset/labels/train... 641 images, 0 backgrounds, 0 corrupt: 100% 641/641 [07:14<00:00,  1.48it/s]\n",
            "\u001b[34m\u001b[1mtrain: \u001b[0mNew cache created: /content/drive/MyDrive/cotton_project/cotton_yolov5_dataset/labels/train.cache\n",
            "\u001b[34m\u001b[1mtrain: \u001b[0mCaching images (0.3GB disk): 100% 641/641 [00:09<00:00, 67.81it/s]\n",
            "\u001b[34m\u001b[1mval: \u001b[0mScanning /content/drive/MyDrive/cotton_project/cotton_yolov5_dataset/labels/val... 161 images, 0 backgrounds, 0 corrupt: 100% 161/161 [01:48<00:00,  1.48it/s]\n",
            "\u001b[34m\u001b[1mval: \u001b[0mNew cache created: /content/drive/MyDrive/cotton_project/cotton_yolov5_dataset/labels/val.cache\n",
            "\u001b[34m\u001b[1mval: \u001b[0mCaching images (0.1GB disk): 100% 161/161 [00:02<00:00, 79.09it/s]\n",
            "\n",
            "\u001b[34m\u001b[1mAutoAnchor: \u001b[0m1.49 anchors/target, 1.000 Best Possible Recall (BPR). Current anchors are a good fit to dataset ✅\n",
            "Plotting labels to /content/drive/MyDrive/cotton_project/yolov5_training_runs/cotton_leaf_detector2/labels.jpg... \n",
            "/content/yolov5/yolov5/yolov5/train.py:355: FutureWarning: `torch.cuda.amp.GradScaler(args...)` is deprecated. Please use `torch.amp.GradScaler('cuda', args...)` instead.\n",
            "  scaler = torch.cuda.amp.GradScaler(enabled=amp)\n",
            "Image sizes 640 train, 640 val\n",
            "Using 2 dataloader workers\n",
            "Logging results to \u001b[1m/content/drive/MyDrive/cotton_project/yolov5_training_runs/cotton_leaf_detector2\u001b[0m\n",
            "Starting training for 5 epochs...\n",
            "\n",
            "      Epoch    GPU_mem   box_loss   obj_loss   cls_loss  Instances       Size\n",
            "  0% 0/41 [00:00<?, ?it/s]/content/yolov5/yolov5/yolov5/train.py:412: FutureWarning: `torch.cuda.amp.autocast(args...)` is deprecated. Please use `torch.amp.autocast('cuda', args...)` instead.\n",
            "  with torch.cuda.amp.autocast(amp):\n",
            "        0/4      3.51G    0.08191    0.03375          0         53        640:   2% 1/41 [00:03<02:26,  3.65s/it]/content/yolov5/yolov5/yolov5/train.py:412: FutureWarning: `torch.cuda.amp.autocast(args...)` is deprecated. Please use `torch.amp.autocast('cuda', args...)` instead.\n",
            "  with torch.cuda.amp.autocast(amp):\n",
            "        0/4      3.55G    0.08265    0.03242          0         41        640:   5% 2/41 [00:04<01:07,  1.72s/it]/content/yolov5/yolov5/yolov5/train.py:412: FutureWarning: `torch.cuda.amp.autocast(args...)` is deprecated. Please use `torch.amp.autocast('cuda', args...)` instead.\n",
            "  with torch.cuda.amp.autocast(amp):\n",
            "        0/4      3.55G    0.09594    0.03215          0         42        640:   7% 3/41 [00:04<00:41,  1.09s/it]/content/yolov5/yolov5/yolov5/train.py:412: FutureWarning: `torch.cuda.amp.autocast(args...)` is deprecated. Please use `torch.amp.autocast('cuda', args...)` instead.\n",
            "  with torch.cuda.amp.autocast(amp):\n",
            "        0/4      3.55G    0.09225    0.03214          0         46        640:  10% 4/41 [00:04<00:32,  1.13it/s]/content/yolov5/yolov5/yolov5/train.py:412: FutureWarning: `torch.cuda.amp.autocast(args...)` is deprecated. Please use `torch.amp.autocast('cuda', args...)` instead.\n",
            "  with torch.cuda.amp.autocast(amp):\n",
            "        0/4      3.55G    0.08961    0.03177          0         45        640:  12% 5/41 [00:05<00:27,  1.33it/s]/content/yolov5/yolov5/yolov5/train.py:412: FutureWarning: `torch.cuda.amp.autocast(args...)` is deprecated. Please use `torch.amp.autocast('cuda', args...)` instead.\n",
            "  with torch.cuda.amp.autocast(amp):\n",
            "        0/4      3.55G    0.08729    0.03156          0         41        640:  15% 6/41 [00:05<00:22,  1.58it/s]/content/yolov5/yolov5/yolov5/train.py:412: FutureWarning: `torch.cuda.amp.autocast(args...)` is deprecated. Please use `torch.amp.autocast('cuda', args...)` instead.\n",
            "  with torch.cuda.amp.autocast(amp):\n",
            "        0/4      3.55G    0.08665    0.03127          0         45        640:  17% 7/41 [00:06<00:17,  1.96it/s]/content/yolov5/yolov5/yolov5/train.py:412: FutureWarning: `torch.cuda.amp.autocast(args...)` is deprecated. Please use `torch.amp.autocast('cuda', args...)` instead.\n",
            "  with torch.cuda.amp.autocast(amp):\n",
            "        0/4      3.55G    0.08598    0.03108          0         44        640:  20% 8/41 [00:06<00:15,  2.18it/s]/content/yolov5/yolov5/yolov5/train.py:412: FutureWarning: `torch.cuda.amp.autocast(args...)` is deprecated. Please use `torch.amp.autocast('cuda', args...)` instead.\n",
            "  with torch.cuda.amp.autocast(amp):\n",
            "        0/4      3.55G    0.08478     0.0312          0         52        640:  22% 9/41 [00:06<00:14,  2.25it/s]/content/yolov5/yolov5/yolov5/train.py:412: FutureWarning: `torch.cuda.amp.autocast(args...)` is deprecated. Please use `torch.amp.autocast('cuda', args...)` instead.\n",
            "  with torch.cuda.amp.autocast(amp):\n",
            "        0/4      3.55G    0.08425    0.03122          0         52        640:  24% 10/41 [00:07<00:14,  2.10it/s]/content/yolov5/yolov5/yolov5/train.py:412: FutureWarning: `torch.cuda.amp.autocast(args...)` is deprecated. Please use `torch.amp.autocast('cuda', args...)` instead.\n",
            "  with torch.cuda.amp.autocast(amp):\n",
            "        0/4      3.55G     0.0833     0.0313          0         53        640:  27% 11/41 [00:07<00:13,  2.15it/s]/content/yolov5/yolov5/yolov5/train.py:412: FutureWarning: `torch.cuda.amp.autocast(args...)` is deprecated. Please use `torch.amp.autocast('cuda', args...)` instead.\n",
            "  with torch.cuda.amp.autocast(amp):\n",
            "        0/4      3.55G     0.0824    0.03141          0         52        640:  29% 12/41 [00:08<00:14,  1.99it/s]/content/yolov5/yolov5/yolov5/train.py:412: FutureWarning: `torch.cuda.amp.autocast(args...)` is deprecated. Please use `torch.amp.autocast('cuda', args...)` instead.\n",
            "  with torch.cuda.amp.autocast(amp):\n",
            "        0/4      3.55G    0.08158    0.03152          0         55        640:  32% 13/41 [00:08<00:14,  1.99it/s]/content/yolov5/yolov5/yolov5/train.py:412: FutureWarning: `torch.cuda.amp.autocast(args...)` is deprecated. Please use `torch.amp.autocast('cuda', args...)` instead.\n",
            "  with torch.cuda.amp.autocast(amp):\n",
            "        0/4      3.55G    0.08053    0.03125          0         42        640:  34% 14/41 [00:09<00:17,  1.53it/s]/content/yolov5/yolov5/yolov5/train.py:412: FutureWarning: `torch.cuda.amp.autocast(args...)` is deprecated. Please use `torch.amp.autocast('cuda', args...)` instead.\n",
            "  with torch.cuda.amp.autocast(amp):\n",
            "        0/4      3.55G    0.07962      0.031          0         43        640:  37% 15/41 [00:10<00:18,  1.42it/s]/content/yolov5/yolov5/yolov5/train.py:412: FutureWarning: `torch.cuda.amp.autocast(args...)` is deprecated. Please use `torch.amp.autocast('cuda', args...)` instead.\n",
            "  with torch.cuda.amp.autocast(amp):\n",
            "        0/4      3.55G    0.07863    0.03088          0         49        640:  39% 16/41 [00:11<00:17,  1.43it/s]/content/yolov5/yolov5/yolov5/train.py:412: FutureWarning: `torch.cuda.amp.autocast(args...)` is deprecated. Please use `torch.amp.autocast('cuda', args...)` instead.\n",
            "  with torch.cuda.amp.autocast(amp):\n",
            "        0/4      3.55G    0.07763    0.03084          0         49        640:  41% 17/41 [00:12<00:18,  1.32it/s]/content/yolov5/yolov5/yolov5/train.py:412: FutureWarning: `torch.cuda.amp.autocast(args...)` is deprecated. Please use `torch.amp.autocast('cuda', args...)` instead.\n",
            "  with torch.cuda.amp.autocast(amp):\n",
            "        0/4      3.55G    0.07624    0.03082          0         48        640:  44% 18/41 [00:12<00:15,  1.44it/s]/content/yolov5/yolov5/yolov5/train.py:412: FutureWarning: `torch.cuda.amp.autocast(args...)` is deprecated. Please use `torch.amp.autocast('cuda', args...)` instead.\n",
            "  with torch.cuda.amp.autocast(amp):\n",
            "        0/4      3.55G    0.07509    0.03071          0         46        640:  46% 19/41 [00:13<00:16,  1.32it/s]/content/yolov5/yolov5/yolov5/train.py:412: FutureWarning: `torch.cuda.amp.autocast(args...)` is deprecated. Please use `torch.amp.autocast('cuda', args...)` instead.\n",
            "  with torch.cuda.amp.autocast(amp):\n",
            "        0/4      3.55G    0.07412    0.03054          0         45        640:  49% 20/41 [00:14<00:16,  1.30it/s]/content/yolov5/yolov5/yolov5/train.py:412: FutureWarning: `torch.cuda.amp.autocast(args...)` is deprecated. Please use `torch.amp.autocast('cuda', args...)` instead.\n",
            "  with torch.cuda.amp.autocast(amp):\n",
            "        0/4      3.55G      0.073    0.03064          0         56        640:  51% 21/41 [00:15<00:14,  1.41it/s]/content/yolov5/yolov5/yolov5/train.py:412: FutureWarning: `torch.cuda.amp.autocast(args...)` is deprecated. Please use `torch.amp.autocast('cuda', args...)` instead.\n",
            "  with torch.cuda.amp.autocast(amp):\n",
            "        0/4      3.55G    0.07225    0.03049          0         47        640:  54% 22/41 [00:15<00:11,  1.60it/s]/content/yolov5/yolov5/yolov5/train.py:412: FutureWarning: `torch.cuda.amp.autocast(args...)` is deprecated. Please use `torch.amp.autocast('cuda', args...)` instead.\n",
            "  with torch.cuda.amp.autocast(amp):\n",
            "        0/4      3.55G    0.07131    0.03049          0         50        640:  56% 23/41 [00:16<00:10,  1.69it/s]/content/yolov5/yolov5/yolov5/train.py:412: FutureWarning: `torch.cuda.amp.autocast(args...)` is deprecated. Please use `torch.amp.autocast('cuda', args...)` instead.\n",
            "  with torch.cuda.amp.autocast(amp):\n",
            "        0/4      3.55G    0.07038    0.03056          0         51        640:  59% 24/41 [00:16<00:09,  1.79it/s]/content/yolov5/yolov5/yolov5/train.py:412: FutureWarning: `torch.cuda.amp.autocast(args...)` is deprecated. Please use `torch.amp.autocast('cuda', args...)` instead.\n",
            "  with torch.cuda.amp.autocast(amp):\n",
            "        0/4      3.55G    0.06954    0.03064          0         54        640:  61% 25/41 [00:16<00:08,  1.96it/s]/content/yolov5/yolov5/yolov5/train.py:412: FutureWarning: `torch.cuda.amp.autocast(args...)` is deprecated. Please use `torch.amp.autocast('cuda', args...)` instead.\n",
            "  with torch.cuda.amp.autocast(amp):\n",
            "        0/4      3.55G    0.06872    0.03064          0         50        640:  63% 26/41 [00:17<00:07,  2.04it/s]/content/yolov5/yolov5/yolov5/train.py:412: FutureWarning: `torch.cuda.amp.autocast(args...)` is deprecated. Please use `torch.amp.autocast('cuda', args...)` instead.\n",
            "  with torch.cuda.amp.autocast(amp):\n",
            "        0/4      3.55G    0.06794    0.03053          0         48        640:  66% 27/41 [00:17<00:06,  2.10it/s]/content/yolov5/yolov5/yolov5/train.py:412: FutureWarning: `torch.cuda.amp.autocast(args...)` is deprecated. Please use `torch.amp.autocast('cuda', args...)` instead.\n",
            "  with torch.cuda.amp.autocast(amp):\n",
            "        0/4      3.55G    0.06739    0.03043          0         49        640:  68% 28/41 [00:18<00:06,  2.06it/s]/content/yolov5/yolov5/yolov5/train.py:412: FutureWarning: `torch.cuda.amp.autocast(args...)` is deprecated. Please use `torch.amp.autocast('cuda', args...)` instead.\n",
            "  with torch.cuda.amp.autocast(amp):\n",
            "        0/4      3.55G    0.06664    0.03034          0         46        640:  71% 29/41 [00:18<00:05,  2.18it/s]/content/yolov5/yolov5/yolov5/train.py:412: FutureWarning: `torch.cuda.amp.autocast(args...)` is deprecated. Please use `torch.amp.autocast('cuda', args...)` instead.\n",
            "  with torch.cuda.amp.autocast(amp):\n",
            "        0/4      3.55G    0.06589    0.03037          0         52        640:  73% 30/41 [00:19<00:05,  2.11it/s]/content/yolov5/yolov5/yolov5/train.py:412: FutureWarning: `torch.cuda.amp.autocast(args...)` is deprecated. Please use `torch.amp.autocast('cuda', args...)` instead.\n",
            "  with torch.cuda.amp.autocast(amp):\n",
            "        0/4      3.55G    0.06516    0.03028          0         48        640:  76% 31/41 [00:19<00:04,  2.27it/s]/content/yolov5/yolov5/yolov5/train.py:412: FutureWarning: `torch.cuda.amp.autocast(args...)` is deprecated. Please use `torch.amp.autocast('cuda', args...)` instead.\n",
            "  with torch.cuda.amp.autocast(amp):\n",
            "        0/4      3.55G    0.06447    0.03019          0         51        640:  78% 32/41 [00:20<00:04,  2.14it/s]/content/yolov5/yolov5/yolov5/train.py:412: FutureWarning: `torch.cuda.amp.autocast(args...)` is deprecated. Please use `torch.amp.autocast('cuda', args...)` instead.\n",
            "  with torch.cuda.amp.autocast(amp):\n",
            "        0/4      3.55G    0.06399    0.03015          0         52        640:  80% 33/41 [00:20<00:03,  2.11it/s]/content/yolov5/yolov5/yolov5/train.py:412: FutureWarning: `torch.cuda.amp.autocast(args...)` is deprecated. Please use `torch.amp.autocast('cuda', args...)` instead.\n",
            "  with torch.cuda.amp.autocast(amp):\n",
            "        0/4      3.55G    0.06355    0.02997          0         44        640:  83% 34/41 [00:21<00:03,  2.09it/s]/content/yolov5/yolov5/yolov5/train.py:412: FutureWarning: `torch.cuda.amp.autocast(args...)` is deprecated. Please use `torch.amp.autocast('cuda', args...)` instead.\n",
            "  with torch.cuda.amp.autocast(amp):\n",
            "        0/4      3.55G    0.06305    0.02987          0         49        640:  85% 35/41 [00:21<00:02,  2.27it/s]/content/yolov5/yolov5/yolov5/train.py:412: FutureWarning: `torch.cuda.amp.autocast(args...)` is deprecated. Please use `torch.amp.autocast('cuda', args...)` instead.\n",
            "  with torch.cuda.amp.autocast(amp):\n",
            "        0/4      3.55G    0.06272    0.02971          0         48        640:  88% 36/41 [00:22<00:02,  2.09it/s]/content/yolov5/yolov5/yolov5/train.py:412: FutureWarning: `torch.cuda.amp.autocast(args...)` is deprecated. Please use `torch.amp.autocast('cuda', args...)` instead.\n",
            "  with torch.cuda.amp.autocast(amp):\n",
            "        0/4      3.55G    0.06215    0.02964          0         51        640:  90% 37/41 [00:22<00:01,  2.19it/s]/content/yolov5/yolov5/yolov5/train.py:412: FutureWarning: `torch.cuda.amp.autocast(args...)` is deprecated. Please use `torch.amp.autocast('cuda', args...)` instead.\n",
            "  with torch.cuda.amp.autocast(amp):\n",
            "        0/4      3.55G    0.06155    0.02962          0         57        640:  93% 38/41 [00:23<00:01,  2.09it/s]/content/yolov5/yolov5/yolov5/train.py:412: FutureWarning: `torch.cuda.amp.autocast(args...)` is deprecated. Please use `torch.amp.autocast('cuda', args...)` instead.\n",
            "  with torch.cuda.amp.autocast(amp):\n",
            "        0/4      3.55G    0.06215    0.02959          0         56        640:  95% 39/41 [00:23<00:00,  2.06it/s]/content/yolov5/yolov5/yolov5/train.py:412: FutureWarning: `torch.cuda.amp.autocast(args...)` is deprecated. Please use `torch.amp.autocast('cuda', args...)` instead.\n",
            "  with torch.cuda.amp.autocast(amp):\n",
            "        0/4      3.55G    0.06151    0.02946          0         43        640:  98% 40/41 [00:23<00:00,  2.15it/s]/content/yolov5/yolov5/yolov5/train.py:412: FutureWarning: `torch.cuda.amp.autocast(args...)` is deprecated. Please use `torch.amp.autocast('cuda', args...)` instead.\n",
            "  with torch.cuda.amp.autocast(amp):\n",
            "        0/4      3.58G    0.06076    0.02925          0          3        640: 100% 41/41 [00:24<00:00,  1.67it/s]\n",
            "                 Class     Images  Instances          P          R      mAP50   mAP50-95: 100% 6/6 [00:06<00:00,  1.03s/it]\n",
            "                   all        161        161      0.635      0.596      0.691      0.389\n",
            "\n",
            "      Epoch    GPU_mem   box_loss   obj_loss   cls_loss  Instances       Size\n",
            "  0% 0/41 [00:00<?, ?it/s]/content/yolov5/yolov5/yolov5/train.py:412: FutureWarning: `torch.cuda.amp.autocast(args...)` is deprecated. Please use `torch.amp.autocast('cuda', args...)` instead.\n",
            "  with torch.cuda.amp.autocast(amp):\n",
            "        1/4      4.39G    0.04023    0.02135          0         43        640:   2% 1/41 [00:00<00:08,  4.92it/s]/content/yolov5/yolov5/yolov5/train.py:412: FutureWarning: `torch.cuda.amp.autocast(args...)` is deprecated. Please use `torch.amp.autocast('cuda', args...)` instead.\n",
            "  with torch.cuda.amp.autocast(amp):\n",
            "        1/4      4.39G    0.04012    0.02292          0         49        640:   5% 2/41 [00:00<00:08,  4.77it/s]/content/yolov5/yolov5/yolov5/train.py:412: FutureWarning: `torch.cuda.amp.autocast(args...)` is deprecated. Please use `torch.amp.autocast('cuda', args...)` instead.\n",
            "  with torch.cuda.amp.autocast(amp):\n",
            "        1/4      4.39G    0.04136    0.02209          0         39        640:   7% 3/41 [00:00<00:07,  4.94it/s]/content/yolov5/yolov5/yolov5/train.py:412: FutureWarning: `torch.cuda.amp.autocast(args...)` is deprecated. Please use `torch.amp.autocast('cuda', args...)` instead.\n",
            "  with torch.cuda.amp.autocast(amp):\n",
            "        1/4      4.39G    0.04059    0.02321          0         50        640:  10% 4/41 [00:00<00:08,  4.26it/s]/content/yolov5/yolov5/yolov5/train.py:412: FutureWarning: `torch.cuda.amp.autocast(args...)` is deprecated. Please use `torch.amp.autocast('cuda', args...)` instead.\n",
            "  with torch.cuda.amp.autocast(amp):\n",
            "        1/4      4.39G    0.04012    0.02347          0         52        640:  12% 5/41 [00:01<00:12,  2.91it/s]/content/yolov5/yolov5/yolov5/train.py:412: FutureWarning: `torch.cuda.amp.autocast(args...)` is deprecated. Please use `torch.amp.autocast('cuda', args...)` instead.\n",
            "  with torch.cuda.amp.autocast(amp):\n",
            "        1/4      4.39G    0.03871    0.02388          0         52        640:  15% 6/41 [00:01<00:12,  2.74it/s]/content/yolov5/yolov5/yolov5/train.py:412: FutureWarning: `torch.cuda.amp.autocast(args...)` is deprecated. Please use `torch.amp.autocast('cuda', args...)` instead.\n",
            "  with torch.cuda.amp.autocast(amp):\n",
            "        1/4      4.39G    0.03811    0.02373          0         52        640:  17% 7/41 [00:02<00:14,  2.30it/s]/content/yolov5/yolov5/yolov5/train.py:412: FutureWarning: `torch.cuda.amp.autocast(args...)` is deprecated. Please use `torch.amp.autocast('cuda', args...)` instead.\n",
            "  with torch.cuda.amp.autocast(amp):\n",
            "        1/4      4.39G    0.03816    0.02357          0         45        640:  20% 8/41 [00:02<00:14,  2.35it/s]/content/yolov5/yolov5/yolov5/train.py:412: FutureWarning: `torch.cuda.amp.autocast(args...)` is deprecated. Please use `torch.amp.autocast('cuda', args...)` instead.\n",
            "  with torch.cuda.amp.autocast(amp):\n",
            "        1/4      4.39G    0.03794    0.02338          0         50        640:  22% 9/41 [00:03<00:14,  2.17it/s]/content/yolov5/yolov5/yolov5/train.py:412: FutureWarning: `torch.cuda.amp.autocast(args...)` is deprecated. Please use `torch.amp.autocast('cuda', args...)` instead.\n",
            "  with torch.cuda.amp.autocast(amp):\n",
            "        1/4      4.39G    0.03778    0.02307          0         46        640:  24% 10/41 [00:03<00:13,  2.35it/s]/content/yolov5/yolov5/yolov5/train.py:412: FutureWarning: `torch.cuda.amp.autocast(args...)` is deprecated. Please use `torch.amp.autocast('cuda', args...)` instead.\n",
            "  with torch.cuda.amp.autocast(amp):\n",
            "        1/4      4.39G    0.03717     0.0231          0         48        640:  27% 11/41 [00:04<00:12,  2.32it/s]/content/yolov5/yolov5/yolov5/train.py:412: FutureWarning: `torch.cuda.amp.autocast(args...)` is deprecated. Please use `torch.amp.autocast('cuda', args...)` instead.\n",
            "  with torch.cuda.amp.autocast(amp):\n",
            "        1/4      4.39G    0.03672    0.02288          0         44        640:  29% 12/41 [00:04<00:12,  2.36it/s]/content/yolov5/yolov5/yolov5/train.py:412: FutureWarning: `torch.cuda.amp.autocast(args...)` is deprecated. Please use `torch.amp.autocast('cuda', args...)` instead.\n",
            "  with torch.cuda.amp.autocast(amp):\n",
            "        1/4      4.39G    0.03634    0.02297          0         53        640:  32% 13/41 [00:05<00:12,  2.25it/s]/content/yolov5/yolov5/yolov5/train.py:412: FutureWarning: `torch.cuda.amp.autocast(args...)` is deprecated. Please use `torch.amp.autocast('cuda', args...)` instead.\n",
            "  with torch.cuda.amp.autocast(amp):\n",
            "        1/4      4.39G    0.03619    0.02307          0         56        640:  34% 14/41 [00:05<00:11,  2.35it/s]/content/yolov5/yolov5/yolov5/train.py:412: FutureWarning: `torch.cuda.amp.autocast(args...)` is deprecated. Please use `torch.amp.autocast('cuda', args...)` instead.\n",
            "  with torch.cuda.amp.autocast(amp):\n",
            "        1/4      4.39G    0.03595    0.02269          0         42        640:  37% 15/41 [00:05<00:11,  2.17it/s]/content/yolov5/yolov5/yolov5/train.py:412: FutureWarning: `torch.cuda.amp.autocast(args...)` is deprecated. Please use `torch.amp.autocast('cuda', args...)` instead.\n",
            "  with torch.cuda.amp.autocast(amp):\n",
            "        1/4      4.39G    0.03595     0.0225          0         48        640:  39% 16/41 [00:06<00:11,  2.27it/s]/content/yolov5/yolov5/yolov5/train.py:412: FutureWarning: `torch.cuda.amp.autocast(args...)` is deprecated. Please use `torch.amp.autocast('cuda', args...)` instead.\n",
            "  with torch.cuda.amp.autocast(amp):\n",
            "        1/4      4.39G    0.03597    0.02245          0         51        640:  41% 17/41 [00:06<00:10,  2.31it/s]/content/yolov5/yolov5/yolov5/train.py:412: FutureWarning: `torch.cuda.amp.autocast(args...)` is deprecated. Please use `torch.amp.autocast('cuda', args...)` instead.\n",
            "  with torch.cuda.amp.autocast(amp):\n",
            "        1/4      4.39G    0.03612    0.02229          0         48        640:  44% 18/41 [00:07<00:10,  2.26it/s]/content/yolov5/yolov5/yolov5/train.py:412: FutureWarning: `torch.cuda.amp.autocast(args...)` is deprecated. Please use `torch.amp.autocast('cuda', args...)` instead.\n",
            "  with torch.cuda.amp.autocast(amp):\n",
            "        1/4      4.39G    0.03657    0.02205          0         45        640:  46% 19/41 [00:07<00:09,  2.29it/s]/content/yolov5/yolov5/yolov5/train.py:412: FutureWarning: `torch.cuda.amp.autocast(args...)` is deprecated. Please use `torch.amp.autocast('cuda', args...)` instead.\n",
            "  with torch.cuda.amp.autocast(amp):\n",
            "        1/4      4.39G    0.03646    0.02199          0         54        640:  49% 20/41 [00:08<00:09,  2.33it/s]/content/yolov5/yolov5/yolov5/train.py:412: FutureWarning: `torch.cuda.amp.autocast(args...)` is deprecated. Please use `torch.amp.autocast('cuda', args...)` instead.\n",
            "  with torch.cuda.amp.autocast(amp):\n",
            "        1/4      4.39G    0.03643    0.02175          0         42        640:  51% 21/41 [00:08<00:10,  1.83it/s]/content/yolov5/yolov5/yolov5/train.py:412: FutureWarning: `torch.cuda.amp.autocast(args...)` is deprecated. Please use `torch.amp.autocast('cuda', args...)` instead.\n",
            "  with torch.cuda.amp.autocast(amp):\n",
            "        1/4      4.39G    0.03672    0.02174          0         55        640:  54% 22/41 [00:09<00:11,  1.68it/s]/content/yolov5/yolov5/yolov5/train.py:412: FutureWarning: `torch.cuda.amp.autocast(args...)` is deprecated. Please use `torch.amp.autocast('cuda', args...)` instead.\n",
            "  with torch.cuda.amp.autocast(amp):\n",
            "        1/4      4.39G    0.03669    0.02175          0         54        640:  56% 23/41 [00:10<00:14,  1.27it/s]/content/yolov5/yolov5/yolov5/train.py:412: FutureWarning: `torch.cuda.amp.autocast(args...)` is deprecated. Please use `torch.amp.autocast('cuda', args...)` instead.\n",
            "  with torch.cuda.amp.autocast(amp):\n",
            "        1/4      4.39G     0.0364    0.02174          0         53        640:  59% 24/41 [00:11<00:11,  1.45it/s]/content/yolov5/yolov5/yolov5/train.py:412: FutureWarning: `torch.cuda.amp.autocast(args...)` is deprecated. Please use `torch.amp.autocast('cuda', args...)` instead.\n",
            "  with torch.cuda.amp.autocast(amp):\n",
            "        1/4      4.39G    0.03631    0.02168          0         50        640:  61% 25/41 [00:12<00:12,  1.31it/s]/content/yolov5/yolov5/yolov5/train.py:412: FutureWarning: `torch.cuda.amp.autocast(args...)` is deprecated. Please use `torch.amp.autocast('cuda', args...)` instead.\n",
            "  with torch.cuda.amp.autocast(amp):\n",
            "        1/4      4.39G    0.03608    0.02147          0         41        640:  63% 26/41 [00:12<00:11,  1.36it/s]/content/yolov5/yolov5/yolov5/train.py:412: FutureWarning: `torch.cuda.amp.autocast(args...)` is deprecated. Please use `torch.amp.autocast('cuda', args...)` instead.\n",
            "  with torch.cuda.amp.autocast(amp):\n",
            "        1/4      4.39G    0.03608    0.02143          0         53        640:  66% 27/41 [00:13<00:10,  1.40it/s]/content/yolov5/yolov5/yolov5/train.py:412: FutureWarning: `torch.cuda.amp.autocast(args...)` is deprecated. Please use `torch.amp.autocast('cuda', args...)` instead.\n",
            "  with torch.cuda.amp.autocast(amp):\n",
            "        1/4      4.39G    0.03603    0.02136          0         52        640:  68% 28/41 [00:14<00:08,  1.60it/s]/content/yolov5/yolov5/yolov5/train.py:412: FutureWarning: `torch.cuda.amp.autocast(args...)` is deprecated. Please use `torch.amp.autocast('cuda', args...)` instead.\n",
            "  with torch.cuda.amp.autocast(amp):\n",
            "        1/4      4.39G    0.03612    0.02127          0         50        640:  71% 29/41 [00:14<00:07,  1.60it/s]/content/yolov5/yolov5/yolov5/train.py:412: FutureWarning: `torch.cuda.amp.autocast(args...)` is deprecated. Please use `torch.amp.autocast('cuda', args...)` instead.\n",
            "  with torch.cuda.amp.autocast(amp):\n",
            "        1/4      4.39G    0.03622    0.02124          0         58        640:  73% 30/41 [00:14<00:05,  2.02it/s]/content/yolov5/yolov5/yolov5/train.py:412: FutureWarning: `torch.cuda.amp.autocast(args...)` is deprecated. Please use `torch.amp.autocast('cuda', args...)` instead.\n",
            "  with torch.cuda.amp.autocast(amp):\n",
            "        1/4      4.39G    0.03632    0.02109          0         42        640:  76% 31/41 [00:15<00:05,  1.87it/s]/content/yolov5/yolov5/yolov5/train.py:412: FutureWarning: `torch.cuda.amp.autocast(args...)` is deprecated. Please use `torch.amp.autocast('cuda', args...)` instead.\n",
            "  with torch.cuda.amp.autocast(amp):\n",
            "        1/4      4.39G    0.03631    0.02101          0         50        640:  78% 32/41 [00:15<00:04,  2.12it/s]/content/yolov5/yolov5/yolov5/train.py:412: FutureWarning: `torch.cuda.amp.autocast(args...)` is deprecated. Please use `torch.amp.autocast('cuda', args...)` instead.\n",
            "  with torch.cuda.amp.autocast(amp):\n",
            "        1/4      4.39G    0.03605      0.021          0         54        640:  80% 33/41 [00:16<00:03,  2.08it/s]/content/yolov5/yolov5/yolov5/train.py:412: FutureWarning: `torch.cuda.amp.autocast(args...)` is deprecated. Please use `torch.amp.autocast('cuda', args...)` instead.\n",
            "  with torch.cuda.amp.autocast(amp):\n",
            "        1/4      4.39G    0.03594    0.02101          0         54        640:  83% 34/41 [00:16<00:02,  2.37it/s]/content/yolov5/yolov5/yolov5/train.py:412: FutureWarning: `torch.cuda.amp.autocast(args...)` is deprecated. Please use `torch.amp.autocast('cuda', args...)` instead.\n",
            "  with torch.cuda.amp.autocast(amp):\n",
            "        1/4      4.39G    0.03593    0.02099          0         50        640:  85% 35/41 [00:17<00:02,  2.02it/s]/content/yolov5/yolov5/yolov5/train.py:412: FutureWarning: `torch.cuda.amp.autocast(args...)` is deprecated. Please use `torch.amp.autocast('cuda', args...)` instead.\n",
            "  with torch.cuda.amp.autocast(amp):\n",
            "        1/4      4.39G    0.03584    0.02091          0         49        640:  88% 36/41 [00:17<00:02,  2.40it/s]/content/yolov5/yolov5/yolov5/train.py:412: FutureWarning: `torch.cuda.amp.autocast(args...)` is deprecated. Please use `torch.amp.autocast('cuda', args...)` instead.\n",
            "  with torch.cuda.amp.autocast(amp):\n",
            "        1/4      4.39G    0.03567    0.02082          0         47        640:  90% 37/41 [00:18<00:01,  2.19it/s]/content/yolov5/yolov5/yolov5/train.py:412: FutureWarning: `torch.cuda.amp.autocast(args...)` is deprecated. Please use `torch.amp.autocast('cuda', args...)` instead.\n",
            "  with torch.cuda.amp.autocast(amp):\n",
            "        1/4      4.39G    0.03562     0.0207          0         44        640:  93% 38/41 [00:18<00:01,  2.41it/s]/content/yolov5/yolov5/yolov5/train.py:412: FutureWarning: `torch.cuda.amp.autocast(args...)` is deprecated. Please use `torch.amp.autocast('cuda', args...)` instead.\n",
            "  with torch.cuda.amp.autocast(amp):\n",
            "        1/4      4.39G    0.03561    0.02056          0         43        640:  95% 39/41 [00:18<00:00,  2.16it/s]/content/yolov5/yolov5/yolov5/train.py:412: FutureWarning: `torch.cuda.amp.autocast(args...)` is deprecated. Please use `torch.amp.autocast('cuda', args...)` instead.\n",
            "  with torch.cuda.amp.autocast(amp):\n",
            "        1/4      4.39G    0.03569    0.02048          0         52        640:  98% 40/41 [00:19<00:00,  2.43it/s]/content/yolov5/yolov5/yolov5/train.py:412: FutureWarning: `torch.cuda.amp.autocast(args...)` is deprecated. Please use `torch.amp.autocast('cuda', args...)` instead.\n",
            "  with torch.cuda.amp.autocast(amp):\n",
            "        1/4      4.41G    0.03516    0.02035          0          2        640: 100% 41/41 [00:19<00:00,  2.12it/s]\n",
            "                 Class     Images  Instances          P          R      mAP50   mAP50-95: 100% 6/6 [00:03<00:00,  1.79it/s]\n",
            "                   all        161        161      0.588      0.771      0.658      0.469\n",
            "\n",
            "      Epoch    GPU_mem   box_loss   obj_loss   cls_loss  Instances       Size\n",
            "  0% 0/41 [00:00<?, ?it/s]/content/yolov5/yolov5/yolov5/train.py:412: FutureWarning: `torch.cuda.amp.autocast(args...)` is deprecated. Please use `torch.amp.autocast('cuda', args...)` instead.\n",
            "  with torch.cuda.amp.autocast(amp):\n",
            "        2/4      4.41G    0.03116    0.01633          0         48        640:   2% 1/41 [00:00<00:12,  3.29it/s]/content/yolov5/yolov5/yolov5/train.py:412: FutureWarning: `torch.cuda.amp.autocast(args...)` is deprecated. Please use `torch.amp.autocast('cuda', args...)` instead.\n",
            "  with torch.cuda.amp.autocast(amp):\n",
            "        2/4      4.41G    0.03334    0.01758          0         54        640:   5% 2/41 [00:00<00:10,  3.85it/s]/content/yolov5/yolov5/yolov5/train.py:412: FutureWarning: `torch.cuda.amp.autocast(args...)` is deprecated. Please use `torch.amp.autocast('cuda', args...)` instead.\n",
            "  with torch.cuda.amp.autocast(amp):\n",
            "        2/4      4.41G    0.03282     0.0178          0         55        640:   7% 3/41 [00:00<00:10,  3.74it/s]/content/yolov5/yolov5/yolov5/train.py:412: FutureWarning: `torch.cuda.amp.autocast(args...)` is deprecated. Please use `torch.amp.autocast('cuda', args...)` instead.\n",
            "  with torch.cuda.amp.autocast(amp):\n",
            "        2/4      4.41G    0.03302    0.01709          0         47        640:  10% 4/41 [00:01<00:09,  3.71it/s]/content/yolov5/yolov5/yolov5/train.py:412: FutureWarning: `torch.cuda.amp.autocast(args...)` is deprecated. Please use `torch.amp.autocast('cuda', args...)` instead.\n",
            "  with torch.cuda.amp.autocast(amp):\n",
            "        2/4      4.41G    0.03278    0.01656          0         46        640:  12% 5/41 [00:01<00:16,  2.13it/s]/content/yolov5/yolov5/yolov5/train.py:412: FutureWarning: `torch.cuda.amp.autocast(args...)` is deprecated. Please use `torch.amp.autocast('cuda', args...)` instead.\n",
            "  with torch.cuda.amp.autocast(amp):\n",
            "        2/4      4.41G    0.03345    0.01653          0         52        640:  15% 6/41 [00:02<00:15,  2.20it/s]/content/yolov5/yolov5/yolov5/train.py:412: FutureWarning: `torch.cuda.amp.autocast(args...)` is deprecated. Please use `torch.amp.autocast('cuda', args...)` instead.\n",
            "  with torch.cuda.amp.autocast(amp):\n",
            "        2/4      4.41G    0.03283    0.01684          0         55        640:  17% 7/41 [00:03<00:20,  1.70it/s]/content/yolov5/yolov5/yolov5/train.py:412: FutureWarning: `torch.cuda.amp.autocast(args...)` is deprecated. Please use `torch.amp.autocast('cuda', args...)` instead.\n",
            "  with torch.cuda.amp.autocast(amp):\n",
            "        2/4      4.41G     0.0327    0.01697          0         50        640:  20% 8/41 [00:03<00:21,  1.55it/s]/content/yolov5/yolov5/yolov5/train.py:412: FutureWarning: `torch.cuda.amp.autocast(args...)` is deprecated. Please use `torch.amp.autocast('cuda', args...)` instead.\n",
            "  with torch.cuda.amp.autocast(amp):\n",
            "        2/4      4.41G    0.03264    0.01687          0         46        640:  22% 9/41 [00:04<00:19,  1.63it/s]/content/yolov5/yolov5/yolov5/train.py:412: FutureWarning: `torch.cuda.amp.autocast(args...)` is deprecated. Please use `torch.amp.autocast('cuda', args...)` instead.\n",
            "  with torch.cuda.amp.autocast(amp):\n",
            "        2/4      4.41G    0.03299    0.01673          0         45        640:  24% 10/41 [00:05<00:18,  1.64it/s]/content/yolov5/yolov5/yolov5/train.py:412: FutureWarning: `torch.cuda.amp.autocast(args...)` is deprecated. Please use `torch.amp.autocast('cuda', args...)` instead.\n",
            "  with torch.cuda.amp.autocast(amp):\n",
            "        2/4      4.41G    0.03362    0.01655          0         47        640:  27% 11/41 [00:05<00:16,  1.87it/s]/content/yolov5/yolov5/yolov5/train.py:412: FutureWarning: `torch.cuda.amp.autocast(args...)` is deprecated. Please use `torch.amp.autocast('cuda', args...)` instead.\n",
            "  with torch.cuda.amp.autocast(amp):\n",
            "        2/4      4.41G    0.03397    0.01642          0         42        640:  29% 12/41 [00:06<00:16,  1.80it/s]/content/yolov5/yolov5/yolov5/train.py:412: FutureWarning: `torch.cuda.amp.autocast(args...)` is deprecated. Please use `torch.amp.autocast('cuda', args...)` instead.\n",
            "  with torch.cuda.amp.autocast(amp):\n",
            "        2/4      4.41G    0.03364    0.01634          0         48        640:  32% 13/41 [00:06<00:14,  2.00it/s]/content/yolov5/yolov5/yolov5/train.py:412: FutureWarning: `torch.cuda.amp.autocast(args...)` is deprecated. Please use `torch.amp.autocast('cuda', args...)` instead.\n",
            "  with torch.cuda.amp.autocast(amp):\n",
            "        2/4      4.41G    0.03389    0.01621          0         49        640:  34% 14/41 [00:06<00:13,  2.03it/s]/content/yolov5/yolov5/yolov5/train.py:412: FutureWarning: `torch.cuda.amp.autocast(args...)` is deprecated. Please use `torch.amp.autocast('cuda', args...)` instead.\n",
            "  with torch.cuda.amp.autocast(amp):\n",
            "        2/4      4.41G    0.03385    0.01616          0         44        640:  37% 15/41 [00:07<00:12,  2.14it/s]/content/yolov5/yolov5/yolov5/train.py:412: FutureWarning: `torch.cuda.amp.autocast(args...)` is deprecated. Please use `torch.amp.autocast('cuda', args...)` instead.\n",
            "  with torch.cuda.amp.autocast(amp):\n",
            "        2/4      4.41G    0.03363    0.01593          0         41        640:  39% 16/41 [00:09<00:28,  1.13s/it]/content/yolov5/yolov5/yolov5/train.py:412: FutureWarning: `torch.cuda.amp.autocast(args...)` is deprecated. Please use `torch.amp.autocast('cuda', args...)` instead.\n",
            "  with torch.cuda.amp.autocast(amp):\n",
            "        2/4      4.41G    0.03363    0.01584          0         45        640:  41% 17/41 [00:10<00:20,  1.16it/s]/content/yolov5/yolov5/yolov5/train.py:412: FutureWarning: `torch.cuda.amp.autocast(args...)` is deprecated. Please use `torch.amp.autocast('cuda', args...)` instead.\n",
            "  with torch.cuda.amp.autocast(amp):\n",
            "        2/4      4.41G    0.03347    0.01582          0         48        640:  44% 18/41 [00:11<00:19,  1.19it/s]/content/yolov5/yolov5/yolov5/train.py:412: FutureWarning: `torch.cuda.amp.autocast(args...)` is deprecated. Please use `torch.amp.autocast('cuda', args...)` instead.\n",
            "  with torch.cuda.amp.autocast(amp):\n",
            "        2/4      4.41G    0.03343    0.01595          0         53        640:  46% 19/41 [00:11<00:14,  1.50it/s]/content/yolov5/yolov5/yolov5/train.py:412: FutureWarning: `torch.cuda.amp.autocast(args...)` is deprecated. Please use `torch.amp.autocast('cuda', args...)` instead.\n",
            "  with torch.cuda.amp.autocast(amp):\n",
            "        2/4      4.41G    0.03351    0.01592          0         50        640:  49% 20/41 [00:11<00:13,  1.53it/s]/content/yolov5/yolov5/yolov5/train.py:412: FutureWarning: `torch.cuda.amp.autocast(args...)` is deprecated. Please use `torch.amp.autocast('cuda', args...)` instead.\n",
            "  with torch.cuda.amp.autocast(amp):\n",
            "        2/4      4.41G    0.03358    0.01597          0         55        640:  51% 21/41 [00:12<00:11,  1.75it/s]/content/yolov5/yolov5/yolov5/train.py:412: FutureWarning: `torch.cuda.amp.autocast(args...)` is deprecated. Please use `torch.amp.autocast('cuda', args...)` instead.\n",
            "  with torch.cuda.amp.autocast(amp):\n",
            "        2/4      4.41G    0.03345    0.01602          0         55        640:  54% 22/41 [00:12<00:10,  1.74it/s]/content/yolov5/yolov5/yolov5/train.py:412: FutureWarning: `torch.cuda.amp.autocast(args...)` is deprecated. Please use `torch.amp.autocast('cuda', args...)` instead.\n",
            "  with torch.cuda.amp.autocast(amp):\n",
            "        2/4      4.41G    0.03577    0.01604          0         50        640:  56% 23/41 [00:13<00:08,  2.09it/s]/content/yolov5/yolov5/yolov5/train.py:412: FutureWarning: `torch.cuda.amp.autocast(args...)` is deprecated. Please use `torch.amp.autocast('cuda', args...)` instead.\n",
            "  with torch.cuda.amp.autocast(amp):\n",
            "        2/4      4.41G    0.03546    0.01602          0         50        640:  59% 24/41 [00:13<00:08,  1.90it/s]/content/yolov5/yolov5/yolov5/train.py:412: FutureWarning: `torch.cuda.amp.autocast(args...)` is deprecated. Please use `torch.amp.autocast('cuda', args...)` instead.\n",
            "  with torch.cuda.amp.autocast(amp):\n",
            "        2/4      4.41G    0.03512    0.01595          0         43        640:  61% 25/41 [00:14<00:07,  2.24it/s]/content/yolov5/yolov5/yolov5/train.py:412: FutureWarning: `torch.cuda.amp.autocast(args...)` is deprecated. Please use `torch.amp.autocast('cuda', args...)` instead.\n",
            "  with torch.cuda.amp.autocast(amp):\n",
            "        2/4      4.41G    0.03497    0.01586          0         44        640:  63% 26/41 [00:14<00:07,  2.07it/s]/content/yolov5/yolov5/yolov5/train.py:412: FutureWarning: `torch.cuda.amp.autocast(args...)` is deprecated. Please use `torch.amp.autocast('cuda', args...)` instead.\n",
            "  with torch.cuda.amp.autocast(amp):\n",
            "        2/4      4.41G     0.0349    0.01581          0         50        640:  66% 27/41 [00:14<00:06,  2.20it/s]/content/yolov5/yolov5/yolov5/train.py:412: FutureWarning: `torch.cuda.amp.autocast(args...)` is deprecated. Please use `torch.amp.autocast('cuda', args...)` instead.\n",
            "  with torch.cuda.amp.autocast(amp):\n",
            "        2/4      4.41G    0.03464     0.0157          0         43        640:  68% 28/41 [00:15<00:07,  1.73it/s]/content/yolov5/yolov5/yolov5/train.py:412: FutureWarning: `torch.cuda.amp.autocast(args...)` is deprecated. Please use `torch.amp.autocast('cuda', args...)` instead.\n",
            "  with torch.cuda.amp.autocast(amp):\n",
            "        2/4      4.41G     0.0346    0.01574          0         59        640:  71% 29/41 [00:16<00:07,  1.67it/s]/content/yolov5/yolov5/yolov5/train.py:412: FutureWarning: `torch.cuda.amp.autocast(args...)` is deprecated. Please use `torch.amp.autocast('cuda', args...)` instead.\n",
            "  with torch.cuda.amp.autocast(amp):\n",
            "        2/4      4.41G    0.03437    0.01569          0         45        640:  73% 30/41 [00:17<00:06,  1.72it/s]/content/yolov5/yolov5/yolov5/train.py:412: FutureWarning: `torch.cuda.amp.autocast(args...)` is deprecated. Please use `torch.amp.autocast('cuda', args...)` instead.\n",
            "  with torch.cuda.amp.autocast(amp):\n",
            "        2/4      4.41G    0.03424    0.01559          0         45        640:  76% 31/41 [00:17<00:06,  1.47it/s]/content/yolov5/yolov5/yolov5/train.py:412: FutureWarning: `torch.cuda.amp.autocast(args...)` is deprecated. Please use `torch.amp.autocast('cuda', args...)` instead.\n",
            "  with torch.cuda.amp.autocast(amp):\n",
            "        2/4      4.41G    0.03414    0.01549          0         43        640:  78% 32/41 [00:18<00:05,  1.62it/s]/content/yolov5/yolov5/yolov5/train.py:412: FutureWarning: `torch.cuda.amp.autocast(args...)` is deprecated. Please use `torch.amp.autocast('cuda', args...)` instead.\n",
            "  with torch.cuda.amp.autocast(amp):\n",
            "        2/4      4.41G    0.03409    0.01545          0         43        640:  80% 33/41 [00:19<00:05,  1.41it/s]/content/yolov5/yolov5/yolov5/train.py:412: FutureWarning: `torch.cuda.amp.autocast(args...)` is deprecated. Please use `torch.amp.autocast('cuda', args...)` instead.\n",
            "  with torch.cuda.amp.autocast(amp):\n",
            "        2/4      4.41G    0.03401     0.0155          0         53        640:  83% 34/41 [00:20<00:04,  1.42it/s]/content/yolov5/yolov5/yolov5/train.py:412: FutureWarning: `torch.cuda.amp.autocast(args...)` is deprecated. Please use `torch.amp.autocast('cuda', args...)` instead.\n",
            "  with torch.cuda.amp.autocast(amp):\n",
            "        2/4      4.41G    0.03542    0.01549          0         45        640:  85% 35/41 [00:20<00:03,  1.68it/s]/content/yolov5/yolov5/yolov5/train.py:412: FutureWarning: `torch.cuda.amp.autocast(args...)` is deprecated. Please use `torch.amp.autocast('cuda', args...)` instead.\n",
            "  with torch.cuda.amp.autocast(amp):\n",
            "        2/4      4.41G    0.03536    0.01541          0         47        640:  88% 36/41 [00:20<00:02,  1.75it/s]/content/yolov5/yolov5/yolov5/train.py:412: FutureWarning: `torch.cuda.amp.autocast(args...)` is deprecated. Please use `torch.amp.autocast('cuda', args...)` instead.\n",
            "  with torch.cuda.amp.autocast(amp):\n",
            "        2/4      4.41G    0.03516    0.01541          0         47        640:  90% 37/41 [00:21<00:02,  1.79it/s]/content/yolov5/yolov5/yolov5/train.py:412: FutureWarning: `torch.cuda.amp.autocast(args...)` is deprecated. Please use `torch.amp.autocast('cuda', args...)` instead.\n",
            "  with torch.cuda.amp.autocast(amp):\n",
            "        2/4      4.41G    0.03508    0.01536          0         46        640:  93% 38/41 [00:21<00:01,  2.03it/s]/content/yolov5/yolov5/yolov5/train.py:412: FutureWarning: `torch.cuda.amp.autocast(args...)` is deprecated. Please use `torch.amp.autocast('cuda', args...)` instead.\n",
            "  with torch.cuda.amp.autocast(amp):\n",
            "        2/4      4.41G    0.03478    0.01533          0         47        640:  95% 39/41 [00:22<00:00,  2.10it/s]/content/yolov5/yolov5/yolov5/train.py:412: FutureWarning: `torch.cuda.amp.autocast(args...)` is deprecated. Please use `torch.amp.autocast('cuda', args...)` instead.\n",
            "  with torch.cuda.amp.autocast(amp):\n",
            "        2/4      4.41G    0.03453     0.0153          0         44        640:  98% 40/41 [00:22<00:00,  2.14it/s]/content/yolov5/yolov5/yolov5/train.py:412: FutureWarning: `torch.cuda.amp.autocast(args...)` is deprecated. Please use `torch.amp.autocast('cuda', args...)` instead.\n",
            "  with torch.cuda.amp.autocast(amp):\n",
            "        2/4      4.42G    0.03402     0.0152          0          2        640: 100% 41/41 [00:22<00:00,  1.80it/s]\n",
            "                 Class     Images  Instances          P          R      mAP50   mAP50-95: 100% 6/6 [00:02<00:00,  2.08it/s]\n",
            "                   all        161        161      0.598      0.832      0.647      0.323\n",
            "\n",
            "      Epoch    GPU_mem   box_loss   obj_loss   cls_loss  Instances       Size\n",
            "  0% 0/41 [00:00<?, ?it/s]/content/yolov5/yolov5/yolov5/train.py:412: FutureWarning: `torch.cuda.amp.autocast(args...)` is deprecated. Please use `torch.amp.autocast('cuda', args...)` instead.\n",
            "  with torch.cuda.amp.autocast(amp):\n",
            "        3/4      4.42G    0.08944    0.01461          0         53        640:   2% 1/41 [00:00<00:09,  4.34it/s]/content/yolov5/yolov5/yolov5/train.py:412: FutureWarning: `torch.cuda.amp.autocast(args...)` is deprecated. Please use `torch.amp.autocast('cuda', args...)` instead.\n",
            "  with torch.cuda.amp.autocast(amp):\n",
            "        3/4      4.42G    0.06198    0.01532          0         51        640:   5% 2/41 [00:00<00:09,  4.24it/s]/content/yolov5/yolov5/yolov5/train.py:412: FutureWarning: `torch.cuda.amp.autocast(args...)` is deprecated. Please use `torch.amp.autocast('cuda', args...)` instead.\n",
            "  with torch.cuda.amp.autocast(amp):\n",
            "        3/4      4.42G    0.05338    0.01463          0         50        640:   7% 3/41 [00:00<00:09,  4.13it/s]/content/yolov5/yolov5/yolov5/train.py:412: FutureWarning: `torch.cuda.amp.autocast(args...)` is deprecated. Please use `torch.amp.autocast('cuda', args...)` instead.\n",
            "  with torch.cuda.amp.autocast(amp):\n",
            "        3/4      4.42G    0.04845    0.01414          0         46        640:  10% 4/41 [00:01<00:10,  3.65it/s]/content/yolov5/yolov5/yolov5/train.py:412: FutureWarning: `torch.cuda.amp.autocast(args...)` is deprecated. Please use `torch.amp.autocast('cuda', args...)` instead.\n",
            "  with torch.cuda.amp.autocast(amp):\n",
            "        3/4      4.42G    0.04285    0.01502          0         50        640:  12% 5/41 [00:01<00:10,  3.49it/s]/content/yolov5/yolov5/yolov5/train.py:412: FutureWarning: `torch.cuda.amp.autocast(args...)` is deprecated. Please use `torch.amp.autocast('cuda', args...)` instead.\n",
            "  with torch.cuda.amp.autocast(amp):\n",
            "        3/4      4.42G    0.03957    0.01537          0         51        640:  15% 6/41 [00:01<00:11,  3.11it/s]/content/yolov5/yolov5/yolov5/train.py:412: FutureWarning: `torch.cuda.amp.autocast(args...)` is deprecated. Please use `torch.amp.autocast('cuda', args...)` instead.\n",
            "  with torch.cuda.amp.autocast(amp):\n",
            "        3/4      4.42G    0.03622    0.01499          0         44        640:  17% 7/41 [00:02<00:13,  2.44it/s]/content/yolov5/yolov5/yolov5/train.py:412: FutureWarning: `torch.cuda.amp.autocast(args...)` is deprecated. Please use `torch.amp.autocast('cuda', args...)` instead.\n",
            "  with torch.cuda.amp.autocast(amp):\n",
            "        3/4      4.42G    0.03401    0.01478          0         44        640:  20% 8/41 [00:02<00:13,  2.46it/s]/content/yolov5/yolov5/yolov5/train.py:412: FutureWarning: `torch.cuda.amp.autocast(args...)` is deprecated. Please use `torch.amp.autocast('cuda', args...)` instead.\n",
            "  with torch.cuda.amp.autocast(amp):\n",
            "        3/4      4.42G    0.03297    0.01472          0         50        640:  22% 9/41 [00:03<00:13,  2.37it/s]/content/yolov5/yolov5/yolov5/train.py:412: FutureWarning: `torch.cuda.amp.autocast(args...)` is deprecated. Please use `torch.amp.autocast('cuda', args...)` instead.\n",
            "  with torch.cuda.amp.autocast(amp):\n",
            "        3/4      4.42G    0.03272    0.01469          0         45        640:  24% 10/41 [00:03<00:12,  2.47it/s]/content/yolov5/yolov5/yolov5/train.py:412: FutureWarning: `torch.cuda.amp.autocast(args...)` is deprecated. Please use `torch.amp.autocast('cuda', args...)` instead.\n",
            "  with torch.cuda.amp.autocast(amp):\n",
            "        3/4      4.42G    0.03229    0.01471          0         51        640:  27% 11/41 [00:04<00:17,  1.71it/s]/content/yolov5/yolov5/yolov5/train.py:412: FutureWarning: `torch.cuda.amp.autocast(args...)` is deprecated. Please use `torch.amp.autocast('cuda', args...)` instead.\n",
            "  with torch.cuda.amp.autocast(amp):\n",
            "        3/4      4.42G    0.03154    0.01457          0         44        640:  29% 12/41 [00:04<00:14,  1.95it/s]/content/yolov5/yolov5/yolov5/train.py:412: FutureWarning: `torch.cuda.amp.autocast(args...)` is deprecated. Please use `torch.amp.autocast('cuda', args...)` instead.\n",
            "  with torch.cuda.amp.autocast(amp):\n",
            "        3/4      4.42G    0.03487    0.01463          0         54        640:  32% 13/41 [00:05<00:18,  1.48it/s]/content/yolov5/yolov5/yolov5/train.py:412: FutureWarning: `torch.cuda.amp.autocast(args...)` is deprecated. Please use `torch.amp.autocast('cuda', args...)` instead.\n",
            "  with torch.cuda.amp.autocast(amp):\n",
            "        3/4      4.42G    0.03392    0.01454          0         48        640:  34% 14/41 [00:06<00:15,  1.74it/s]/content/yolov5/yolov5/yolov5/train.py:412: FutureWarning: `torch.cuda.amp.autocast(args...)` is deprecated. Please use `torch.amp.autocast('cuda', args...)` instead.\n",
            "  with torch.cuda.amp.autocast(amp):\n",
            "        3/4      4.42G    0.03309    0.01462          0         56        640:  37% 15/41 [00:07<00:17,  1.45it/s]/content/yolov5/yolov5/yolov5/train.py:412: FutureWarning: `torch.cuda.amp.autocast(args...)` is deprecated. Please use `torch.amp.autocast('cuda', args...)` instead.\n",
            "  with torch.cuda.amp.autocast(amp):\n",
            "        3/4      4.42G    0.03258    0.01445          0         44        640:  39% 16/41 [00:07<00:15,  1.62it/s]/content/yolov5/yolov5/yolov5/train.py:412: FutureWarning: `torch.cuda.amp.autocast(args...)` is deprecated. Please use `torch.amp.autocast('cuda', args...)` instead.\n",
            "  with torch.cuda.amp.autocast(amp):\n",
            "        3/4      4.42G    0.03224    0.01443          0         50        640:  41% 17/41 [00:09<00:25,  1.06s/it]/content/yolov5/yolov5/yolov5/train.py:412: FutureWarning: `torch.cuda.amp.autocast(args...)` is deprecated. Please use `torch.amp.autocast('cuda', args...)` instead.\n",
            "  with torch.cuda.amp.autocast(amp):\n",
            "        3/4      4.42G    0.03197    0.01439          0         48        640:  44% 18/41 [00:10<00:18,  1.22it/s]/content/yolov5/yolov5/yolov5/train.py:412: FutureWarning: `torch.cuda.amp.autocast(args...)` is deprecated. Please use `torch.amp.autocast('cuda', args...)` instead.\n",
            "  with torch.cuda.amp.autocast(amp):\n",
            "        3/4      4.42G    0.03163    0.01445          0         54        640:  46% 19/41 [00:10<00:18,  1.22it/s]/content/yolov5/yolov5/yolov5/train.py:412: FutureWarning: `torch.cuda.amp.autocast(args...)` is deprecated. Please use `torch.amp.autocast('cuda', args...)` instead.\n",
            "  with torch.cuda.amp.autocast(amp):\n",
            "        3/4      4.42G    0.03139    0.01437          0         43        640:  49% 20/41 [00:11<00:14,  1.49it/s]/content/yolov5/yolov5/yolov5/train.py:412: FutureWarning: `torch.cuda.amp.autocast(args...)` is deprecated. Please use `torch.amp.autocast('cuda', args...)` instead.\n",
            "  with torch.cuda.amp.autocast(amp):\n",
            "        3/4      4.42G    0.03098     0.0143          0         48        640:  51% 21/41 [00:11<00:13,  1.51it/s]/content/yolov5/yolov5/yolov5/train.py:412: FutureWarning: `torch.cuda.amp.autocast(args...)` is deprecated. Please use `torch.amp.autocast('cuda', args...)` instead.\n",
            "  with torch.cuda.amp.autocast(amp):\n",
            "        3/4      4.42G    0.03057     0.0142          0         47        640:  54% 22/41 [00:12<00:10,  1.87it/s]/content/yolov5/yolov5/yolov5/train.py:412: FutureWarning: `torch.cuda.amp.autocast(args...)` is deprecated. Please use `torch.amp.autocast('cuda', args...)` instead.\n",
            "  with torch.cuda.amp.autocast(amp):\n",
            "        3/4      4.42G    0.03009    0.01421          0         49        640:  56% 23/41 [00:12<00:09,  1.81it/s]/content/yolov5/yolov5/yolov5/train.py:412: FutureWarning: `torch.cuda.amp.autocast(args...)` is deprecated. Please use `torch.amp.autocast('cuda', args...)` instead.\n",
            "  with torch.cuda.amp.autocast(amp):\n",
            "        3/4      4.42G    0.02969    0.01424          0         52        640:  59% 24/41 [00:12<00:08,  2.08it/s]/content/yolov5/yolov5/yolov5/train.py:412: FutureWarning: `torch.cuda.amp.autocast(args...)` is deprecated. Please use `torch.amp.autocast('cuda', args...)` instead.\n",
            "  with torch.cuda.amp.autocast(amp):\n",
            "        3/4      4.42G    0.02934    0.01421          0         47        640:  61% 25/41 [00:13<00:08,  1.95it/s]/content/yolov5/yolov5/yolov5/train.py:412: FutureWarning: `torch.cuda.amp.autocast(args...)` is deprecated. Please use `torch.amp.autocast('cuda', args...)` instead.\n",
            "  with torch.cuda.amp.autocast(amp):\n",
            "        3/4      4.42G    0.02905    0.01417          0         49        640:  63% 26/41 [00:13<00:06,  2.31it/s]/content/yolov5/yolov5/yolov5/train.py:412: FutureWarning: `torch.cuda.amp.autocast(args...)` is deprecated. Please use `torch.amp.autocast('cuda', args...)` instead.\n",
            "  with torch.cuda.amp.autocast(amp):\n",
            "        3/4      4.42G    0.02878    0.01409          0         37        640:  66% 27/41 [00:14<00:07,  1.93it/s]/content/yolov5/yolov5/yolov5/train.py:412: FutureWarning: `torch.cuda.amp.autocast(args...)` is deprecated. Please use `torch.amp.autocast('cuda', args...)` instead.\n",
            "  with torch.cuda.amp.autocast(amp):\n",
            "        3/4      4.42G    0.02845    0.01397          0         44        640:  68% 28/41 [00:14<00:05,  2.21it/s]/content/yolov5/yolov5/yolov5/train.py:412: FutureWarning: `torch.cuda.amp.autocast(args...)` is deprecated. Please use `torch.amp.autocast('cuda', args...)` instead.\n",
            "  with torch.cuda.amp.autocast(amp):\n",
            "        3/4      4.42G    0.02815    0.01392          0         44        640:  71% 29/41 [00:15<00:05,  2.08it/s]/content/yolov5/yolov5/yolov5/train.py:412: FutureWarning: `torch.cuda.amp.autocast(args...)` is deprecated. Please use `torch.amp.autocast('cuda', args...)` instead.\n",
            "  with torch.cuda.amp.autocast(amp):\n",
            "        3/4      4.42G     0.0278    0.01388          0         51        640:  73% 30/41 [00:15<00:04,  2.51it/s]/content/yolov5/yolov5/yolov5/train.py:412: FutureWarning: `torch.cuda.amp.autocast(args...)` is deprecated. Please use `torch.amp.autocast('cuda', args...)` instead.\n",
            "  with torch.cuda.amp.autocast(amp):\n",
            "        3/4      4.42G    0.02753    0.01389          0         48        640:  76% 31/41 [00:16<00:04,  2.04it/s]/content/yolov5/yolov5/yolov5/train.py:412: FutureWarning: `torch.cuda.amp.autocast(args...)` is deprecated. Please use `torch.amp.autocast('cuda', args...)` instead.\n",
            "  with torch.cuda.amp.autocast(amp):\n",
            "        3/4      4.42G    0.02727    0.01392          0         49        640:  78% 32/41 [00:16<00:03,  2.32it/s]/content/yolov5/yolov5/yolov5/train.py:412: FutureWarning: `torch.cuda.amp.autocast(args...)` is deprecated. Please use `torch.amp.autocast('cuda', args...)` instead.\n",
            "  with torch.cuda.amp.autocast(amp):\n",
            "        3/4      4.42G    0.02717    0.01393          0         51        640:  80% 33/41 [00:17<00:03,  2.07it/s]/content/yolov5/yolov5/yolov5/train.py:412: FutureWarning: `torch.cuda.amp.autocast(args...)` is deprecated. Please use `torch.amp.autocast('cuda', args...)` instead.\n",
            "  with torch.cuda.amp.autocast(amp):\n",
            "        3/4      4.42G    0.02724    0.01385          0         42        640:  83% 34/41 [00:17<00:02,  2.45it/s]/content/yolov5/yolov5/yolov5/train.py:412: FutureWarning: `torch.cuda.amp.autocast(args...)` is deprecated. Please use `torch.amp.autocast('cuda', args...)` instead.\n",
            "  with torch.cuda.amp.autocast(amp):\n",
            "        3/4      4.42G    0.02731    0.01379          0         40        640:  85% 35/41 [00:18<00:02,  2.11it/s]/content/yolov5/yolov5/yolov5/train.py:412: FutureWarning: `torch.cuda.amp.autocast(args...)` is deprecated. Please use `torch.amp.autocast('cuda', args...)` instead.\n",
            "  with torch.cuda.amp.autocast(amp):\n",
            "        3/4      4.42G    0.02836    0.01381          0         56        640:  88% 36/41 [00:18<00:02,  2.38it/s]/content/yolov5/yolov5/yolov5/train.py:412: FutureWarning: `torch.cuda.amp.autocast(args...)` is deprecated. Please use `torch.amp.autocast('cuda', args...)` instead.\n",
            "  with torch.cuda.amp.autocast(amp):\n",
            "        3/4      4.42G    0.02811    0.01382          0         50        640:  90% 37/41 [00:18<00:01,  2.02it/s]/content/yolov5/yolov5/yolov5/train.py:412: FutureWarning: `torch.cuda.amp.autocast(args...)` is deprecated. Please use `torch.amp.autocast('cuda', args...)` instead.\n",
            "  with torch.cuda.amp.autocast(amp):\n",
            "        3/4      4.42G    0.02786    0.01383          0         50        640:  93% 38/41 [00:19<00:01,  2.35it/s]/content/yolov5/yolov5/yolov5/train.py:412: FutureWarning: `torch.cuda.amp.autocast(args...)` is deprecated. Please use `torch.amp.autocast('cuda', args...)` instead.\n",
            "  with torch.cuda.amp.autocast(amp):\n",
            "        3/4      4.42G    0.02771    0.01381          0         48        640:  95% 39/41 [00:20<00:01,  1.58it/s]/content/yolov5/yolov5/yolov5/train.py:412: FutureWarning: `torch.cuda.amp.autocast(args...)` is deprecated. Please use `torch.amp.autocast('cuda', args...)` instead.\n",
            "  with torch.cuda.amp.autocast(amp):\n",
            "        3/4      4.42G     0.0275    0.01384          0         53        640:  98% 40/41 [00:20<00:00,  1.85it/s]/content/yolov5/yolov5/yolov5/train.py:412: FutureWarning: `torch.cuda.amp.autocast(args...)` is deprecated. Please use `torch.amp.autocast('cuda', args...)` instead.\n",
            "  with torch.cuda.amp.autocast(amp):\n",
            "        3/4      4.43G    0.02727    0.01401          0          4        640: 100% 41/41 [00:21<00:00,  1.94it/s]\n",
            "                 Class     Images  Instances          P          R      mAP50   mAP50-95: 100% 6/6 [00:04<00:00,  1.40it/s]\n",
            "                   all        161        161      0.951      0.964      0.976      0.823\n",
            "\n",
            "      Epoch    GPU_mem   box_loss   obj_loss   cls_loss  Instances       Size\n",
            "  0% 0/41 [00:00<?, ?it/s]/content/yolov5/yolov5/yolov5/train.py:412: FutureWarning: `torch.cuda.amp.autocast(args...)` is deprecated. Please use `torch.amp.autocast('cuda', args...)` instead.\n",
            "  with torch.cuda.amp.autocast(amp):\n",
            "        4/4      4.43G    0.02172    0.01158          0         50        640:   2% 1/41 [00:00<00:08,  4.86it/s]/content/yolov5/yolov5/yolov5/train.py:412: FutureWarning: `torch.cuda.amp.autocast(args...)` is deprecated. Please use `torch.amp.autocast('cuda', args...)` instead.\n",
            "  with torch.cuda.amp.autocast(amp):\n",
            "        4/4      4.43G     0.0215    0.01336          0         55        640:   5% 2/41 [00:00<00:08,  4.70it/s]/content/yolov5/yolov5/yolov5/train.py:412: FutureWarning: `torch.cuda.amp.autocast(args...)` is deprecated. Please use `torch.amp.autocast('cuda', args...)` instead.\n",
            "  with torch.cuda.amp.autocast(amp):\n",
            "        4/4      4.43G    0.02067    0.01274          0         50        640:   7% 3/41 [00:00<00:08,  4.70it/s]/content/yolov5/yolov5/yolov5/train.py:412: FutureWarning: `torch.cuda.amp.autocast(args...)` is deprecated. Please use `torch.amp.autocast('cuda', args...)` instead.\n",
            "  with torch.cuda.amp.autocast(amp):\n",
            "        4/4      4.43G    0.02052    0.01284          0         49        640:  10% 4/41 [00:00<00:07,  4.86it/s]/content/yolov5/yolov5/yolov5/train.py:412: FutureWarning: `torch.cuda.amp.autocast(args...)` is deprecated. Please use `torch.amp.autocast('cuda', args...)` instead.\n",
            "  with torch.cuda.amp.autocast(amp):\n",
            "        4/4      4.43G    0.02136    0.01231          0         41        640:  12% 5/41 [00:01<00:13,  2.76it/s]/content/yolov5/yolov5/yolov5/train.py:412: FutureWarning: `torch.cuda.amp.autocast(args...)` is deprecated. Please use `torch.amp.autocast('cuda', args...)` instead.\n",
            "  with torch.cuda.amp.autocast(amp):\n",
            "        4/4      4.43G    0.02173    0.01233          0         45        640:  15% 6/41 [00:01<00:11,  2.98it/s]/content/yolov5/yolov5/yolov5/train.py:412: FutureWarning: `torch.cuda.amp.autocast(args...)` is deprecated. Please use `torch.amp.autocast('cuda', args...)` instead.\n",
            "  with torch.cuda.amp.autocast(amp):\n",
            "        4/4      4.43G    0.02178    0.01239          0         47        640:  17% 7/41 [00:02<00:13,  2.56it/s]/content/yolov5/yolov5/yolov5/train.py:412: FutureWarning: `torch.cuda.amp.autocast(args...)` is deprecated. Please use `torch.amp.autocast('cuda', args...)` instead.\n",
            "  with torch.cuda.amp.autocast(amp):\n",
            "        4/4      4.43G    0.02209    0.01246          0         51        640:  20% 8/41 [00:02<00:13,  2.45it/s]/content/yolov5/yolov5/yolov5/train.py:412: FutureWarning: `torch.cuda.amp.autocast(args...)` is deprecated. Please use `torch.amp.autocast('cuda', args...)` instead.\n",
            "  with torch.cuda.amp.autocast(amp):\n",
            "        4/4      4.43G    0.02226    0.01273          0         56        640:  22% 9/41 [00:03<00:13,  2.34it/s]/content/yolov5/yolov5/yolov5/train.py:412: FutureWarning: `torch.cuda.amp.autocast(args...)` is deprecated. Please use `torch.amp.autocast('cuda', args...)` instead.\n",
            "  with torch.cuda.amp.autocast(amp):\n",
            "        4/4      4.43G    0.02193    0.01253          0         43        640:  24% 10/41 [00:03<00:12,  2.42it/s]/content/yolov5/yolov5/yolov5/train.py:412: FutureWarning: `torch.cuda.amp.autocast(args...)` is deprecated. Please use `torch.amp.autocast('cuda', args...)` instead.\n",
            "  with torch.cuda.amp.autocast(amp):\n",
            "        4/4      4.43G    0.02174    0.01235          0         42        640:  27% 11/41 [00:04<00:13,  2.26it/s]/content/yolov5/yolov5/yolov5/train.py:412: FutureWarning: `torch.cuda.amp.autocast(args...)` is deprecated. Please use `torch.amp.autocast('cuda', args...)` instead.\n",
            "  with torch.cuda.amp.autocast(amp):\n",
            "        4/4      4.43G    0.02196    0.01224          0         46        640:  29% 12/41 [00:04<00:12,  2.35it/s]/content/yolov5/yolov5/yolov5/train.py:412: FutureWarning: `torch.cuda.amp.autocast(args...)` is deprecated. Please use `torch.amp.autocast('cuda', args...)` instead.\n",
            "  with torch.cuda.amp.autocast(amp):\n",
            "        4/4      4.43G    0.02623    0.01224          0         43        640:  32% 13/41 [00:04<00:11,  2.44it/s]/content/yolov5/yolov5/yolov5/train.py:412: FutureWarning: `torch.cuda.amp.autocast(args...)` is deprecated. Please use `torch.amp.autocast('cuda', args...)` instead.\n",
            "  with torch.cuda.amp.autocast(amp):\n",
            "        4/4      4.43G    0.02588     0.0123          0         51        640:  34% 14/41 [00:05<00:11,  2.30it/s]/content/yolov5/yolov5/yolov5/train.py:412: FutureWarning: `torch.cuda.amp.autocast(args...)` is deprecated. Please use `torch.amp.autocast('cuda', args...)` instead.\n",
            "  with torch.cuda.amp.autocast(amp):\n",
            "        4/4      4.43G     0.0285     0.0123          0         52        640:  37% 15/41 [00:05<00:12,  2.16it/s]/content/yolov5/yolov5/yolov5/train.py:412: FutureWarning: `torch.cuda.amp.autocast(args...)` is deprecated. Please use `torch.amp.autocast('cuda', args...)` instead.\n",
            "  with torch.cuda.amp.autocast(amp):\n",
            "        4/4      4.43G    0.02823    0.01223          0         47        640:  39% 16/41 [00:06<00:11,  2.14it/s]/content/yolov5/yolov5/yolov5/train.py:412: FutureWarning: `torch.cuda.amp.autocast(args...)` is deprecated. Please use `torch.amp.autocast('cuda', args...)` instead.\n",
            "  with torch.cuda.amp.autocast(amp):\n",
            "        4/4      4.43G    0.02771    0.01224          0         49        640:  41% 17/41 [00:06<00:10,  2.25it/s]/content/yolov5/yolov5/yolov5/train.py:412: FutureWarning: `torch.cuda.amp.autocast(args...)` is deprecated. Please use `torch.amp.autocast('cuda', args...)` instead.\n",
            "  with torch.cuda.amp.autocast(amp):\n",
            "        4/4      4.43G    0.02725    0.01211          0         44        640:  44% 18/41 [00:07<00:10,  2.20it/s]/content/yolov5/yolov5/yolov5/train.py:412: FutureWarning: `torch.cuda.amp.autocast(args...)` is deprecated. Please use `torch.amp.autocast('cuda', args...)` instead.\n",
            "  with torch.cuda.amp.autocast(amp):\n",
            "        4/4      4.43G    0.02678    0.01214          0         50        640:  46% 19/41 [00:07<00:10,  2.19it/s]/content/yolov5/yolov5/yolov5/train.py:412: FutureWarning: `torch.cuda.amp.autocast(args...)` is deprecated. Please use `torch.amp.autocast('cuda', args...)` instead.\n",
            "  with torch.cuda.amp.autocast(amp):\n",
            "        4/4      4.43G    0.02639    0.01206          0         45        640:  49% 20/41 [00:08<00:09,  2.12it/s]/content/yolov5/yolov5/yolov5/train.py:412: FutureWarning: `torch.cuda.amp.autocast(args...)` is deprecated. Please use `torch.amp.autocast('cuda', args...)` instead.\n",
            "  with torch.cuda.amp.autocast(amp):\n",
            "        4/4      4.43G    0.02613    0.01213          0         51        640:  51% 21/41 [00:08<00:09,  2.08it/s]/content/yolov5/yolov5/yolov5/train.py:412: FutureWarning: `torch.cuda.amp.autocast(args...)` is deprecated. Please use `torch.amp.autocast('cuda', args...)` instead.\n",
            "  with torch.cuda.amp.autocast(amp):\n",
            "        4/4      4.43G    0.02589     0.0121          0         45        640:  54% 22/41 [00:09<00:11,  1.68it/s]/content/yolov5/yolov5/yolov5/train.py:412: FutureWarning: `torch.cuda.amp.autocast(args...)` is deprecated. Please use `torch.amp.autocast('cuda', args...)` instead.\n",
            "  with torch.cuda.amp.autocast(amp):\n",
            "        4/4      4.43G    0.02562    0.01224          0         54        640:  56% 23/41 [00:13<00:29,  1.64s/it]/content/yolov5/yolov5/yolov5/train.py:412: FutureWarning: `torch.cuda.amp.autocast(args...)` is deprecated. Please use `torch.amp.autocast('cuda', args...)` instead.\n",
            "  with torch.cuda.amp.autocast(amp):\n",
            "        4/4      4.43G    0.02543    0.01219          0         47        640:  59% 24/41 [00:14<00:21,  1.27s/it]/content/yolov5/yolov5/yolov5/train.py:412: FutureWarning: `torch.cuda.amp.autocast(args...)` is deprecated. Please use `torch.amp.autocast('cuda', args...)` instead.\n",
            "  with torch.cuda.amp.autocast(amp):\n",
            "        4/4      4.43G    0.02694    0.01232          0         57        640:  61% 25/41 [00:14<00:16,  1.02s/it]/content/yolov5/yolov5/yolov5/train.py:412: FutureWarning: `torch.cuda.amp.autocast(args...)` is deprecated. Please use `torch.amp.autocast('cuda', args...)` instead.\n",
            "  with torch.cuda.amp.autocast(amp):\n",
            "        4/4      4.43G    0.02662    0.01226          0         45        640:  63% 26/41 [00:15<00:13,  1.11it/s]/content/yolov5/yolov5/yolov5/train.py:412: FutureWarning: `torch.cuda.amp.autocast(args...)` is deprecated. Please use `torch.amp.autocast('cuda', args...)` instead.\n",
            "  with torch.cuda.amp.autocast(amp):\n",
            "        4/4      4.43G     0.0262    0.01214          0         41        640:  66% 27/41 [00:15<00:10,  1.34it/s]/content/yolov5/yolov5/yolov5/train.py:412: FutureWarning: `torch.cuda.amp.autocast(args...)` is deprecated. Please use `torch.amp.autocast('cuda', args...)` instead.\n",
            "  with torch.cuda.amp.autocast(amp):\n",
            "        4/4      4.43G    0.02593    0.01211          0         45        640:  68% 28/41 [00:16<00:09,  1.43it/s]/content/yolov5/yolov5/yolov5/train.py:412: FutureWarning: `torch.cuda.amp.autocast(args...)` is deprecated. Please use `torch.amp.autocast('cuda', args...)` instead.\n",
            "  with torch.cuda.amp.autocast(amp):\n",
            "        4/4      4.43G    0.02569    0.01208          0         50        640:  71% 29/41 [00:16<00:06,  1.75it/s]/content/yolov5/yolov5/yolov5/train.py:412: FutureWarning: `torch.cuda.amp.autocast(args...)` is deprecated. Please use `torch.amp.autocast('cuda', args...)` instead.\n",
            "  with torch.cuda.amp.autocast(amp):\n",
            "        4/4      4.43G    0.02547    0.01212          0         50        640:  73% 30/41 [00:16<00:06,  1.73it/s]/content/yolov5/yolov5/yolov5/train.py:412: FutureWarning: `torch.cuda.amp.autocast(args...)` is deprecated. Please use `torch.amp.autocast('cuda', args...)` instead.\n",
            "  with torch.cuda.amp.autocast(amp):\n",
            "        4/4      4.43G    0.02524    0.01218          0         57        640:  76% 31/41 [00:17<00:05,  1.89it/s]/content/yolov5/yolov5/yolov5/train.py:412: FutureWarning: `torch.cuda.amp.autocast(args...)` is deprecated. Please use `torch.amp.autocast('cuda', args...)` instead.\n",
            "  with torch.cuda.amp.autocast(amp):\n",
            "        4/4      4.43G    0.02657    0.01215          0         46        640:  78% 32/41 [00:17<00:04,  1.86it/s]/content/yolov5/yolov5/yolov5/train.py:412: FutureWarning: `torch.cuda.amp.autocast(args...)` is deprecated. Please use `torch.amp.autocast('cuda', args...)` instead.\n",
            "  with torch.cuda.amp.autocast(amp):\n",
            "        4/4      4.43G    0.02631    0.01217          0         48        640:  80% 33/41 [00:18<00:03,  2.23it/s]/content/yolov5/yolov5/yolov5/train.py:412: FutureWarning: `torch.cuda.amp.autocast(args...)` is deprecated. Please use `torch.amp.autocast('cuda', args...)` instead.\n",
            "  with torch.cuda.amp.autocast(amp):\n",
            "        4/4      4.43G    0.02608    0.01207          0         38        640:  83% 34/41 [00:18<00:03,  1.98it/s]/content/yolov5/yolov5/yolov5/train.py:412: FutureWarning: `torch.cuda.amp.autocast(args...)` is deprecated. Please use `torch.amp.autocast('cuda', args...)` instead.\n",
            "  with torch.cuda.amp.autocast(amp):\n",
            "        4/4      4.43G    0.02607    0.01205          0         49        640:  85% 35/41 [00:19<00:02,  2.26it/s]/content/yolov5/yolov5/yolov5/train.py:412: FutureWarning: `torch.cuda.amp.autocast(args...)` is deprecated. Please use `torch.amp.autocast('cuda', args...)` instead.\n",
            "  with torch.cuda.amp.autocast(amp):\n",
            "        4/4      4.43G    0.02582    0.01204          0         44        640:  88% 36/41 [00:19<00:02,  2.11it/s]/content/yolov5/yolov5/yolov5/train.py:412: FutureWarning: `torch.cuda.amp.autocast(args...)` is deprecated. Please use `torch.amp.autocast('cuda', args...)` instead.\n",
            "  with torch.cuda.amp.autocast(amp):\n",
            "        4/4      4.43G    0.02564    0.01202          0         46        640:  90% 37/41 [00:19<00:01,  2.37it/s]/content/yolov5/yolov5/yolov5/train.py:412: FutureWarning: `torch.cuda.amp.autocast(args...)` is deprecated. Please use `torch.amp.autocast('cuda', args...)` instead.\n",
            "  with torch.cuda.amp.autocast(amp):\n",
            "        4/4      4.43G    0.02545    0.01202          0         47        640:  93% 38/41 [00:20<00:01,  2.09it/s]/content/yolov5/yolov5/yolov5/train.py:412: FutureWarning: `torch.cuda.amp.autocast(args...)` is deprecated. Please use `torch.amp.autocast('cuda', args...)` instead.\n",
            "  with torch.cuda.amp.autocast(amp):\n",
            "        4/4      4.43G    0.02526    0.01195          0         40        640:  95% 39/41 [00:20<00:00,  2.40it/s]/content/yolov5/yolov5/yolov5/train.py:412: FutureWarning: `torch.cuda.amp.autocast(args...)` is deprecated. Please use `torch.amp.autocast('cuda', args...)` instead.\n",
            "  with torch.cuda.amp.autocast(amp):\n",
            "        4/4      4.43G    0.02519    0.01197          0         52        640:  98% 40/41 [00:21<00:00,  2.12it/s]/content/yolov5/yolov5/yolov5/train.py:412: FutureWarning: `torch.cuda.amp.autocast(args...)` is deprecated. Please use `torch.amp.autocast('cuda', args...)` instead.\n",
            "  with torch.cuda.amp.autocast(amp):\n",
            "        4/4      4.44G    0.02515     0.0122          0          4        640: 100% 41/41 [00:21<00:00,  1.90it/s]\n",
            "                 Class     Images  Instances          P          R      mAP50   mAP50-95: 100% 6/6 [00:04<00:00,  1.42it/s]\n",
            "                   all        161        161      0.864      0.932      0.959      0.868\n",
            "\n",
            "5 epochs completed in 0.038 hours.\n",
            "Optimizer stripped from /content/drive/MyDrive/cotton_project/yolov5_training_runs/cotton_leaf_detector2/weights/last.pt, 14.4MB\n",
            "Optimizer stripped from /content/drive/MyDrive/cotton_project/yolov5_training_runs/cotton_leaf_detector2/weights/best.pt, 14.4MB\n",
            "\n",
            "Validating /content/drive/MyDrive/cotton_project/yolov5_training_runs/cotton_leaf_detector2/weights/best.pt...\n",
            "Fusing layers... \n",
            "YOLOv5s summary: 157 layers, 7012822 parameters, 0 gradients, 15.8 GFLOPs\n",
            "                 Class     Images  Instances          P          R      mAP50   mAP50-95: 100% 6/6 [00:06<00:00,  1.03s/it]\n",
            "                   all        161        161      0.868       0.94      0.959      0.868\n",
            "Results saved to \u001b[1m/content/drive/MyDrive/cotton_project/yolov5_training_runs/cotton_leaf_detector2\u001b[0m\n"
          ]
        }
      ]
    },
    {
      "cell_type": "code",
      "source": [
        "# Cell 8: Run Inference with Trained YOLOv5 Model\n",
        "\n",
        "# Path to your trained model weights (best.pt)\n",
        "TRAINED_WEIGHTS_PATH = '/content/drive/MyDrive/cotton_project/yolov5_training_runs/cotton_leaf_detector2/weights/best.pt'\n",
        "\n",
        "# Path to a new image you want to test\n",
        "# IMPORTANT: Change this to the actual path of your test image in Google Drive!\n",
        "TEST_IMAGE_PATH = '/content/drive/MyDrive/test_images/Q1.jpg' # <--- CHANGE THIS PATH!\n",
        "\n",
        "print(f\"Running inference on {TEST_IMAGE_PATH} using {TRAINED_WEIGHTS_PATH}...\")\n",
        "\n",
        "!python detect.py \\\n",
        "    --weights \"{TRAINED_WEIGHTS_PATH}\" \\\n",
        "    --source \"{TEST_IMAGE_PATH}\" \\\n",
        "    --imgsz 640 \\\n",
        "    --conf 0.25 \\\n",
        "    --name detected_leaves_output \\\n",
        "    --project /content/drive/MyDrive/cotton_project/yolov5_inference_results \\\n",
        "    --exist-ok # Overwrite previous run if name is same"
      ],
      "metadata": {
        "colab": {
          "base_uri": "https://localhost:8080/"
        },
        "id": "E-RPrBp_JypZ",
        "outputId": "38a43191-668e-4af0-f3d5-d9e64c925bbc"
      },
      "execution_count": null,
      "outputs": [
        {
          "output_type": "stream",
          "name": "stdout",
          "text": [
            "Running inference on /content/drive/MyDrive/test_images/Q1.jpg using /content/drive/MyDrive/cotton_project/yolov5_training_runs/cotton_leaf_detector2/weights/best.pt...\n",
            "\u001b[34m\u001b[1mdetect: \u001b[0mweights=['/content/drive/MyDrive/cotton_project/yolov5_training_runs/cotton_leaf_detector2/weights/best.pt'], source=/content/drive/MyDrive/test_images/Q1.jpg, data=data/coco128.yaml, imgsz=[640, 640], conf_thres=0.25, iou_thres=0.45, max_det=1000, device=, view_img=False, save_txt=False, save_format=0, save_csv=False, save_conf=False, save_crop=False, nosave=False, classes=None, agnostic_nms=False, augment=False, visualize=False, update=False, project=/content/drive/MyDrive/cotton_project/yolov5_inference_results, name=detected_leaves_output, exist_ok=True, line_thickness=3, hide_labels=False, hide_conf=False, half=False, dnn=False, vid_stride=1\n",
            "YOLOv5 🚀 v7.0-420-g0c99ce80 Python-3.11.13 torch-2.6.0+cu124 CUDA:0 (Tesla T4, 15095MiB)\n",
            "\n",
            "Fusing layers... \n",
            "YOLOv5s summary: 157 layers, 7012822 parameters, 0 gradients, 15.8 GFLOPs\n",
            "Traceback (most recent call last):\n",
            "  File \"/content/yolov5/yolov5/yolov5/detect.py\", line 438, in <module>\n",
            "    main(opt)\n",
            "  File \"/content/yolov5/yolov5/yolov5/detect.py\", line 433, in main\n",
            "    run(**vars(opt))\n",
            "  File \"/usr/local/lib/python3.11/dist-packages/torch/utils/_contextlib.py\", line 116, in decorate_context\n",
            "    return func(*args, **kwargs)\n",
            "           ^^^^^^^^^^^^^^^^^^^^^\n",
            "  File \"/content/yolov5/yolov5/yolov5/detect.py\", line 179, in run\n",
            "    dataset = LoadImages(source, img_size=imgsz, stride=stride, auto=pt, vid_stride=vid_stride)\n",
            "              ^^^^^^^^^^^^^^^^^^^^^^^^^^^^^^^^^^^^^^^^^^^^^^^^^^^^^^^^^^^^^^^^^^^^^^^^^^^^^^^^^\n",
            "  File \"/content/yolov5/yolov5/yolov5/utils/dataloaders.py\", line 339, in __init__\n",
            "    raise FileNotFoundError(f\"{p} does not exist\")\n",
            "FileNotFoundError: /content/drive/MyDrive/test_images/Q1.jpg does not exist\n"
          ]
        }
      ]
    },
    {
      "cell_type": "code",
      "source": [
        "# Verify contents of the test_images folder\n",
        "!ls -l /content/drive/MyDrive/test_images/"
      ],
      "metadata": {
        "colab": {
          "base_uri": "https://localhost:8080/"
        },
        "id": "7h67PAi8LlP2",
        "outputId": "45e31531-ed71-4f04-c268-c5736f37bf64"
      },
      "execution_count": null,
      "outputs": [
        {
          "output_type": "stream",
          "name": "stdout",
          "text": [
            "total 15\n",
            "-rw------- 1 root root 14584 Jun  9 19:30 Q1.jpg\n"
          ]
        }
      ]
    },
    {
      "cell_type": "code",
      "source": [
        "# Cell 8: Run Inference with Trained YOLOv5 Model\n",
        "\n",
        "# Path to your trained model weights (best.pt)\n",
        "TRAINED_WEIGHTS_PATH = '/content/drive/MyDrive/cotton_project/yolov5_training_runs/cotton_leaf_detector2/weights/best.pt'\n",
        "\n",
        "# Path to a new image you want to test\n",
        "TEST_IMAGE_PATH = '/content/drive/MyDrive/test_images/Q1.jpg' # This path is confirmed correct!\n",
        "\n",
        "print(f\"Running inference on {TEST_IMAGE_PATH} using {TRAINED_WEIGHTS_PATH}...\")\n",
        "\n",
        "!python detect.py \\\n",
        "    --weights \"{TRAINED_WEIGHTS_PATH}\" \\\n",
        "    --source \"{TEST_IMAGE_PATH}\" \\\n",
        "    --imgsz 640 \\\n",
        "    --conf 0.25 \\\n",
        "    --name detected_leaves_output \\\n",
        "    --project /content/drive/MyDrive/cotton_project/yolov5_inference_results \\\n",
        "    --exist-ok # Overwrite previous run if name is same"
      ],
      "metadata": {
        "colab": {
          "base_uri": "https://localhost:8080/"
        },
        "id": "ZozXe9y8LurZ",
        "outputId": "28660a62-6191-4325-dc2d-565507039546"
      },
      "execution_count": null,
      "outputs": [
        {
          "output_type": "stream",
          "name": "stdout",
          "text": [
            "Running inference on /content/drive/MyDrive/test_images/Q1.jpg using /content/drive/MyDrive/cotton_project/yolov5_training_runs/cotton_leaf_detector2/weights/best.pt...\n",
            "\u001b[34m\u001b[1mdetect: \u001b[0mweights=['/content/drive/MyDrive/cotton_project/yolov5_training_runs/cotton_leaf_detector2/weights/best.pt'], source=/content/drive/MyDrive/test_images/Q1.jpg, data=data/coco128.yaml, imgsz=[640, 640], conf_thres=0.25, iou_thres=0.45, max_det=1000, device=, view_img=False, save_txt=False, save_format=0, save_csv=False, save_conf=False, save_crop=False, nosave=False, classes=None, agnostic_nms=False, augment=False, visualize=False, update=False, project=/content/drive/MyDrive/cotton_project/yolov5_inference_results, name=detected_leaves_output, exist_ok=True, line_thickness=3, hide_labels=False, hide_conf=False, half=False, dnn=False, vid_stride=1\n",
            "YOLOv5 🚀 v7.0-420-g0c99ce80 Python-3.11.13 torch-2.6.0+cu124 CUDA:0 (Tesla T4, 15095MiB)\n",
            "\n",
            "Fusing layers... \n",
            "YOLOv5s summary: 157 layers, 7012822 parameters, 0 gradients, 15.8 GFLOPs\n",
            "image 1/1 /content/drive/MyDrive/test_images/Q1.jpg: 640x640 1 cotton_leaf, 11.6ms\n",
            "Speed: 0.7ms pre-process, 11.6ms inference, 137.1ms NMS per image at shape (1, 3, 640, 640)\n",
            "Results saved to \u001b[1m/content/drive/MyDrive/cotton_project/yolov5_inference_results/detected_leaves_output\u001b[0m\n"
          ]
        }
      ]
    },
    {
      "cell_type": "code",
      "source": [
        "# Cell 9: Function to Detect and Crop Leaves using YOLOv5\n",
        "\n",
        "import torch\n",
        "import cv2\n",
        "import os\n",
        "from PIL import Image # Using Pillow for image manipulation as it handles paths and formats well\n",
        "\n",
        "# Load the trained YOLOv5 model\n",
        "# IMPORTANT: Make sure this path is correct for your best.pt file\n",
        "TRAINED_WEIGHTS_PATH = '/content/drive/MyDrive/cotton_project/yolov5_training_runs/cotton_leaf_detector2/weights/best.pt'\n",
        "model = torch.hub.load('ultralytics/yolov5', 'custom', path=TRAINED_WEIGHTS_PATH)\n",
        "\n",
        "# Set confidence threshold (adjust if needed)\n",
        "model.conf = 0.25 # Confidence threshold for detection\n",
        "model.iou = 0.45  # IoU threshold for NMS\n",
        "\n",
        "def detect_and_crop_leaves(image_path, output_dir_base='/content/drive/MyDrive/cotton_project/cropped_leaves'):\n",
        "    \"\"\"\n",
        "    Detects cotton leaves in an image using YOLOv5 and saves cropped leaf images.\n",
        "\n",
        "    Args:\n",
        "        image_path (str): Path to the input image.\n",
        "        output_dir_base (str): Base directory to save cropped images.\n",
        "                                A subfolder will be created for each input image.\n",
        "    Returns:\n",
        "        list: A list of paths to the saved cropped leaf images.\n",
        "    \"\"\"\n",
        "    if not os.path.exists(image_path):\n",
        "        print(f\"Error: Input image not found at {image_path}\")\n",
        "        return []\n",
        "\n",
        "    print(f\"\\n--- Processing image: {image_path} ---\")\n",
        "\n",
        "    # Perform inference\n",
        "    results = model(image_path)\n",
        "\n",
        "    # Parse results for bounding boxes\n",
        "    # results.xyxy[0] contains detections for the first (and only) image in the batch\n",
        "    # format: [x1, y1, x2, y2, confidence, class_id]\n",
        "    detections = results.xyxy[0].cpu().numpy()\n",
        "\n",
        "    if len(detections) == 0:\n",
        "        print(f\"No cotton leaves detected in {image_path}.\")\n",
        "        return []\n",
        "\n",
        "    # Create output directory for this specific image\n",
        "    image_name = os.path.splitext(os.path.basename(image_path))[0]\n",
        "    output_image_dir = os.path.join(output_dir_base, image_name)\n",
        "    os.makedirs(output_image_dir, exist_ok=True)\n",
        "    print(f\"Saving cropped leaves to: {output_image_dir}\")\n",
        "\n",
        "    cropped_leaf_paths = []\n",
        "\n",
        "    # Load the original image once for cropping\n",
        "    original_image = Image.open(image_path).convert(\"RGB\")\n",
        "\n",
        "    for i, det in enumerate(detections):\n",
        "        x1, y1, x2, y2, conf, cls = map(int, det[:6]) # Convert to int for cropping\n",
        "        # Expand bounding box slightly for better context (optional)\n",
        "        # You can adjust these values as needed\n",
        "        expand_pixels = 10\n",
        "        img_width, img_height = original_image.size\n",
        "        x1 = max(0, x1 - expand_pixels)\n",
        "        y1 = max(0, y1 - expand_pixels)\n",
        "        x2 = min(img_width, x2 + expand_pixels)\n",
        "        y2 = min(img_height, y2 + expand_pixels)\n",
        "\n",
        "        cropped_leaf = original_image.crop((x1, y1, x2, y2))\n",
        "        cropped_leaf_path = os.path.join(output_image_dir, f'leaf_{i+1}.jpg')\n",
        "        cropped_leaf.save(cropped_leaf_path)\n",
        "        cropped_leaf_paths.append(cropped_leaf_path)\n",
        "        print(f\"  - Detected leaf {i+1} (Conf: {conf/100:.2f}) saved to {cropped_leaf_path}\")\n",
        "\n",
        "    print(f\"--- Finished processing {image_path} ---\")\n",
        "    return cropped_leaf_paths\n",
        "\n",
        "# --- Example Usage ---\n",
        "# Ensure you have a test image. Using the same Q1.jpg from before.\n",
        "TEST_IMAGE_FOR_CROPPING = '/content/drive/MyDrive/test_images/Q1.jpg'\n",
        "\n",
        "# Define where you want to save the cropped leaves\n",
        "CROPPED_LEAVES_BASE_DIR = '/content/drive/MyDrive/cotton_project/cropped_leaves'\n",
        "os.makedirs(CROPPED_LEAVES_BASE_DIR, exist_ok=True) # Ensure the base output directory exists\n",
        "\n",
        "print(\"Running detection and cropping for example image...\")\n",
        "cropped_files = detect_and_crop_leaves(TEST_IMAGE_FOR_CROPPING, CROPPED_LEAVES_BASE_DIR)\n",
        "\n",
        "if cropped_files:\n",
        "    print(f\"\\nSuccessfully cropped {len(cropped_files)} leaves.\")\n",
        "    for f_path in cropped_files:\n",
        "        print(f\"  - {f_path}\")\n",
        "else:\n",
        "    print(\"\\nNo leaves were cropped.\")"
      ],
      "metadata": {
        "colab": {
          "base_uri": "https://localhost:8080/"
        },
        "id": "kBVreiRKM3JZ",
        "outputId": "e2253222-eda0-4c4f-b71b-895143fc4e52"
      },
      "execution_count": null,
      "outputs": [
        {
          "output_type": "stream",
          "name": "stderr",
          "text": [
            "/usr/local/lib/python3.11/dist-packages/torch/hub.py:330: UserWarning: You are about to download and run code from an untrusted repository. In a future release, this won't be allowed. To add the repository to your trusted list, change the command to {calling_fn}(..., trust_repo=False) and a command prompt will appear asking for an explicit confirmation of trust, or load(..., trust_repo=True), which will assume that the prompt is to be answered with 'yes'. You can also use load(..., trust_repo='check') which will only prompt for confirmation if the repo is not already trusted. This will eventually be the default behaviour\n",
            "  warnings.warn(\n",
            "Downloading: \"https://github.com/ultralytics/yolov5/zipball/master\" to /root/.cache/torch/hub/master.zip\n",
            "YOLOv5 🚀 2025-6-9 Python-3.11.13 torch-2.6.0+cu124 CUDA:0 (Tesla T4, 15095MiB)\n",
            "\n",
            "Fusing layers... \n",
            "YOLOv5s summary: 157 layers, 7012822 parameters, 0 gradients, 15.8 GFLOPs\n",
            "Adding AutoShape... \n",
            "/root/.cache/torch/hub/ultralytics_yolov5_master/models/common.py:906: FutureWarning: `torch.cuda.amp.autocast(args...)` is deprecated. Please use `torch.amp.autocast('cuda', args...)` instead.\n",
            "  with amp.autocast(autocast):\n"
          ]
        },
        {
          "output_type": "stream",
          "name": "stdout",
          "text": [
            "Running detection and cropping for example image...\n",
            "\n",
            "--- Processing image: /content/drive/MyDrive/test_images/Q1.jpg ---\n",
            "Saving cropped leaves to: /content/drive/MyDrive/cotton_project/cropped_leaves/Q1\n",
            "  - Detected leaf 1 (Conf: 0.00) saved to /content/drive/MyDrive/cotton_project/cropped_leaves/Q1/leaf_1.jpg\n",
            "--- Finished processing /content/drive/MyDrive/test_images/Q1.jpg ---\n",
            "\n",
            "Successfully cropped 1 leaves.\n",
            "  - /content/drive/MyDrive/cotton_project/cropped_leaves/Q1/leaf_1.jpg\n"
          ]
        }
      ]
    },
    {
      "cell_type": "code",
      "source": [
        "# Cell 10 (or a new cell after your YOLOv5 cropping code):\n",
        "# Code for EfficientNet-B0 Classification\n",
        "\n",
        "import torch\n",
        "import torchvision.transforms as transforms\n",
        "from PIL import Image\n",
        "import os\n",
        "import timm\n",
        "import torch.nn as nn\n",
        "\n",
        "# --- Configuration for EfficientNet Classification ---\n",
        "\n",
        "# Path to your trained EfficientNet-B0 model weights\n",
        "EFFICIENTNET_WEIGHTS_PATH = '/content/drive/MyDrive/cotton_project/best_finetuned.pth'\n",
        "\n",
        "# Class names in the exact order your EfficientNet model was trained on\n",
        "# (Based on the output you provided)\n",
        "EFFICIENTNET_CLASS_NAMES = ['Aphids', 'Army worm', 'Bacterial Blight', 'Cotton Boll Rot', 'Curl Virus',\n",
        "                           'Fussarium Wilt', 'Green Cotton Boll', 'Healthy', 'Powdery mildew', 'Target Spot']\n",
        "\n",
        "# Define the device\n",
        "device = torch.device(\"cuda\" if torch.cuda.is_available() else \"cpu\")\n",
        "\n",
        "# --- Load and Prepare EfficientNet Model ---\n",
        "\n",
        "print(f\"\\n--- Loading EfficientNet-B0 model from {EFFICIENTNET_WEIGHTS_PATH} ---\")\n",
        "\n",
        "# 1. Create the EfficientNet-B0 model architecture\n",
        "# Use the same 'tf_efficientnet_b0' and pretrained=True as you did during training\n",
        "efficientnet_model = timm.create_model(\"tf_efficientnet_b0\", pretrained=False) # pretrained=False because we load custom weights\n",
        "\n",
        "# 2. Modify the classifier head to match your number of classes\n",
        "num_classes_efficientnet = len(EFFICIENTNET_CLASS_NAMES)\n",
        "efficientnet_model.classifier = nn.Linear(efficientnet_model.classifier.in_features, num_classes_efficientnet)\n",
        "\n",
        "# 3. Load the trained state_dict\n",
        "try:\n",
        "    efficientnet_model.load_state_dict(torch.load(EFFICIENTNET_WEIGHTS_PATH, map_location=device))\n",
        "    efficientnet_model = efficientnet_model.to(device)\n",
        "    efficientnet_model.eval() # Set model to evaluation mode\n",
        "    print(\"✅ EfficientNet-B0 model loaded successfully.\")\n",
        "except FileNotFoundError:\n",
        "    print(f\"Error: EfficientNet model not found at {EFFICIENTNET_WEIGHTS_PATH}\")\n",
        "    efficientnet_model = None # Indicate model loading failed\n",
        "except Exception as e:\n",
        "    print(f\"Error loading EfficientNet model: {e}\")\n",
        "    efficientnet_model = None\n",
        "\n",
        "# --- Image Preprocessing for EfficientNet ---\n",
        "\n",
        "# Define the same transformations as during your EfficientNet training\n",
        "# (Resize to 224x224, ToTensor, NO Normalize as per your training code)\n",
        "efficientnet_transform = transforms.Compose([\n",
        "    transforms.Resize((224, 224)),\n",
        "    transforms.ToTensor(),\n",
        "])\n",
        "\n",
        "# --- Function for Classification ---\n",
        "\n",
        "def classify_leaf(image_path, model, transform, class_names, device):\n",
        "    \"\"\"\n",
        "    Classifies a single leaf image using the loaded EfficientNet model.\n",
        "\n",
        "    Args:\n",
        "        image_path (str): Path to the cropped leaf image.\n",
        "        model (torch.nn.Module): The loaded EfficientNet model.\n",
        "        transform (torchvision.transforms.Compose): Image transformations.\n",
        "        class_names (list): List of class names.\n",
        "        device (torch.device): Device to run inference on (cuda or cpu).\n",
        "\n",
        "    Returns:\n",
        "        tuple: (predicted_class_name, confidence) or (None, None) if error.\n",
        "    \"\"\"\n",
        "    if model is None:\n",
        "        return \"Model not loaded\", 0.0\n",
        "\n",
        "    try:\n",
        "        image = Image.open(image_path).convert(\"RGB\")\n",
        "        image_tensor = transform(image).unsqueeze(0).to(device) # Add batch dimension\n",
        "    except FileNotFoundError:\n",
        "        print(f\"Error: Cropped leaf image not found at {image_path}\")\n",
        "        return \"Image not found\", 0.0\n",
        "    except Exception as e:\n",
        "        print(f\"Error loading or transforming image {image_path}: {e}\")\n",
        "        return \"Processing error\", 0.0\n",
        "\n",
        "    with torch.no_grad():\n",
        "        outputs = model(image_tensor)\n",
        "        probabilities = torch.softmax(outputs, dim=1)\n",
        "        confidence, predicted_idx = torch.max(probabilities, 1)\n",
        "\n",
        "    predicted_class = class_names[predicted_idx.item()]\n",
        "    return predicted_class, confidence.item()\n",
        "\n",
        "# --- Run Classification on Cropped Leaves ---\n",
        "\n",
        "print(\"\\n--- Running EfficientNet Classification on Cropped Leaves ---\")\n",
        "\n",
        "# 'cropped_files' list should be available from the previous YOLOv5 cropping step\n",
        "if 'cropped_files' in globals() and cropped_files:\n",
        "    for i, leaf_path in enumerate(cropped_files):\n",
        "        predicted_class, confidence = classify_leaf(leaf_path, efficientnet_model,\n",
        "                                                    efficientnet_transform, EFFICIENTNET_CLASS_NAMES, device)\n",
        "        print(f\"  Leaf {i+1} ({os.path.basename(leaf_path)}): Predicted: {predicted_class} (Confidence: {confidence:.4f})\")\n",
        "else:\n",
        "    print(\"No cropped leaf images found. Please run the YOLOv5 cropping step first.\")\n",
        "    # If you want to test with a specific cropped image, you can manually set it here:\n",
        "    # cropped_files = [\"/content/drive/MyDrive/cotton_project/cropped_leaves/Q1/leaf_1.jpg\"]\n",
        "    # For testing, uncomment the above line and re-run this cell."
      ],
      "metadata": {
        "colab": {
          "base_uri": "https://localhost:8080/"
        },
        "id": "1aNGn1JMPZUq",
        "outputId": "b28ba460-dea8-4f6e-91f2-db5869292b8f"
      },
      "execution_count": null,
      "outputs": [
        {
          "output_type": "stream",
          "name": "stdout",
          "text": [
            "\n",
            "--- Loading EfficientNet-B0 model from /content/drive/MyDrive/cotton_project/best_finetuned.pth ---\n",
            "✅ EfficientNet-B0 model loaded successfully.\n",
            "\n",
            "--- Running EfficientNet Classification on Cropped Leaves ---\n",
            "  Leaf 1 (leaf_1.jpg): Predicted: Powdery mildew (Confidence: 0.9999)\n"
          ]
        }
      ]
    },
    {
      "cell_type": "code",
      "source": [
        "# Cell 11: Combined Pipeline for Detection, Classification & Visualization\n",
        "import random\n",
        "import torch\n",
        "import torchvision.transforms as transforms\n",
        "from PIL import Image, ImageDraw, ImageFont # Import ImageDraw and ImageFont\n",
        "import os\n",
        "import timm\n",
        "import torch.nn as nn\n",
        "import numpy as np # For potential numpy array operations if needed\n",
        "\n",
        "# --- Configuration (reuse from previous cells) ---\n",
        "\n",
        "# YOLOv5 Model Paths\n",
        "YOLOV5_WEIGHTS_PATH = '/content/drive/MyDrive/cotton_project/yolov5_training_runs/cotton_leaf_detector2/weights/best.pt'\n",
        "YOLOV5_CONF_THRESHOLD = 0.25 # Confidence threshold for YOLOv5 detection\n",
        "YOLOV5_IOU_THRESHOLD = 0.45  # IoU threshold for YOLOv5 NMS\n",
        "\n",
        "# EfficientNet Model Paths and Classes\n",
        "EFFICIENTNET_WEIGHTS_PATH = '/content/drive/MyDrive/cotton_project/best_finetuned.pth'\n",
        "EFFICIENTNET_CLASS_NAMES = ['Aphids', 'Army worm', 'Bacterial Blight', 'Cotton Boll Rot', 'Curl Virus',\n",
        "                           'Fussarium Wilt', 'Green Cotton Boll', 'Healthy', 'Powdery mildew', 'Target Spot']\n",
        "\n",
        "# Common Device Setting\n",
        "device = torch.device(\"cuda\" if torch.cuda.is_available() else \"cpu\")\n",
        "\n",
        "# --- Load Models (Load once at the beginning) ---\n",
        "\n",
        "print(\"Loading YOLOv5 and EfficientNet models...\")\n",
        "\n",
        "# Load YOLOv5 Model\n",
        "yolov5_model = torch.hub.load('ultralytics/yolov5', 'custom', path=YOLOV5_WEIGHTS_PATH)\n",
        "yolov5_model.conf = YOLOV5_CONF_THRESHOLD\n",
        "yolov5_model.iou = YOLOV5_IOU_THRESHOLD\n",
        "print(\"✅ YOLOv5 model loaded.\")\n",
        "\n",
        "# Load EfficientNet Model\n",
        "efficientnet_model = timm.create_model(\"tf_efficientnet_b0\", pretrained=False)\n",
        "num_classes_efficientnet = len(EFFICIENTNET_CLASS_NAMES)\n",
        "efficientnet_model.classifier = nn.Linear(efficientnet_model.classifier.in_features, num_classes_efficientnet)\n",
        "\n",
        "try:\n",
        "    efficientnet_model.load_state_dict(torch.load(EFFICIENTNET_WEIGHTS_PATH, map_location=device))\n",
        "    efficientnet_model = efficientnet_model.to(device)\n",
        "    efficientnet_model.eval() # Set model to evaluation mode\n",
        "    print(\"✅ EfficientNet-B0 model loaded.\")\n",
        "except FileNotFoundError:\n",
        "    print(f\"Error: EfficientNet model not found at {EFFICIENTNET_WEIGHTS_PATH}. Please check path.\")\n",
        "    efficientnet_model = None\n",
        "except Exception as e:\n",
        "    print(f\"Error loading EfficientNet model: {e}\")\n",
        "    efficientnet_model = None\n",
        "\n",
        "# EfficientNet Preprocessing Transform\n",
        "efficientnet_transform = transforms.Compose([\n",
        "    transforms.Resize((224, 224)),\n",
        "    transforms.ToTensor(),\n",
        "])\n",
        "\n",
        "# --- Helper to get font for drawing (might need to install if not available) ---\n",
        "try:\n",
        "    font = ImageFont.truetype(\"arial.ttf\", 20) # You might need to change font or size\n",
        "except IOError:\n",
        "    print(\"Warning: Arial font not found. Using default PIL font.\")\n",
        "    font = ImageFont.load_default()\n",
        "\n",
        "# --- Main Pipeline Function ---\n",
        "\n",
        "def run_full_pipeline(image_path, output_image_path):\n",
        "    \"\"\"\n",
        "    Runs the full detection and classification pipeline on a single image,\n",
        "    draws results, and saves the annotated image.\n",
        "\n",
        "    Args:\n",
        "        image_path (str): Path to the input image.\n",
        "        output_image_path (str): Path to save the annotated output image.\n",
        "    \"\"\"\n",
        "    if not os.path.exists(image_path):\n",
        "        print(f\"Skipping {image_path}: Not found.\")\n",
        "        return\n",
        "\n",
        "    print(f\"\\nProcessing: {os.path.basename(image_path)}\")\n",
        "\n",
        "    original_image = Image.open(image_path).convert(\"RGB\")\n",
        "    annotated_image = original_image.copy()\n",
        "    draw = ImageDraw.Draw(annotated_image)\n",
        "\n",
        "    # 1. Run YOLOv5 Detection\n",
        "    results = yolov5_model(image_path)\n",
        "    detections = results.xyxy[0].cpu().numpy() # [x1, y1, x2, y2, confidence, class_id]\n",
        "\n",
        "    if len(detections) == 0:\n",
        "        print(f\"  No cotton leaves detected in {os.path.basename(image_path)}.\")\n",
        "        # If no leaves, save original image as is or with a \"no leaves\" label\n",
        "        draw.text((10, 10), \"No Cotton Leaves Detected\", fill=(255,0,0), font=font)\n",
        "        annotated_image.save(output_image_path)\n",
        "        return\n",
        "\n",
        "    # 2. Iterate through detections, Crop, Classify with EfficientNet, and Draw\n",
        "    for i, det in enumerate(detections):\n",
        "        x1, y1, x2, y2 = map(int, det[:4])\n",
        "        yolov5_conf = det[4] # YOLOv5 detection confidence\n",
        "\n",
        "        # Ensure coordinates are within image bounds\n",
        "        x1 = max(0, x1)\n",
        "        y1 = max(0, y1)\n",
        "        x2 = min(original_image.width, x2)\n",
        "        y2 = min(original_image.height, y2)\n",
        "\n",
        "        # Skip if bounding box is invalid\n",
        "        if x2 <= x1 or y2 <= y1:\n",
        "            continue\n",
        "\n",
        "        # Crop the leaf from the original image (in-memory)\n",
        "        cropped_leaf_image = original_image.crop((x1, y1, x2, y2))\n",
        "\n",
        "        # Classify with EfficientNet\n",
        "        predicted_class = \"N/A\"\n",
        "        efficientnet_conf = 0.0\n",
        "\n",
        "        if efficientnet_model is not None:\n",
        "            try:\n",
        "                # Apply EfficientNet transformations\n",
        "                image_tensor = efficientnet_transform(cropped_leaf_image).unsqueeze(0).to(device)\n",
        "                with torch.no_grad():\n",
        "                    outputs = efficientnet_model(image_tensor)\n",
        "                    probabilities = torch.softmax(outputs, dim=1)\n",
        "                    efficientnet_conf, predicted_idx = torch.max(probabilities, 1)\n",
        "                predicted_class = EFFICIENTNET_CLASS_NAMES[predicted_idx.item()]\n",
        "                efficientnet_conf = efficientnet_conf.item()\n",
        "            except Exception as e:\n",
        "                print(f\"  Error during EfficientNet classification for leaf {i+1}: {e}\")\n",
        "                predicted_class = \"Classification Error\"\n",
        "        else:\n",
        "            predicted_class = \"EfficientNet Not Loaded\"\n",
        "\n",
        "        # 3. Draw Bounding Box and Label on the original image\n",
        "        box_color = (255, 255, 0) # Yellow for bounding box\n",
        "        label_color = (255, 0, 0) # Red for text\n",
        "        line_width = 3\n",
        "\n",
        "        # Draw rectangle\n",
        "        draw.rectangle([x1, y1, x2, y2], outline=box_color, width=line_width)\n",
        "\n",
        "        # Prepare label text\n",
        "        label_text = f\"Leaf: {predicted_class} ({efficientnet_conf:.2f})\"\n",
        "\n",
        "        # Determine text position to be outside the box, top-left\n",
        "        text_x = x1\n",
        "        text_y = y1 - 25 # Adjust for font size, moves label above the box\n",
        "\n",
        "        # If label goes off screen, move it inside or below\n",
        "        if text_y < 0:\n",
        "            text_y = y1 + 5 # Place inside/below if too high\n",
        "\n",
        "        # Draw text background for better visibility\n",
        "        text_bbox = draw.textbbox((text_x, text_y), label_text, font=font)\n",
        "        draw.rectangle(text_bbox, fill=box_color) # Fill with box color for background\n",
        "        draw.text((text_x, text_y), label_text, fill=label_color, font=font) # Draw text in red\n",
        "\n",
        "        print(f\"  Leaf {i+1}: Detected (Conf: {yolov5_conf:.2f}), Classified as '{predicted_class}' (Conf: {efficientnet_conf:.2f})\")\n",
        "\n",
        "    # Save the annotated image\n",
        "    annotated_image.save(output_image_path)\n",
        "    print(f\"  Annotated image saved to: {output_image_path}\")\n",
        "\n",
        "\n",
        "# --- Function to Process a Folder of Images (UPDATED for random 100 images) ---\n",
        "\n",
        "def process_image_folder(input_folder, output_folder, num_images_to_process=100):\n",
        "    \"\"\"\n",
        "    Processes a random subset of images (or all if less than num_images_to_process)\n",
        "    in an input folder and its subfolders through the pipeline and saves\n",
        "    annotated images to an output folder.\n",
        "\n",
        "    Args:\n",
        "        input_folder (str): Path to the base folder containing input images (can have subfolders).\n",
        "        output_folder (str): Path to save the annotated output images.\n",
        "        num_images_to_process (int): The maximum number of random images to process.\n",
        "                                      Set to 0 or None to process all found images.\n",
        "    \"\"\"\n",
        "    os.makedirs(output_folder, exist_ok=True) # Ensure output folder exists\n",
        "\n",
        "    image_paths = []\n",
        "    # Use os.walk to traverse through all directories and find image files\n",
        "    for root, _, files in os.walk(input_folder):\n",
        "        for file in files:\n",
        "            if file.lower().endswith(('.png', '.jpg', '.jpeg')):\n",
        "                image_paths.append(os.path.join(root, file))\n",
        "\n",
        "    if not image_paths:\n",
        "        print(f\"No image files found in {input_folder} or its subfolders.\")\n",
        "        return\n",
        "\n",
        "    # --- NEW LOGIC for Randomly selecting a subset of images ---\n",
        "    total_found_images = len(image_paths)\n",
        "\n",
        "    # If num_images_to_process is specified and less than total images, select a random sample\n",
        "    if num_images_to_process > 0 and total_found_images > num_images_to_process:\n",
        "        print(f\"Found {total_found_images} images. Randomly selecting {num_images_to_process} for processing.\")\n",
        "        selected_image_paths = random.sample(image_paths, num_images_to_process)\n",
        "    else:\n",
        "        selected_image_paths = image_paths # Process all if less than or no limit specified\n",
        "        print(f\"Processing all {total_found_images} images.\")\n",
        "\n",
        "    print(f\"\\n--- Starting batch processing of {len(selected_image_paths)} images in: {input_folder} ---\")\n",
        "    for img_path in selected_image_paths: # Loop over the selected subset\n",
        "        # Construct a unique output filename\n",
        "        relative_path = os.path.relpath(img_path, input_folder)\n",
        "        output_filename = f\"annotated_{relative_path.replace(os.sep, '_')}\"\n",
        "        output_image_path = os.path.join(output_folder, output_filename)\n",
        "\n",
        "        run_full_pipeline(img_path, output_image_path)\n",
        "    print(f\"--- Finished batch processing. Results saved to: {output_folder} ---\")\n",
        "\n",
        "\n",
        "# --- Example Usage (Corrected - Only one call to process_image_folder) ---\n",
        "\n",
        "# Define your input and output folders for testing\n",
        "INPUT_IMAGES_FOLDER = '/content/drive/MyDrive/cotton_project/cotton_split/test'\n",
        "OUTPUT_RESULTS_FOLDER = '/content/drive/MyDrive/cotton_project/pipeline_results'\n",
        "\n",
        "# Run the batch processing, processing only 100 random images\n",
        "process_image_folder(INPUT_IMAGES_FOLDER, OUTPUT_RESULTS_FOLDER, num_images_to_process=100)\n",
        "\n",
        "# If you want to process ALL images again, you would use this line instead:\n",
        "# process_image_folder(INPUT_IMAGES_FOLDER, OUTPUT_RESULTS_FOLDER, num_images_to_process=0)\n",
        "\n",
        "# You can also test a single image if you prefer (uncomment and use your specific path):\n",
        "# run_full_pipeline('/content/drive/MyDrive/test_images/Q1.jpg', '/content/drive/MyDrive/cotton_project/pipeline_results/annotated_Q1.jpg')"
      ],
      "metadata": {
        "colab": {
          "base_uri": "https://localhost:8080/"
        },
        "id": "mLpMy_kxTePL",
        "outputId": "f330a9cf-3195-4186-a136-44c75134e1c4"
      },
      "execution_count": null,
      "outputs": [
        {
          "output_type": "stream",
          "name": "stdout",
          "text": [
            "Loading YOLOv5 and EfficientNet models...\n"
          ]
        },
        {
          "output_type": "stream",
          "name": "stderr",
          "text": [
            "Using cache found in /root/.cache/torch/hub/ultralytics_yolov5_master\n",
            "YOLOv5 🚀 2025-6-9 Python-3.11.13 torch-2.6.0+cu124 CUDA:0 (Tesla T4, 15095MiB)\n",
            "\n",
            "Fusing layers... \n",
            "YOLOv5s summary: 157 layers, 7012822 parameters, 0 gradients, 15.8 GFLOPs\n",
            "Adding AutoShape... \n"
          ]
        },
        {
          "output_type": "stream",
          "name": "stdout",
          "text": [
            "✅ YOLOv5 model loaded.\n",
            "✅ EfficientNet-B0 model loaded.\n",
            "Warning: Arial font not found. Using default PIL font.\n",
            "Found 1249 images. Randomly selecting 100 for processing.\n",
            "\n",
            "--- Starting batch processing of 100 images in: /content/drive/MyDrive/cotton_project/cotton_split/test ---\n",
            "\n",
            "Processing: test_341.jpg\n"
          ]
        },
        {
          "output_type": "stream",
          "name": "stderr",
          "text": [
            "/root/.cache/torch/hub/ultralytics_yolov5_master/models/common.py:906: FutureWarning: `torch.cuda.amp.autocast(args...)` is deprecated. Please use `torch.amp.autocast('cuda', args...)` instead.\n",
            "  with amp.autocast(autocast):\n"
          ]
        },
        {
          "output_type": "stream",
          "name": "stdout",
          "text": [
            "  Leaf 1: Detected (Conf: 0.50), Classified as 'Fussarium Wilt' (Conf: 1.00)\n",
            "  Annotated image saved to: /content/drive/MyDrive/cotton_project/pipeline_results/annotated_Fussarium Wilt_test_341.jpg\n",
            "\n",
            "Processing: test_605.jpg\n"
          ]
        },
        {
          "output_type": "stream",
          "name": "stderr",
          "text": [
            "/root/.cache/torch/hub/ultralytics_yolov5_master/models/common.py:906: FutureWarning: `torch.cuda.amp.autocast(args...)` is deprecated. Please use `torch.amp.autocast('cuda', args...)` instead.\n",
            "  with amp.autocast(autocast):\n"
          ]
        },
        {
          "output_type": "stream",
          "name": "stdout",
          "text": [
            "  No cotton leaves detected in test_605.jpg.\n",
            "\n",
            "Processing: test_43.jpg\n"
          ]
        },
        {
          "output_type": "stream",
          "name": "stderr",
          "text": [
            "/root/.cache/torch/hub/ultralytics_yolov5_master/models/common.py:906: FutureWarning: `torch.cuda.amp.autocast(args...)` is deprecated. Please use `torch.amp.autocast('cuda', args...)` instead.\n",
            "  with amp.autocast(autocast):\n",
            "/root/.cache/torch/hub/ultralytics_yolov5_master/models/common.py:906: FutureWarning: `torch.cuda.amp.autocast(args...)` is deprecated. Please use `torch.amp.autocast('cuda', args...)` instead.\n",
            "  with amp.autocast(autocast):\n"
          ]
        },
        {
          "output_type": "stream",
          "name": "stdout",
          "text": [
            "  No cotton leaves detected in test_43.jpg.\n",
            "\n",
            "Processing: test_405.jpg\n",
            "  Leaf 1: Detected (Conf: 0.53), Classified as 'Aphids' (Conf: 1.00)\n",
            "  Annotated image saved to: /content/drive/MyDrive/cotton_project/pipeline_results/annotated_Aphids_test_405.jpg\n",
            "\n",
            "Processing: test_12.jpg\n"
          ]
        },
        {
          "output_type": "stream",
          "name": "stderr",
          "text": [
            "/root/.cache/torch/hub/ultralytics_yolov5_master/models/common.py:906: FutureWarning: `torch.cuda.amp.autocast(args...)` is deprecated. Please use `torch.amp.autocast('cuda', args...)` instead.\n",
            "  with amp.autocast(autocast):\n"
          ]
        },
        {
          "output_type": "stream",
          "name": "stdout",
          "text": [
            "  Leaf 1: Detected (Conf: 0.61), Classified as 'Curl Virus' (Conf: 1.00)\n",
            "  Annotated image saved to: /content/drive/MyDrive/cotton_project/pipeline_results/annotated_Curl Virus_test_12.jpg\n",
            "\n",
            "Processing: test_467.jpg\n"
          ]
        },
        {
          "output_type": "stream",
          "name": "stderr",
          "text": [
            "/root/.cache/torch/hub/ultralytics_yolov5_master/models/common.py:906: FutureWarning: `torch.cuda.amp.autocast(args...)` is deprecated. Please use `torch.amp.autocast('cuda', args...)` instead.\n",
            "  with amp.autocast(autocast):\n"
          ]
        },
        {
          "output_type": "stream",
          "name": "stdout",
          "text": [
            "  Leaf 1: Detected (Conf: 0.65), Classified as 'Curl Virus' (Conf: 1.00)\n",
            "  Annotated image saved to: /content/drive/MyDrive/cotton_project/pipeline_results/annotated_Curl Virus_test_467.jpg\n",
            "\n",
            "Processing: test_672.jpg\n"
          ]
        },
        {
          "output_type": "stream",
          "name": "stderr",
          "text": [
            "/root/.cache/torch/hub/ultralytics_yolov5_master/models/common.py:906: FutureWarning: `torch.cuda.amp.autocast(args...)` is deprecated. Please use `torch.amp.autocast('cuda', args...)` instead.\n",
            "  with amp.autocast(autocast):\n"
          ]
        },
        {
          "output_type": "stream",
          "name": "stdout",
          "text": [
            "  Leaf 1: Detected (Conf: 0.52), Classified as 'Target Spot' (Conf: 0.98)\n",
            "  Annotated image saved to: /content/drive/MyDrive/cotton_project/pipeline_results/annotated_Target Spot_test_672.jpg\n",
            "\n",
            "Processing: test_1177.jpg\n",
            "  Leaf 1: Detected (Conf: 0.47), Classified as 'Powdery mildew' (Conf: 1.00)\n",
            "  Annotated image saved to: /content/drive/MyDrive/cotton_project/pipeline_results/annotated_Powdery mildew_test_1177.jpg\n",
            "\n",
            "Processing: test_728.jpg\n"
          ]
        },
        {
          "output_type": "stream",
          "name": "stderr",
          "text": [
            "/root/.cache/torch/hub/ultralytics_yolov5_master/models/common.py:906: FutureWarning: `torch.cuda.amp.autocast(args...)` is deprecated. Please use `torch.amp.autocast('cuda', args...)` instead.\n",
            "  with amp.autocast(autocast):\n",
            "/root/.cache/torch/hub/ultralytics_yolov5_master/models/common.py:906: FutureWarning: `torch.cuda.amp.autocast(args...)` is deprecated. Please use `torch.amp.autocast('cuda', args...)` instead.\n",
            "  with amp.autocast(autocast):\n"
          ]
        },
        {
          "output_type": "stream",
          "name": "stdout",
          "text": [
            "  Leaf 1: Detected (Conf: 0.51), Classified as 'Aphids' (Conf: 1.00)\n",
            "  Annotated image saved to: /content/drive/MyDrive/cotton_project/pipeline_results/annotated_Aphids_test_728.jpg\n",
            "\n",
            "Processing: test_488.jpg\n"
          ]
        },
        {
          "output_type": "stream",
          "name": "stderr",
          "text": [
            "/root/.cache/torch/hub/ultralytics_yolov5_master/models/common.py:906: FutureWarning: `torch.cuda.amp.autocast(args...)` is deprecated. Please use `torch.amp.autocast('cuda', args...)` instead.\n",
            "  with amp.autocast(autocast):\n"
          ]
        },
        {
          "output_type": "stream",
          "name": "stdout",
          "text": [
            "  Leaf 1: Detected (Conf: 0.32), Classified as 'Green Cotton Boll' (Conf: 1.00)\n",
            "  Annotated image saved to: /content/drive/MyDrive/cotton_project/pipeline_results/annotated_Green Cotton Boll_test_488.jpg\n",
            "\n",
            "Processing: test_299.jpg\n"
          ]
        },
        {
          "output_type": "stream",
          "name": "stderr",
          "text": [
            "/root/.cache/torch/hub/ultralytics_yolov5_master/models/common.py:906: FutureWarning: `torch.cuda.amp.autocast(args...)` is deprecated. Please use `torch.amp.autocast('cuda', args...)` instead.\n",
            "  with amp.autocast(autocast):\n"
          ]
        },
        {
          "output_type": "stream",
          "name": "stdout",
          "text": [
            "  Leaf 1: Detected (Conf: 0.58), Classified as 'Green Cotton Boll' (Conf: 1.00)\n",
            "  Annotated image saved to: /content/drive/MyDrive/cotton_project/pipeline_results/annotated_Green Cotton Boll_test_299.jpg\n",
            "\n",
            "Processing: test_425.jpg\n"
          ]
        },
        {
          "output_type": "stream",
          "name": "stderr",
          "text": [
            "/root/.cache/torch/hub/ultralytics_yolov5_master/models/common.py:906: FutureWarning: `torch.cuda.amp.autocast(args...)` is deprecated. Please use `torch.amp.autocast('cuda', args...)` instead.\n",
            "  with amp.autocast(autocast):\n"
          ]
        },
        {
          "output_type": "stream",
          "name": "stdout",
          "text": [
            "  Leaf 1: Detected (Conf: 0.47), Classified as 'Bacterial Blight' (Conf: 1.00)\n",
            "  Annotated image saved to: /content/drive/MyDrive/cotton_project/pipeline_results/annotated_Bacterial Blight_test_425.jpg\n",
            "\n",
            "Processing: test_1087.jpg\n"
          ]
        },
        {
          "output_type": "stream",
          "name": "stderr",
          "text": [
            "/root/.cache/torch/hub/ultralytics_yolov5_master/models/common.py:906: FutureWarning: `torch.cuda.amp.autocast(args...)` is deprecated. Please use `torch.amp.autocast('cuda', args...)` instead.\n",
            "  with amp.autocast(autocast):\n"
          ]
        },
        {
          "output_type": "stream",
          "name": "stdout",
          "text": [
            "  Leaf 1: Detected (Conf: 0.52), Classified as 'Curl Virus' (Conf: 1.00)\n",
            "  Annotated image saved to: /content/drive/MyDrive/cotton_project/pipeline_results/annotated_Curl Virus_test_1087.jpg\n",
            "\n",
            "Processing: test_1040.jpg\n"
          ]
        },
        {
          "output_type": "stream",
          "name": "stderr",
          "text": [
            "/root/.cache/torch/hub/ultralytics_yolov5_master/models/common.py:906: FutureWarning: `torch.cuda.amp.autocast(args...)` is deprecated. Please use `torch.amp.autocast('cuda', args...)` instead.\n",
            "  with amp.autocast(autocast):\n"
          ]
        },
        {
          "output_type": "stream",
          "name": "stdout",
          "text": [
            "  Leaf 1: Detected (Conf: 0.26), Classified as 'Cotton Boll Rot' (Conf: 1.00)\n",
            "  Annotated image saved to: /content/drive/MyDrive/cotton_project/pipeline_results/annotated_Cotton Boll Rot_test_1040.jpg\n",
            "\n",
            "Processing: test_365.jpg\n"
          ]
        },
        {
          "output_type": "stream",
          "name": "stderr",
          "text": [
            "/root/.cache/torch/hub/ultralytics_yolov5_master/models/common.py:906: FutureWarning: `torch.cuda.amp.autocast(args...)` is deprecated. Please use `torch.amp.autocast('cuda', args...)` instead.\n",
            "  with amp.autocast(autocast):\n"
          ]
        },
        {
          "output_type": "stream",
          "name": "stdout",
          "text": [
            "  No cotton leaves detected in test_365.jpg.\n",
            "\n",
            "Processing: test_8.jpg\n"
          ]
        },
        {
          "output_type": "stream",
          "name": "stderr",
          "text": [
            "/root/.cache/torch/hub/ultralytics_yolov5_master/models/common.py:906: FutureWarning: `torch.cuda.amp.autocast(args...)` is deprecated. Please use `torch.amp.autocast('cuda', args...)` instead.\n",
            "  with amp.autocast(autocast):\n"
          ]
        },
        {
          "output_type": "stream",
          "name": "stdout",
          "text": [
            "  Leaf 1: Detected (Conf: 0.66), Classified as 'Green Cotton Boll' (Conf: 1.00)\n",
            "  Annotated image saved to: /content/drive/MyDrive/cotton_project/pipeline_results/annotated_Green Cotton Boll_test_8.jpg\n",
            "\n",
            "Processing: test_919.jpg\n"
          ]
        },
        {
          "output_type": "stream",
          "name": "stderr",
          "text": [
            "/root/.cache/torch/hub/ultralytics_yolov5_master/models/common.py:906: FutureWarning: `torch.cuda.amp.autocast(args...)` is deprecated. Please use `torch.amp.autocast('cuda', args...)` instead.\n",
            "  with amp.autocast(autocast):\n"
          ]
        },
        {
          "output_type": "stream",
          "name": "stdout",
          "text": [
            "  No cotton leaves detected in test_919.jpg.\n",
            "\n",
            "Processing: test_627.jpg\n"
          ]
        },
        {
          "output_type": "stream",
          "name": "stderr",
          "text": [
            "/root/.cache/torch/hub/ultralytics_yolov5_master/models/common.py:906: FutureWarning: `torch.cuda.amp.autocast(args...)` is deprecated. Please use `torch.amp.autocast('cuda', args...)` instead.\n",
            "  with amp.autocast(autocast):\n"
          ]
        },
        {
          "output_type": "stream",
          "name": "stdout",
          "text": [
            "  Leaf 1: Detected (Conf: 0.47), Classified as 'Army worm' (Conf: 1.00)\n",
            "  Annotated image saved to: /content/drive/MyDrive/cotton_project/pipeline_results/annotated_Army worm_test_627.jpg\n",
            "\n",
            "Processing: test_577.jpg\n"
          ]
        },
        {
          "output_type": "stream",
          "name": "stderr",
          "text": [
            "/root/.cache/torch/hub/ultralytics_yolov5_master/models/common.py:906: FutureWarning: `torch.cuda.amp.autocast(args...)` is deprecated. Please use `torch.amp.autocast('cuda', args...)` instead.\n",
            "  with amp.autocast(autocast):\n"
          ]
        },
        {
          "output_type": "stream",
          "name": "stdout",
          "text": [
            "  Leaf 1: Detected (Conf: 0.72), Classified as 'Bacterial Blight' (Conf: 1.00)\n",
            "  Annotated image saved to: /content/drive/MyDrive/cotton_project/pipeline_results/annotated_Bacterial Blight_test_577.jpg\n",
            "\n",
            "Processing: test_786.jpg\n"
          ]
        },
        {
          "output_type": "stream",
          "name": "stderr",
          "text": [
            "/root/.cache/torch/hub/ultralytics_yolov5_master/models/common.py:906: FutureWarning: `torch.cuda.amp.autocast(args...)` is deprecated. Please use `torch.amp.autocast('cuda', args...)` instead.\n",
            "  with amp.autocast(autocast):\n"
          ]
        },
        {
          "output_type": "stream",
          "name": "stdout",
          "text": [
            "  Leaf 1: Detected (Conf: 0.45), Classified as 'Green Cotton Boll' (Conf: 1.00)\n",
            "  Annotated image saved to: /content/drive/MyDrive/cotton_project/pipeline_results/annotated_Green Cotton Boll_test_786.jpg\n",
            "\n",
            "Processing: test_821.jpg\n"
          ]
        },
        {
          "output_type": "stream",
          "name": "stderr",
          "text": [
            "/root/.cache/torch/hub/ultralytics_yolov5_master/models/common.py:906: FutureWarning: `torch.cuda.amp.autocast(args...)` is deprecated. Please use `torch.amp.autocast('cuda', args...)` instead.\n",
            "  with amp.autocast(autocast):\n"
          ]
        },
        {
          "output_type": "stream",
          "name": "stdout",
          "text": [
            "  Leaf 1: Detected (Conf: 0.27), Classified as 'Healthy' (Conf: 1.00)\n",
            "  Annotated image saved to: /content/drive/MyDrive/cotton_project/pipeline_results/annotated_Healthy_test_821.jpg\n",
            "\n",
            "Processing: test_696.jpg\n"
          ]
        },
        {
          "output_type": "stream",
          "name": "stderr",
          "text": [
            "/root/.cache/torch/hub/ultralytics_yolov5_master/models/common.py:906: FutureWarning: `torch.cuda.amp.autocast(args...)` is deprecated. Please use `torch.amp.autocast('cuda', args...)` instead.\n",
            "  with amp.autocast(autocast):\n"
          ]
        },
        {
          "output_type": "stream",
          "name": "stdout",
          "text": [
            "  Leaf 1: Detected (Conf: 0.50), Classified as 'Healthy' (Conf: 1.00)\n",
            "  Annotated image saved to: /content/drive/MyDrive/cotton_project/pipeline_results/annotated_Healthy_test_696.jpg\n",
            "\n",
            "Processing: test_1012.jpg\n"
          ]
        },
        {
          "output_type": "stream",
          "name": "stderr",
          "text": [
            "/root/.cache/torch/hub/ultralytics_yolov5_master/models/common.py:906: FutureWarning: `torch.cuda.amp.autocast(args...)` is deprecated. Please use `torch.amp.autocast('cuda', args...)` instead.\n",
            "  with amp.autocast(autocast):\n"
          ]
        },
        {
          "output_type": "stream",
          "name": "stdout",
          "text": [
            "  Leaf 1: Detected (Conf: 0.50), Classified as 'Curl Virus' (Conf: 1.00)\n",
            "  Annotated image saved to: /content/drive/MyDrive/cotton_project/pipeline_results/annotated_Curl Virus_test_1012.jpg\n",
            "\n",
            "Processing: test_1072.jpg\n"
          ]
        },
        {
          "output_type": "stream",
          "name": "stderr",
          "text": [
            "/root/.cache/torch/hub/ultralytics_yolov5_master/models/common.py:906: FutureWarning: `torch.cuda.amp.autocast(args...)` is deprecated. Please use `torch.amp.autocast('cuda', args...)` instead.\n",
            "  with amp.autocast(autocast):\n"
          ]
        },
        {
          "output_type": "stream",
          "name": "stdout",
          "text": [
            "  Leaf 1: Detected (Conf: 0.64), Classified as 'Bacterial Blight' (Conf: 1.00)\n",
            "  Annotated image saved to: /content/drive/MyDrive/cotton_project/pipeline_results/annotated_Bacterial Blight_test_1072.jpg\n",
            "\n",
            "Processing: test_1104.jpg\n"
          ]
        },
        {
          "output_type": "stream",
          "name": "stderr",
          "text": [
            "/root/.cache/torch/hub/ultralytics_yolov5_master/models/common.py:906: FutureWarning: `torch.cuda.amp.autocast(args...)` is deprecated. Please use `torch.amp.autocast('cuda', args...)` instead.\n",
            "  with amp.autocast(autocast):\n"
          ]
        },
        {
          "output_type": "stream",
          "name": "stdout",
          "text": [
            "  Leaf 1: Detected (Conf: 0.47), Classified as 'Healthy' (Conf: 1.00)\n",
            "  Annotated image saved to: /content/drive/MyDrive/cotton_project/pipeline_results/annotated_Healthy_test_1104.jpg\n",
            "\n",
            "Processing: test_549.jpg\n"
          ]
        },
        {
          "output_type": "stream",
          "name": "stderr",
          "text": [
            "/root/.cache/torch/hub/ultralytics_yolov5_master/models/common.py:906: FutureWarning: `torch.cuda.amp.autocast(args...)` is deprecated. Please use `torch.amp.autocast('cuda', args...)` instead.\n",
            "  with amp.autocast(autocast):\n"
          ]
        },
        {
          "output_type": "stream",
          "name": "stdout",
          "text": [
            "  Leaf 1: Detected (Conf: 0.61), Classified as 'Green Cotton Boll' (Conf: 1.00)\n",
            "  Annotated image saved to: /content/drive/MyDrive/cotton_project/pipeline_results/annotated_Green Cotton Boll_test_549.jpg\n",
            "\n",
            "Processing: test_1239.jpg\n"
          ]
        },
        {
          "output_type": "stream",
          "name": "stderr",
          "text": [
            "/root/.cache/torch/hub/ultralytics_yolov5_master/models/common.py:906: FutureWarning: `torch.cuda.amp.autocast(args...)` is deprecated. Please use `torch.amp.autocast('cuda', args...)` instead.\n",
            "  with amp.autocast(autocast):\n"
          ]
        },
        {
          "output_type": "stream",
          "name": "stdout",
          "text": [
            "  Leaf 1: Detected (Conf: 0.28), Classified as 'Green Cotton Boll' (Conf: 1.00)\n",
            "  Annotated image saved to: /content/drive/MyDrive/cotton_project/pipeline_results/annotated_Green Cotton Boll_test_1239.jpg\n",
            "\n",
            "Processing: test_978.jpg\n"
          ]
        },
        {
          "output_type": "stream",
          "name": "stderr",
          "text": [
            "/root/.cache/torch/hub/ultralytics_yolov5_master/models/common.py:906: FutureWarning: `torch.cuda.amp.autocast(args...)` is deprecated. Please use `torch.amp.autocast('cuda', args...)` instead.\n",
            "  with amp.autocast(autocast):\n",
            "/root/.cache/torch/hub/ultralytics_yolov5_master/models/common.py:906: FutureWarning: `torch.cuda.amp.autocast(args...)` is deprecated. Please use `torch.amp.autocast('cuda', args...)` instead.\n",
            "  with amp.autocast(autocast):\n",
            "/root/.cache/torch/hub/ultralytics_yolov5_master/models/common.py:906: FutureWarning: `torch.cuda.amp.autocast(args...)` is deprecated. Please use `torch.amp.autocast('cuda', args...)` instead.\n",
            "  with amp.autocast(autocast):\n"
          ]
        },
        {
          "output_type": "stream",
          "name": "stdout",
          "text": [
            "  Leaf 1: Detected (Conf: 0.35), Classified as 'Aphids' (Conf: 1.00)\n",
            "  Annotated image saved to: /content/drive/MyDrive/cotton_project/pipeline_results/annotated_Aphids_test_978.jpg\n",
            "\n",
            "Processing: test_387.jpg\n",
            "  Leaf 1: Detected (Conf: 0.53), Classified as 'Target Spot' (Conf: 0.71)\n",
            "  Annotated image saved to: /content/drive/MyDrive/cotton_project/pipeline_results/annotated_Target Spot_test_387.jpg\n",
            "\n",
            "Processing: test_1132.jpg\n",
            "  Leaf 1: Detected (Conf: 0.64), Classified as 'Target Spot' (Conf: 1.00)\n",
            "  Annotated image saved to: /content/drive/MyDrive/cotton_project/pipeline_results/annotated_Target Spot_test_1132.jpg\n",
            "\n",
            "Processing: test_398.jpg\n"
          ]
        },
        {
          "output_type": "stream",
          "name": "stderr",
          "text": [
            "/root/.cache/torch/hub/ultralytics_yolov5_master/models/common.py:906: FutureWarning: `torch.cuda.amp.autocast(args...)` is deprecated. Please use `torch.amp.autocast('cuda', args...)` instead.\n",
            "  with amp.autocast(autocast):\n"
          ]
        },
        {
          "output_type": "stream",
          "name": "stdout",
          "text": [
            "  Leaf 1: Detected (Conf: 0.36), Classified as 'Fussarium Wilt' (Conf: 1.00)\n",
            "  Annotated image saved to: /content/drive/MyDrive/cotton_project/pipeline_results/annotated_Fussarium Wilt_test_398.jpg\n",
            "\n",
            "Processing: test_687.jpg\n"
          ]
        },
        {
          "output_type": "stream",
          "name": "stderr",
          "text": [
            "/root/.cache/torch/hub/ultralytics_yolov5_master/models/common.py:906: FutureWarning: `torch.cuda.amp.autocast(args...)` is deprecated. Please use `torch.amp.autocast('cuda', args...)` instead.\n",
            "  with amp.autocast(autocast):\n"
          ]
        },
        {
          "output_type": "stream",
          "name": "stdout",
          "text": [
            "  Leaf 1: Detected (Conf: 0.54), Classified as 'Army worm' (Conf: 1.00)\n",
            "  Annotated image saved to: /content/drive/MyDrive/cotton_project/pipeline_results/annotated_Army worm_test_687.jpg\n",
            "\n",
            "Processing: test_20.jpg\n"
          ]
        },
        {
          "output_type": "stream",
          "name": "stderr",
          "text": [
            "/root/.cache/torch/hub/ultralytics_yolov5_master/models/common.py:906: FutureWarning: `torch.cuda.amp.autocast(args...)` is deprecated. Please use `torch.amp.autocast('cuda', args...)` instead.\n",
            "  with amp.autocast(autocast):\n",
            "/root/.cache/torch/hub/ultralytics_yolov5_master/models/common.py:906: FutureWarning: `torch.cuda.amp.autocast(args...)` is deprecated. Please use `torch.amp.autocast('cuda', args...)` instead.\n",
            "  with amp.autocast(autocast):\n"
          ]
        },
        {
          "output_type": "stream",
          "name": "stdout",
          "text": [
            "  Leaf 1: Detected (Conf: 0.37), Classified as 'Healthy' (Conf: 1.00)\n",
            "  Annotated image saved to: /content/drive/MyDrive/cotton_project/pipeline_results/annotated_Healthy_test_20.jpg\n",
            "\n",
            "Processing: test_261.jpg\n",
            "  Leaf 1: Detected (Conf: 0.55), Classified as 'Aphids' (Conf: 1.00)\n",
            "  Annotated image saved to: /content/drive/MyDrive/cotton_project/pipeline_results/annotated_Aphids_test_261.jpg\n",
            "\n",
            "Processing: test_41.jpg\n"
          ]
        },
        {
          "output_type": "stream",
          "name": "stderr",
          "text": [
            "/root/.cache/torch/hub/ultralytics_yolov5_master/models/common.py:906: FutureWarning: `torch.cuda.amp.autocast(args...)` is deprecated. Please use `torch.amp.autocast('cuda', args...)` instead.\n",
            "  with amp.autocast(autocast):\n"
          ]
        },
        {
          "output_type": "stream",
          "name": "stdout",
          "text": [
            "  Leaf 1: Detected (Conf: 0.50), Classified as 'Cotton Boll Rot' (Conf: 1.00)\n",
            "  Annotated image saved to: /content/drive/MyDrive/cotton_project/pipeline_results/annotated_Cotton Boll Rot_test_41.jpg\n",
            "\n",
            "Processing: test_891.jpg\n"
          ]
        },
        {
          "output_type": "stream",
          "name": "stderr",
          "text": [
            "/root/.cache/torch/hub/ultralytics_yolov5_master/models/common.py:906: FutureWarning: `torch.cuda.amp.autocast(args...)` is deprecated. Please use `torch.amp.autocast('cuda', args...)` instead.\n",
            "  with amp.autocast(autocast):\n"
          ]
        },
        {
          "output_type": "stream",
          "name": "stdout",
          "text": [
            "  Leaf 1: Detected (Conf: 0.46), Classified as 'Curl Virus' (Conf: 1.00)\n",
            "  Annotated image saved to: /content/drive/MyDrive/cotton_project/pipeline_results/annotated_Curl Virus_test_891.jpg\n",
            "\n",
            "Processing: test_513.jpg\n"
          ]
        },
        {
          "output_type": "stream",
          "name": "stderr",
          "text": [
            "/root/.cache/torch/hub/ultralytics_yolov5_master/models/common.py:906: FutureWarning: `torch.cuda.amp.autocast(args...)` is deprecated. Please use `torch.amp.autocast('cuda', args...)` instead.\n",
            "  with amp.autocast(autocast):\n"
          ]
        },
        {
          "output_type": "stream",
          "name": "stdout",
          "text": [
            "  Leaf 1: Detected (Conf: 0.76), Classified as 'Green Cotton Boll' (Conf: 1.00)\n",
            "  Annotated image saved to: /content/drive/MyDrive/cotton_project/pipeline_results/annotated_Green Cotton Boll_test_513.jpg\n",
            "\n",
            "Processing: test_388.jpg\n"
          ]
        },
        {
          "output_type": "stream",
          "name": "stderr",
          "text": [
            "/root/.cache/torch/hub/ultralytics_yolov5_master/models/common.py:906: FutureWarning: `torch.cuda.amp.autocast(args...)` is deprecated. Please use `torch.amp.autocast('cuda', args...)` instead.\n",
            "  with amp.autocast(autocast):\n"
          ]
        },
        {
          "output_type": "stream",
          "name": "stdout",
          "text": [
            "  Leaf 1: Detected (Conf: 0.68), Classified as 'Cotton Boll Rot' (Conf: 1.00)\n",
            "  Annotated image saved to: /content/drive/MyDrive/cotton_project/pipeline_results/annotated_Cotton Boll Rot_test_388.jpg\n",
            "\n",
            "Processing: test_655.jpg\n"
          ]
        },
        {
          "output_type": "stream",
          "name": "stderr",
          "text": [
            "/root/.cache/torch/hub/ultralytics_yolov5_master/models/common.py:906: FutureWarning: `torch.cuda.amp.autocast(args...)` is deprecated. Please use `torch.amp.autocast('cuda', args...)` instead.\n",
            "  with amp.autocast(autocast):\n",
            "/root/.cache/torch/hub/ultralytics_yolov5_master/models/common.py:906: FutureWarning: `torch.cuda.amp.autocast(args...)` is deprecated. Please use `torch.amp.autocast('cuda', args...)` instead.\n",
            "  with amp.autocast(autocast):\n"
          ]
        },
        {
          "output_type": "stream",
          "name": "stdout",
          "text": [
            "  Leaf 1: Detected (Conf: 0.49), Classified as 'Fussarium Wilt' (Conf: 1.00)\n",
            "  Annotated image saved to: /content/drive/MyDrive/cotton_project/pipeline_results/annotated_Fussarium Wilt_test_655.jpg\n",
            "\n",
            "Processing: test_396.jpg\n",
            "  No cotton leaves detected in test_396.jpg.\n",
            "\n",
            "Processing: test_968.jpg\n"
          ]
        },
        {
          "output_type": "stream",
          "name": "stderr",
          "text": [
            "/root/.cache/torch/hub/ultralytics_yolov5_master/models/common.py:906: FutureWarning: `torch.cuda.amp.autocast(args...)` is deprecated. Please use `torch.amp.autocast('cuda', args...)` instead.\n",
            "  with amp.autocast(autocast):\n"
          ]
        },
        {
          "output_type": "stream",
          "name": "stdout",
          "text": [
            "  Leaf 1: Detected (Conf: 0.26), Classified as 'Healthy' (Conf: 1.00)\n",
            "  Annotated image saved to: /content/drive/MyDrive/cotton_project/pipeline_results/annotated_Healthy_test_968.jpg\n",
            "\n",
            "Processing: test_812.jpg\n"
          ]
        },
        {
          "output_type": "stream",
          "name": "stderr",
          "text": [
            "/root/.cache/torch/hub/ultralytics_yolov5_master/models/common.py:906: FutureWarning: `torch.cuda.amp.autocast(args...)` is deprecated. Please use `torch.amp.autocast('cuda', args...)` instead.\n",
            "  with amp.autocast(autocast):\n"
          ]
        },
        {
          "output_type": "stream",
          "name": "stdout",
          "text": [
            "  Leaf 1: Detected (Conf: 0.57), Classified as 'Healthy' (Conf: 1.00)\n",
            "  Annotated image saved to: /content/drive/MyDrive/cotton_project/pipeline_results/annotated_Healthy_test_812.jpg\n",
            "\n",
            "Processing: test_1044.jpg\n"
          ]
        },
        {
          "output_type": "stream",
          "name": "stderr",
          "text": [
            "/root/.cache/torch/hub/ultralytics_yolov5_master/models/common.py:906: FutureWarning: `torch.cuda.amp.autocast(args...)` is deprecated. Please use `torch.amp.autocast('cuda', args...)` instead.\n",
            "  with amp.autocast(autocast):\n"
          ]
        },
        {
          "output_type": "stream",
          "name": "stdout",
          "text": [
            "  Leaf 1: Detected (Conf: 0.49), Classified as 'Curl Virus' (Conf: 1.00)\n",
            "  Annotated image saved to: /content/drive/MyDrive/cotton_project/pipeline_results/annotated_Curl Virus_test_1044.jpg\n",
            "\n",
            "Processing: test_1186.jpg\n"
          ]
        },
        {
          "output_type": "stream",
          "name": "stderr",
          "text": [
            "/root/.cache/torch/hub/ultralytics_yolov5_master/models/common.py:906: FutureWarning: `torch.cuda.amp.autocast(args...)` is deprecated. Please use `torch.amp.autocast('cuda', args...)` instead.\n",
            "  with amp.autocast(autocast):\n"
          ]
        },
        {
          "output_type": "stream",
          "name": "stdout",
          "text": [
            "  Leaf 1: Detected (Conf: 0.44), Classified as 'Army worm' (Conf: 1.00)\n",
            "  Annotated image saved to: /content/drive/MyDrive/cotton_project/pipeline_results/annotated_Army worm_test_1186.jpg\n",
            "\n",
            "Processing: test_623.jpg\n"
          ]
        },
        {
          "output_type": "stream",
          "name": "stderr",
          "text": [
            "/root/.cache/torch/hub/ultralytics_yolov5_master/models/common.py:906: FutureWarning: `torch.cuda.amp.autocast(args...)` is deprecated. Please use `torch.amp.autocast('cuda', args...)` instead.\n",
            "  with amp.autocast(autocast):\n"
          ]
        },
        {
          "output_type": "stream",
          "name": "stdout",
          "text": [
            "  Leaf 1: Detected (Conf: 0.55), Classified as 'Bacterial Blight' (Conf: 1.00)\n",
            "  Annotated image saved to: /content/drive/MyDrive/cotton_project/pipeline_results/annotated_Bacterial Blight_test_623.jpg\n",
            "\n",
            "Processing: test_114.jpg\n"
          ]
        },
        {
          "output_type": "stream",
          "name": "stderr",
          "text": [
            "/root/.cache/torch/hub/ultralytics_yolov5_master/models/common.py:906: FutureWarning: `torch.cuda.amp.autocast(args...)` is deprecated. Please use `torch.amp.autocast('cuda', args...)` instead.\n",
            "  with amp.autocast(autocast):\n"
          ]
        },
        {
          "output_type": "stream",
          "name": "stdout",
          "text": [
            "  Leaf 1: Detected (Conf: 0.31), Classified as 'Fussarium Wilt' (Conf: 1.00)\n",
            "  Annotated image saved to: /content/drive/MyDrive/cotton_project/pipeline_results/annotated_Fussarium Wilt_test_114.jpg\n",
            "\n",
            "Processing: test_1027.jpg\n"
          ]
        },
        {
          "output_type": "stream",
          "name": "stderr",
          "text": [
            "/root/.cache/torch/hub/ultralytics_yolov5_master/models/common.py:906: FutureWarning: `torch.cuda.amp.autocast(args...)` is deprecated. Please use `torch.amp.autocast('cuda', args...)` instead.\n",
            "  with amp.autocast(autocast):\n"
          ]
        },
        {
          "output_type": "stream",
          "name": "stdout",
          "text": [
            "  Leaf 1: Detected (Conf: 0.43), Classified as 'Green Cotton Boll' (Conf: 1.00)\n",
            "  Annotated image saved to: /content/drive/MyDrive/cotton_project/pipeline_results/annotated_Green Cotton Boll_test_1027.jpg\n",
            "\n",
            "Processing: test_873.jpg\n"
          ]
        },
        {
          "output_type": "stream",
          "name": "stderr",
          "text": [
            "/root/.cache/torch/hub/ultralytics_yolov5_master/models/common.py:906: FutureWarning: `torch.cuda.amp.autocast(args...)` is deprecated. Please use `torch.amp.autocast('cuda', args...)` instead.\n",
            "  with amp.autocast(autocast):\n",
            "/root/.cache/torch/hub/ultralytics_yolov5_master/models/common.py:906: FutureWarning: `torch.cuda.amp.autocast(args...)` is deprecated. Please use `torch.amp.autocast('cuda', args...)` instead.\n",
            "  with amp.autocast(autocast):\n"
          ]
        },
        {
          "output_type": "stream",
          "name": "stdout",
          "text": [
            "  Leaf 1: Detected (Conf: 0.59), Classified as 'Healthy' (Conf: 1.00)\n",
            "  Annotated image saved to: /content/drive/MyDrive/cotton_project/pipeline_results/annotated_Healthy_test_873.jpg\n",
            "\n",
            "Processing: test_529.jpg\n",
            "  Leaf 1: Detected (Conf: 0.47), Classified as 'Powdery mildew' (Conf: 1.00)\n",
            "  Annotated image saved to: /content/drive/MyDrive/cotton_project/pipeline_results/annotated_Powdery mildew_test_529.jpg\n",
            "\n",
            "Processing: test_359.jpg\n"
          ]
        },
        {
          "output_type": "stream",
          "name": "stderr",
          "text": [
            "/root/.cache/torch/hub/ultralytics_yolov5_master/models/common.py:906: FutureWarning: `torch.cuda.amp.autocast(args...)` is deprecated. Please use `torch.amp.autocast('cuda', args...)` instead.\n",
            "  with amp.autocast(autocast):\n"
          ]
        },
        {
          "output_type": "stream",
          "name": "stdout",
          "text": [
            "  No cotton leaves detected in test_359.jpg.\n",
            "\n",
            "Processing: test_81.jpg\n"
          ]
        },
        {
          "output_type": "stream",
          "name": "stderr",
          "text": [
            "/root/.cache/torch/hub/ultralytics_yolov5_master/models/common.py:906: FutureWarning: `torch.cuda.amp.autocast(args...)` is deprecated. Please use `torch.amp.autocast('cuda', args...)` instead.\n",
            "  with amp.autocast(autocast):\n"
          ]
        },
        {
          "output_type": "stream",
          "name": "stdout",
          "text": [
            "  Leaf 1: Detected (Conf: 0.48), Classified as 'Bacterial Blight' (Conf: 1.00)\n",
            "  Annotated image saved to: /content/drive/MyDrive/cotton_project/pipeline_results/annotated_Bacterial Blight_test_81.jpg\n",
            "\n",
            "Processing: test_417.jpg\n"
          ]
        },
        {
          "output_type": "stream",
          "name": "stderr",
          "text": [
            "/root/.cache/torch/hub/ultralytics_yolov5_master/models/common.py:906: FutureWarning: `torch.cuda.amp.autocast(args...)` is deprecated. Please use `torch.amp.autocast('cuda', args...)` instead.\n",
            "  with amp.autocast(autocast):\n"
          ]
        },
        {
          "output_type": "stream",
          "name": "stdout",
          "text": [
            "  Leaf 1: Detected (Conf: 0.59), Classified as 'Cotton Boll Rot' (Conf: 1.00)\n",
            "  Leaf 2: Detected (Conf: 0.48), Classified as 'Cotton Boll Rot' (Conf: 0.99)\n",
            "  Annotated image saved to: /content/drive/MyDrive/cotton_project/pipeline_results/annotated_Cotton Boll Rot_test_417.jpg\n",
            "\n",
            "Processing: test_1025.jpg\n"
          ]
        },
        {
          "output_type": "stream",
          "name": "stderr",
          "text": [
            "/root/.cache/torch/hub/ultralytics_yolov5_master/models/common.py:906: FutureWarning: `torch.cuda.amp.autocast(args...)` is deprecated. Please use `torch.amp.autocast('cuda', args...)` instead.\n",
            "  with amp.autocast(autocast):\n"
          ]
        },
        {
          "output_type": "stream",
          "name": "stdout",
          "text": [
            "  Leaf 1: Detected (Conf: 0.63), Classified as 'Fussarium Wilt' (Conf: 1.00)\n",
            "  Annotated image saved to: /content/drive/MyDrive/cotton_project/pipeline_results/annotated_Fussarium Wilt_test_1025.jpg\n",
            "\n",
            "Processing: test_289.jpg\n"
          ]
        },
        {
          "output_type": "stream",
          "name": "stderr",
          "text": [
            "/root/.cache/torch/hub/ultralytics_yolov5_master/models/common.py:906: FutureWarning: `torch.cuda.amp.autocast(args...)` is deprecated. Please use `torch.amp.autocast('cuda', args...)` instead.\n",
            "  with amp.autocast(autocast):\n"
          ]
        },
        {
          "output_type": "stream",
          "name": "stdout",
          "text": [
            "  Leaf 1: Detected (Conf: 0.38), Classified as 'Green Cotton Boll' (Conf: 1.00)\n",
            "  Annotated image saved to: /content/drive/MyDrive/cotton_project/pipeline_results/annotated_Green Cotton Boll_test_289.jpg\n",
            "\n",
            "Processing: test_1099.jpg\n"
          ]
        },
        {
          "output_type": "stream",
          "name": "stderr",
          "text": [
            "/root/.cache/torch/hub/ultralytics_yolov5_master/models/common.py:906: FutureWarning: `torch.cuda.amp.autocast(args...)` is deprecated. Please use `torch.amp.autocast('cuda', args...)` instead.\n",
            "  with amp.autocast(autocast):\n"
          ]
        },
        {
          "output_type": "stream",
          "name": "stdout",
          "text": [
            "  Leaf 1: Detected (Conf: 0.44), Classified as 'Army worm' (Conf: 1.00)\n",
            "  Annotated image saved to: /content/drive/MyDrive/cotton_project/pipeline_results/annotated_Army worm_test_1099.jpg\n",
            "\n",
            "Processing: test_702.jpg\n"
          ]
        },
        {
          "output_type": "stream",
          "name": "stderr",
          "text": [
            "/root/.cache/torch/hub/ultralytics_yolov5_master/models/common.py:906: FutureWarning: `torch.cuda.amp.autocast(args...)` is deprecated. Please use `torch.amp.autocast('cuda', args...)` instead.\n",
            "  with amp.autocast(autocast):\n"
          ]
        },
        {
          "output_type": "stream",
          "name": "stdout",
          "text": [
            "  Leaf 1: Detected (Conf: 0.48), Classified as 'Healthy' (Conf: 1.00)\n",
            "  Annotated image saved to: /content/drive/MyDrive/cotton_project/pipeline_results/annotated_Healthy_test_702.jpg\n",
            "\n",
            "Processing: test_1125.jpg\n"
          ]
        },
        {
          "output_type": "stream",
          "name": "stderr",
          "text": [
            "/root/.cache/torch/hub/ultralytics_yolov5_master/models/common.py:906: FutureWarning: `torch.cuda.amp.autocast(args...)` is deprecated. Please use `torch.amp.autocast('cuda', args...)` instead.\n",
            "  with amp.autocast(autocast):\n"
          ]
        },
        {
          "output_type": "stream",
          "name": "stdout",
          "text": [
            "  Leaf 1: Detected (Conf: 0.27), Classified as 'Bacterial Blight' (Conf: 1.00)\n",
            "  Annotated image saved to: /content/drive/MyDrive/cotton_project/pipeline_results/annotated_Bacterial Blight_test_1125.jpg\n",
            "\n",
            "Processing: test_1240.jpg\n"
          ]
        },
        {
          "output_type": "stream",
          "name": "stderr",
          "text": [
            "/root/.cache/torch/hub/ultralytics_yolov5_master/models/common.py:906: FutureWarning: `torch.cuda.amp.autocast(args...)` is deprecated. Please use `torch.amp.autocast('cuda', args...)` instead.\n",
            "  with amp.autocast(autocast):\n"
          ]
        },
        {
          "output_type": "stream",
          "name": "stdout",
          "text": [
            "  Leaf 1: Detected (Conf: 0.50), Classified as 'Green Cotton Boll' (Conf: 1.00)\n",
            "  Annotated image saved to: /content/drive/MyDrive/cotton_project/pipeline_results/annotated_Green Cotton Boll_test_1240.jpg\n",
            "\n",
            "Processing: test_47.jpg\n"
          ]
        },
        {
          "output_type": "stream",
          "name": "stderr",
          "text": [
            "/root/.cache/torch/hub/ultralytics_yolov5_master/models/common.py:906: FutureWarning: `torch.cuda.amp.autocast(args...)` is deprecated. Please use `torch.amp.autocast('cuda', args...)` instead.\n",
            "  with amp.autocast(autocast):\n"
          ]
        },
        {
          "output_type": "stream",
          "name": "stdout",
          "text": [
            "  Leaf 1: Detected (Conf: 0.66), Classified as 'Curl Virus' (Conf: 1.00)\n",
            "  Annotated image saved to: /content/drive/MyDrive/cotton_project/pipeline_results/annotated_Curl Virus_test_47.jpg\n",
            "\n",
            "Processing: test_1223.jpg\n"
          ]
        },
        {
          "output_type": "stream",
          "name": "stderr",
          "text": [
            "/root/.cache/torch/hub/ultralytics_yolov5_master/models/common.py:906: FutureWarning: `torch.cuda.amp.autocast(args...)` is deprecated. Please use `torch.amp.autocast('cuda', args...)` instead.\n",
            "  with amp.autocast(autocast):\n"
          ]
        },
        {
          "output_type": "stream",
          "name": "stdout",
          "text": [
            "  Leaf 1: Detected (Conf: 0.44), Classified as 'Aphids' (Conf: 0.99)\n",
            "  Annotated image saved to: /content/drive/MyDrive/cotton_project/pipeline_results/annotated_Aphids_test_1223.jpg\n",
            "\n",
            "Processing: test_578.jpg\n"
          ]
        },
        {
          "output_type": "stream",
          "name": "stderr",
          "text": [
            "/root/.cache/torch/hub/ultralytics_yolov5_master/models/common.py:906: FutureWarning: `torch.cuda.amp.autocast(args...)` is deprecated. Please use `torch.amp.autocast('cuda', args...)` instead.\n",
            "  with amp.autocast(autocast):\n"
          ]
        },
        {
          "output_type": "stream",
          "name": "stdout",
          "text": [
            "  Leaf 1: Detected (Conf: 0.51), Classified as 'Cotton Boll Rot' (Conf: 1.00)\n",
            "  Annotated image saved to: /content/drive/MyDrive/cotton_project/pipeline_results/annotated_Cotton Boll Rot_test_578.jpg\n",
            "\n",
            "Processing: test_552.jpg\n"
          ]
        },
        {
          "output_type": "stream",
          "name": "stderr",
          "text": [
            "/root/.cache/torch/hub/ultralytics_yolov5_master/models/common.py:906: FutureWarning: `torch.cuda.amp.autocast(args...)` is deprecated. Please use `torch.amp.autocast('cuda', args...)` instead.\n",
            "  with amp.autocast(autocast):\n"
          ]
        },
        {
          "output_type": "stream",
          "name": "stdout",
          "text": [
            "  Leaf 1: Detected (Conf: 0.50), Classified as 'Bacterial Blight' (Conf: 0.63)\n",
            "  Annotated image saved to: /content/drive/MyDrive/cotton_project/pipeline_results/annotated_Bacterial Blight_test_552.jpg\n",
            "\n",
            "Processing: test_1013.jpg\n"
          ]
        },
        {
          "output_type": "stream",
          "name": "stderr",
          "text": [
            "/root/.cache/torch/hub/ultralytics_yolov5_master/models/common.py:906: FutureWarning: `torch.cuda.amp.autocast(args...)` is deprecated. Please use `torch.amp.autocast('cuda', args...)` instead.\n",
            "  with amp.autocast(autocast):\n"
          ]
        },
        {
          "output_type": "stream",
          "name": "stdout",
          "text": [
            "  Leaf 1: Detected (Conf: 0.56), Classified as 'Aphids' (Conf: 1.00)\n",
            "  Annotated image saved to: /content/drive/MyDrive/cotton_project/pipeline_results/annotated_Aphids_test_1013.jpg\n",
            "\n",
            "Processing: test_1144.jpg\n"
          ]
        },
        {
          "output_type": "stream",
          "name": "stderr",
          "text": [
            "/root/.cache/torch/hub/ultralytics_yolov5_master/models/common.py:906: FutureWarning: `torch.cuda.amp.autocast(args...)` is deprecated. Please use `torch.amp.autocast('cuda', args...)` instead.\n",
            "  with amp.autocast(autocast):\n"
          ]
        },
        {
          "output_type": "stream",
          "name": "stdout",
          "text": [
            "  Leaf 1: Detected (Conf: 0.61), Classified as 'Fussarium Wilt' (Conf: 1.00)\n",
            "  Annotated image saved to: /content/drive/MyDrive/cotton_project/pipeline_results/annotated_Fussarium Wilt_test_1144.jpg\n",
            "\n",
            "Processing: test_816.jpg\n"
          ]
        },
        {
          "output_type": "stream",
          "name": "stderr",
          "text": [
            "/root/.cache/torch/hub/ultralytics_yolov5_master/models/common.py:906: FutureWarning: `torch.cuda.amp.autocast(args...)` is deprecated. Please use `torch.amp.autocast('cuda', args...)` instead.\n",
            "  with amp.autocast(autocast):\n"
          ]
        },
        {
          "output_type": "stream",
          "name": "stdout",
          "text": [
            "  Leaf 1: Detected (Conf: 0.38), Classified as 'Fussarium Wilt' (Conf: 1.00)\n",
            "  Annotated image saved to: /content/drive/MyDrive/cotton_project/pipeline_results/annotated_Fussarium Wilt_test_816.jpg\n",
            "\n",
            "Processing: test_297.jpg\n"
          ]
        },
        {
          "output_type": "stream",
          "name": "stderr",
          "text": [
            "/root/.cache/torch/hub/ultralytics_yolov5_master/models/common.py:906: FutureWarning: `torch.cuda.amp.autocast(args...)` is deprecated. Please use `torch.amp.autocast('cuda', args...)` instead.\n",
            "  with amp.autocast(autocast):\n",
            "/root/.cache/torch/hub/ultralytics_yolov5_master/models/common.py:906: FutureWarning: `torch.cuda.amp.autocast(args...)` is deprecated. Please use `torch.amp.autocast('cuda', args...)` instead.\n",
            "  with amp.autocast(autocast):\n",
            "/root/.cache/torch/hub/ultralytics_yolov5_master/models/common.py:906: FutureWarning: `torch.cuda.amp.autocast(args...)` is deprecated. Please use `torch.amp.autocast('cuda', args...)` instead.\n",
            "  with amp.autocast(autocast):\n",
            "/root/.cache/torch/hub/ultralytics_yolov5_master/models/common.py:906: FutureWarning: `torch.cuda.amp.autocast(args...)` is deprecated. Please use `torch.amp.autocast('cuda', args...)` instead.\n",
            "  with amp.autocast(autocast):\n"
          ]
        },
        {
          "output_type": "stream",
          "name": "stdout",
          "text": [
            "  Leaf 1: Detected (Conf: 0.77), Classified as 'Bacterial Blight' (Conf: 1.00)\n",
            "  Leaf 2: Detected (Conf: 0.26), Classified as 'Bacterial Blight' (Conf: 0.76)\n",
            "  Annotated image saved to: /content/drive/MyDrive/cotton_project/pipeline_results/annotated_Bacterial Blight_test_297.jpg\n",
            "\n",
            "Processing: test_481.jpg\n",
            "  Leaf 1: Detected (Conf: 0.43), Classified as 'Powdery mildew' (Conf: 1.00)\n",
            "  Annotated image saved to: /content/drive/MyDrive/cotton_project/pipeline_results/annotated_Powdery mildew_test_481.jpg\n",
            "\n",
            "Processing: test_782.jpg\n",
            "  Leaf 1: Detected (Conf: 0.71), Classified as 'Target Spot' (Conf: 1.00)\n",
            "  Annotated image saved to: /content/drive/MyDrive/cotton_project/pipeline_results/annotated_Target Spot_test_782.jpg\n",
            "\n",
            "Processing: test_776.jpg\n",
            "  Leaf 1: Detected (Conf: 0.66), Classified as 'Target Spot' (Conf: 1.00)\n",
            "  Annotated image saved to: /content/drive/MyDrive/cotton_project/pipeline_results/annotated_Target Spot_test_776.jpg\n",
            "\n",
            "Processing: test_886.jpg\n"
          ]
        },
        {
          "output_type": "stream",
          "name": "stderr",
          "text": [
            "/root/.cache/torch/hub/ultralytics_yolov5_master/models/common.py:906: FutureWarning: `torch.cuda.amp.autocast(args...)` is deprecated. Please use `torch.amp.autocast('cuda', args...)` instead.\n",
            "  with amp.autocast(autocast):\n"
          ]
        },
        {
          "output_type": "stream",
          "name": "stdout",
          "text": [
            "  Leaf 1: Detected (Conf: 0.29), Classified as 'Healthy' (Conf: 1.00)\n",
            "  Annotated image saved to: /content/drive/MyDrive/cotton_project/pipeline_results/annotated_Healthy_test_886.jpg\n",
            "\n",
            "Processing: test_58.jpg\n"
          ]
        },
        {
          "output_type": "stream",
          "name": "stderr",
          "text": [
            "/root/.cache/torch/hub/ultralytics_yolov5_master/models/common.py:906: FutureWarning: `torch.cuda.amp.autocast(args...)` is deprecated. Please use `torch.amp.autocast('cuda', args...)` instead.\n",
            "  with amp.autocast(autocast):\n"
          ]
        },
        {
          "output_type": "stream",
          "name": "stdout",
          "text": [
            "  Leaf 1: Detected (Conf: 0.67), Classified as 'Green Cotton Boll' (Conf: 1.00)\n",
            "  Annotated image saved to: /content/drive/MyDrive/cotton_project/pipeline_results/annotated_Green Cotton Boll_test_58.jpg\n",
            "\n",
            "Processing: test_131.jpg\n"
          ]
        },
        {
          "output_type": "stream",
          "name": "stderr",
          "text": [
            "/root/.cache/torch/hub/ultralytics_yolov5_master/models/common.py:906: FutureWarning: `torch.cuda.amp.autocast(args...)` is deprecated. Please use `torch.amp.autocast('cuda', args...)` instead.\n",
            "  with amp.autocast(autocast):\n"
          ]
        },
        {
          "output_type": "stream",
          "name": "stdout",
          "text": [
            "  Leaf 1: Detected (Conf: 0.29), Classified as 'Green Cotton Boll' (Conf: 1.00)\n",
            "  Annotated image saved to: /content/drive/MyDrive/cotton_project/pipeline_results/annotated_Green Cotton Boll_test_131.jpg\n",
            "\n",
            "Processing: test_363.jpg\n"
          ]
        },
        {
          "output_type": "stream",
          "name": "stderr",
          "text": [
            "/root/.cache/torch/hub/ultralytics_yolov5_master/models/common.py:906: FutureWarning: `torch.cuda.amp.autocast(args...)` is deprecated. Please use `torch.amp.autocast('cuda', args...)` instead.\n",
            "  with amp.autocast(autocast):\n"
          ]
        },
        {
          "output_type": "stream",
          "name": "stdout",
          "text": [
            "  Leaf 1: Detected (Conf: 0.69), Classified as 'Curl Virus' (Conf: 1.00)\n",
            "  Annotated image saved to: /content/drive/MyDrive/cotton_project/pipeline_results/annotated_Curl Virus_test_363.jpg\n",
            "\n",
            "Processing: test_33.jpg\n"
          ]
        },
        {
          "output_type": "stream",
          "name": "stderr",
          "text": [
            "/root/.cache/torch/hub/ultralytics_yolov5_master/models/common.py:906: FutureWarning: `torch.cuda.amp.autocast(args...)` is deprecated. Please use `torch.amp.autocast('cuda', args...)` instead.\n",
            "  with amp.autocast(autocast):\n",
            "/root/.cache/torch/hub/ultralytics_yolov5_master/models/common.py:906: FutureWarning: `torch.cuda.amp.autocast(args...)` is deprecated. Please use `torch.amp.autocast('cuda', args...)` instead.\n",
            "  with amp.autocast(autocast):\n",
            "/root/.cache/torch/hub/ultralytics_yolov5_master/models/common.py:906: FutureWarning: `torch.cuda.amp.autocast(args...)` is deprecated. Please use `torch.amp.autocast('cuda', args...)` instead.\n",
            "  with amp.autocast(autocast):\n"
          ]
        },
        {
          "output_type": "stream",
          "name": "stdout",
          "text": [
            "  Leaf 1: Detected (Conf: 0.44), Classified as 'Green Cotton Boll' (Conf: 1.00)\n",
            "  Annotated image saved to: /content/drive/MyDrive/cotton_project/pipeline_results/annotated_Green Cotton Boll_test_33.jpg\n",
            "\n",
            "Processing: test_572.jpg\n",
            "  Leaf 1: Detected (Conf: 0.47), Classified as 'Powdery mildew' (Conf: 1.00)\n",
            "  Annotated image saved to: /content/drive/MyDrive/cotton_project/pipeline_results/annotated_Powdery mildew_test_572.jpg\n",
            "\n",
            "Processing: test_927.jpg\n",
            "  Leaf 1: Detected (Conf: 0.58), Classified as 'Target Spot' (Conf: 1.00)\n",
            "  Annotated image saved to: /content/drive/MyDrive/cotton_project/pipeline_results/annotated_Target Spot_test_927.jpg\n",
            "\n",
            "Processing: test_1022.jpg\n"
          ]
        },
        {
          "output_type": "stream",
          "name": "stderr",
          "text": [
            "/root/.cache/torch/hub/ultralytics_yolov5_master/models/common.py:906: FutureWarning: `torch.cuda.amp.autocast(args...)` is deprecated. Please use `torch.amp.autocast('cuda', args...)` instead.\n",
            "  with amp.autocast(autocast):\n",
            "/root/.cache/torch/hub/ultralytics_yolov5_master/models/common.py:906: FutureWarning: `torch.cuda.amp.autocast(args...)` is deprecated. Please use `torch.amp.autocast('cuda', args...)` instead.\n",
            "  with amp.autocast(autocast):\n",
            "/root/.cache/torch/hub/ultralytics_yolov5_master/models/common.py:906: FutureWarning: `torch.cuda.amp.autocast(args...)` is deprecated. Please use `torch.amp.autocast('cuda', args...)` instead.\n",
            "  with amp.autocast(autocast):\n",
            "/root/.cache/torch/hub/ultralytics_yolov5_master/models/common.py:906: FutureWarning: `torch.cuda.amp.autocast(args...)` is deprecated. Please use `torch.amp.autocast('cuda', args...)` instead.\n",
            "  with amp.autocast(autocast):\n"
          ]
        },
        {
          "output_type": "stream",
          "name": "stdout",
          "text": [
            "  Leaf 1: Detected (Conf: 0.60), Classified as 'Healthy' (Conf: 0.97)\n",
            "  Annotated image saved to: /content/drive/MyDrive/cotton_project/pipeline_results/annotated_Healthy_test_1022.jpg\n",
            "\n",
            "Processing: test_353.jpg\n",
            "  Leaf 1: Detected (Conf: 0.35), Classified as 'Target Spot' (Conf: 0.99)\n",
            "  Annotated image saved to: /content/drive/MyDrive/cotton_project/pipeline_results/annotated_Target Spot_test_353.jpg\n",
            "\n",
            "Processing: test_861.jpg\n",
            "  Leaf 1: Detected (Conf: 0.59), Classified as 'Target Spot' (Conf: 1.00)\n",
            "  Annotated image saved to: /content/drive/MyDrive/cotton_project/pipeline_results/annotated_Target Spot_test_861.jpg\n",
            "\n",
            "Processing: test_175.jpg\n",
            "  Leaf 1: Detected (Conf: 0.36), Classified as 'Aphids' (Conf: 1.00)\n",
            "  Annotated image saved to: /content/drive/MyDrive/cotton_project/pipeline_results/annotated_Aphids_test_175.jpg\n",
            "\n",
            "Processing: test_807.jpg\n"
          ]
        },
        {
          "output_type": "stream",
          "name": "stderr",
          "text": [
            "/root/.cache/torch/hub/ultralytics_yolov5_master/models/common.py:906: FutureWarning: `torch.cuda.amp.autocast(args...)` is deprecated. Please use `torch.amp.autocast('cuda', args...)` instead.\n",
            "  with amp.autocast(autocast):\n",
            "/root/.cache/torch/hub/ultralytics_yolov5_master/models/common.py:906: FutureWarning: `torch.cuda.amp.autocast(args...)` is deprecated. Please use `torch.amp.autocast('cuda', args...)` instead.\n",
            "  with amp.autocast(autocast):\n",
            "/root/.cache/torch/hub/ultralytics_yolov5_master/models/common.py:906: FutureWarning: `torch.cuda.amp.autocast(args...)` is deprecated. Please use `torch.amp.autocast('cuda', args...)` instead.\n",
            "  with amp.autocast(autocast):\n"
          ]
        },
        {
          "output_type": "stream",
          "name": "stdout",
          "text": [
            "  Leaf 1: Detected (Conf: 0.65), Classified as 'Fussarium Wilt' (Conf: 1.00)\n",
            "  Annotated image saved to: /content/drive/MyDrive/cotton_project/pipeline_results/annotated_Fussarium Wilt_test_807.jpg\n",
            "\n",
            "Processing: test_265.jpg\n",
            "  Leaf 1: Detected (Conf: 0.56), Classified as 'Powdery mildew' (Conf: 1.00)\n",
            "  Annotated image saved to: /content/drive/MyDrive/cotton_project/pipeline_results/annotated_Aphids_test_265.jpg\n",
            "\n",
            "Processing: test_428.jpg\n",
            "  Leaf 1: Detected (Conf: 0.38), Classified as 'Aphids' (Conf: 1.00)\n",
            "  Annotated image saved to: /content/drive/MyDrive/cotton_project/pipeline_results/annotated_Aphids_test_428.jpg\n",
            "\n",
            "Processing: test_333.jpg\n"
          ]
        },
        {
          "output_type": "stream",
          "name": "stderr",
          "text": [
            "/root/.cache/torch/hub/ultralytics_yolov5_master/models/common.py:906: FutureWarning: `torch.cuda.amp.autocast(args...)` is deprecated. Please use `torch.amp.autocast('cuda', args...)` instead.\n",
            "  with amp.autocast(autocast):\n"
          ]
        },
        {
          "output_type": "stream",
          "name": "stdout",
          "text": [
            "  Leaf 1: Detected (Conf: 0.70), Classified as 'Green Cotton Boll' (Conf: 1.00)\n",
            "  Annotated image saved to: /content/drive/MyDrive/cotton_project/pipeline_results/annotated_Green Cotton Boll_test_333.jpg\n",
            "\n",
            "Processing: test_1198.jpg\n"
          ]
        },
        {
          "output_type": "stream",
          "name": "stderr",
          "text": [
            "/root/.cache/torch/hub/ultralytics_yolov5_master/models/common.py:906: FutureWarning: `torch.cuda.amp.autocast(args...)` is deprecated. Please use `torch.amp.autocast('cuda', args...)` instead.\n",
            "  with amp.autocast(autocast):\n",
            "/root/.cache/torch/hub/ultralytics_yolov5_master/models/common.py:906: FutureWarning: `torch.cuda.amp.autocast(args...)` is deprecated. Please use `torch.amp.autocast('cuda', args...)` instead.\n",
            "  with amp.autocast(autocast):\n",
            "/root/.cache/torch/hub/ultralytics_yolov5_master/models/common.py:906: FutureWarning: `torch.cuda.amp.autocast(args...)` is deprecated. Please use `torch.amp.autocast('cuda', args...)` instead.\n",
            "  with amp.autocast(autocast):\n",
            "/root/.cache/torch/hub/ultralytics_yolov5_master/models/common.py:906: FutureWarning: `torch.cuda.amp.autocast(args...)` is deprecated. Please use `torch.amp.autocast('cuda', args...)` instead.\n",
            "  with amp.autocast(autocast):\n"
          ]
        },
        {
          "output_type": "stream",
          "name": "stdout",
          "text": [
            "  Leaf 1: Detected (Conf: 0.50), Classified as 'Bacterial Blight' (Conf: 1.00)\n",
            "  Annotated image saved to: /content/drive/MyDrive/cotton_project/pipeline_results/annotated_Bacterial Blight_test_1198.jpg\n",
            "\n",
            "Processing: test_670.jpg\n",
            "  Leaf 1: Detected (Conf: 0.42), Classified as 'Powdery mildew' (Conf: 0.99)\n",
            "  Annotated image saved to: /content/drive/MyDrive/cotton_project/pipeline_results/annotated_Powdery mildew_test_670.jpg\n",
            "\n",
            "Processing: test_824.jpg\n",
            "  Leaf 1: Detected (Conf: 0.45), Classified as 'Powdery mildew' (Conf: 1.00)\n",
            "  Annotated image saved to: /content/drive/MyDrive/cotton_project/pipeline_results/annotated_Powdery mildew_test_824.jpg\n",
            "\n",
            "Processing: test_106.jpg\n",
            "  Leaf 1: Detected (Conf: 0.35), Classified as 'Aphids' (Conf: 1.00)\n",
            "  Annotated image saved to: /content/drive/MyDrive/cotton_project/pipeline_results/annotated_Aphids_test_106.jpg\n",
            "\n",
            "Processing: test_917.jpg\n"
          ]
        },
        {
          "output_type": "stream",
          "name": "stderr",
          "text": [
            "/root/.cache/torch/hub/ultralytics_yolov5_master/models/common.py:906: FutureWarning: `torch.cuda.amp.autocast(args...)` is deprecated. Please use `torch.amp.autocast('cuda', args...)` instead.\n",
            "  with amp.autocast(autocast):\n",
            "/root/.cache/torch/hub/ultralytics_yolov5_master/models/common.py:906: FutureWarning: `torch.cuda.amp.autocast(args...)` is deprecated. Please use `torch.amp.autocast('cuda', args...)` instead.\n",
            "  with amp.autocast(autocast):\n"
          ]
        },
        {
          "output_type": "stream",
          "name": "stdout",
          "text": [
            "  No cotton leaves detected in test_917.jpg.\n",
            "\n",
            "Processing: test_128.jpg\n",
            "  Leaf 1: Detected (Conf: 0.40), Classified as 'Powdery mildew' (Conf: 1.00)\n",
            "  Annotated image saved to: /content/drive/MyDrive/cotton_project/pipeline_results/annotated_Powdery mildew_test_128.jpg\n",
            "\n",
            "Processing: test_1102.jpg\n"
          ]
        },
        {
          "output_type": "stream",
          "name": "stderr",
          "text": [
            "/root/.cache/torch/hub/ultralytics_yolov5_master/models/common.py:906: FutureWarning: `torch.cuda.amp.autocast(args...)` is deprecated. Please use `torch.amp.autocast('cuda', args...)` instead.\n",
            "  with amp.autocast(autocast):\n"
          ]
        },
        {
          "output_type": "stream",
          "name": "stdout",
          "text": [
            "  Leaf 1: Detected (Conf: 0.34), Classified as 'Cotton Boll Rot' (Conf: 1.00)\n",
            "  Annotated image saved to: /content/drive/MyDrive/cotton_project/pipeline_results/annotated_Cotton Boll Rot_test_1102.jpg\n",
            "\n",
            "Processing: test_931.jpg\n"
          ]
        },
        {
          "output_type": "stream",
          "name": "stderr",
          "text": [
            "/root/.cache/torch/hub/ultralytics_yolov5_master/models/common.py:906: FutureWarning: `torch.cuda.amp.autocast(args...)` is deprecated. Please use `torch.amp.autocast('cuda', args...)` instead.\n",
            "  with amp.autocast(autocast):\n"
          ]
        },
        {
          "output_type": "stream",
          "name": "stdout",
          "text": [
            "  Leaf 1: Detected (Conf: 0.44), Classified as 'Healthy' (Conf: 1.00)\n",
            "  Annotated image saved to: /content/drive/MyDrive/cotton_project/pipeline_results/annotated_Healthy_test_931.jpg\n",
            "\n",
            "Processing: test_869.jpg\n"
          ]
        },
        {
          "output_type": "stream",
          "name": "stderr",
          "text": [
            "/root/.cache/torch/hub/ultralytics_yolov5_master/models/common.py:906: FutureWarning: `torch.cuda.amp.autocast(args...)` is deprecated. Please use `torch.amp.autocast('cuda', args...)` instead.\n",
            "  with amp.autocast(autocast):\n"
          ]
        },
        {
          "output_type": "stream",
          "name": "stdout",
          "text": [
            "  Leaf 1: Detected (Conf: 0.65), Classified as 'Green Cotton Boll' (Conf: 1.00)\n",
            "  Annotated image saved to: /content/drive/MyDrive/cotton_project/pipeline_results/annotated_Green Cotton Boll_test_869.jpg\n",
            "\n",
            "Processing: test_610.jpg\n"
          ]
        },
        {
          "output_type": "stream",
          "name": "stderr",
          "text": [
            "/root/.cache/torch/hub/ultralytics_yolov5_master/models/common.py:906: FutureWarning: `torch.cuda.amp.autocast(args...)` is deprecated. Please use `torch.amp.autocast('cuda', args...)` instead.\n",
            "  with amp.autocast(autocast):\n"
          ]
        },
        {
          "output_type": "stream",
          "name": "stdout",
          "text": [
            "  Leaf 1: Detected (Conf: 0.39), Classified as 'Cotton Boll Rot' (Conf: 1.00)\n",
            "  Annotated image saved to: /content/drive/MyDrive/cotton_project/pipeline_results/annotated_Cotton Boll Rot_test_610.jpg\n",
            "\n",
            "Processing: test_452.jpg\n"
          ]
        },
        {
          "output_type": "stream",
          "name": "stderr",
          "text": [
            "/root/.cache/torch/hub/ultralytics_yolov5_master/models/common.py:906: FutureWarning: `torch.cuda.amp.autocast(args...)` is deprecated. Please use `torch.amp.autocast('cuda', args...)` instead.\n",
            "  with amp.autocast(autocast):\n"
          ]
        },
        {
          "output_type": "stream",
          "name": "stdout",
          "text": [
            "  Leaf 1: Detected (Conf: 0.43), Classified as 'Cotton Boll Rot' (Conf: 1.00)\n",
            "  Annotated image saved to: /content/drive/MyDrive/cotton_project/pipeline_results/annotated_Cotton Boll Rot_test_452.jpg\n",
            "\n",
            "Processing: test_44.jpg\n"
          ]
        },
        {
          "output_type": "stream",
          "name": "stderr",
          "text": [
            "/root/.cache/torch/hub/ultralytics_yolov5_master/models/common.py:906: FutureWarning: `torch.cuda.amp.autocast(args...)` is deprecated. Please use `torch.amp.autocast('cuda', args...)` instead.\n",
            "  with amp.autocast(autocast):\n"
          ]
        },
        {
          "output_type": "stream",
          "name": "stdout",
          "text": [
            "  Leaf 1: Detected (Conf: 0.66), Classified as 'Green Cotton Boll' (Conf: 1.00)\n",
            "  Annotated image saved to: /content/drive/MyDrive/cotton_project/pipeline_results/annotated_Green Cotton Boll_test_44.jpg\n",
            "\n",
            "Processing: test_187.jpg\n"
          ]
        },
        {
          "output_type": "stream",
          "name": "stderr",
          "text": [
            "/root/.cache/torch/hub/ultralytics_yolov5_master/models/common.py:906: FutureWarning: `torch.cuda.amp.autocast(args...)` is deprecated. Please use `torch.amp.autocast('cuda', args...)` instead.\n",
            "  with amp.autocast(autocast):\n",
            "/root/.cache/torch/hub/ultralytics_yolov5_master/models/common.py:906: FutureWarning: `torch.cuda.amp.autocast(args...)` is deprecated. Please use `torch.amp.autocast('cuda', args...)` instead.\n",
            "  with amp.autocast(autocast):\n"
          ]
        },
        {
          "output_type": "stream",
          "name": "stdout",
          "text": [
            "  Leaf 1: Detected (Conf: 0.78), Classified as 'Bacterial Blight' (Conf: 1.00)\n",
            "  Annotated image saved to: /content/drive/MyDrive/cotton_project/pipeline_results/annotated_Bacterial Blight_test_187.jpg\n",
            "\n",
            "Processing: test_1041.jpg\n",
            "  Leaf 1: Detected (Conf: 0.29), Classified as 'Powdery mildew' (Conf: 1.00)\n",
            "  Annotated image saved to: /content/drive/MyDrive/cotton_project/pipeline_results/annotated_Powdery mildew_test_1041.jpg\n",
            "\n",
            "Processing: test_78.jpg\n",
            "  Leaf 1: Detected (Conf: 0.41), Classified as 'Green Cotton Boll' (Conf: 1.00)\n",
            "  Annotated image saved to: /content/drive/MyDrive/cotton_project/pipeline_results/annotated_Green Cotton Boll_test_78.jpg\n",
            "\n",
            "Processing: test_268.jpg\n",
            "  Leaf 1: Detected (Conf: 0.58), Classified as 'Target Spot' (Conf: 1.00)\n",
            "  Annotated image saved to: /content/drive/MyDrive/cotton_project/pipeline_results/annotated_Target Spot_test_268.jpg\n",
            "--- Finished batch processing. Results saved to: /content/drive/MyDrive/cotton_project/pipeline_results ---\n"
          ]
        },
        {
          "output_type": "stream",
          "name": "stderr",
          "text": [
            "/root/.cache/torch/hub/ultralytics_yolov5_master/models/common.py:906: FutureWarning: `torch.cuda.amp.autocast(args...)` is deprecated. Please use `torch.amp.autocast('cuda', args...)` instead.\n",
            "  with amp.autocast(autocast):\n",
            "/root/.cache/torch/hub/ultralytics_yolov5_master/models/common.py:906: FutureWarning: `torch.cuda.amp.autocast(args...)` is deprecated. Please use `torch.amp.autocast('cuda', args...)` instead.\n",
            "  with amp.autocast(autocast):\n"
          ]
        }
      ]
    }
  ]
}